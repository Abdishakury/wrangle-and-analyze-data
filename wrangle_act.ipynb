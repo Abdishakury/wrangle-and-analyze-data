{
 "cells": [
  {
   "cell_type": "markdown",
   "metadata": {},
   "source": [
    "# Wrangle & Analyze \"WeRateDogs\" Data\n"
   ]
  },
  {
   "cell_type": "markdown",
   "metadata": {},
   "source": [
    "\n",
    "![caption](files/dogs.PNG)"
   ]
  },
  {
   "cell_type": "markdown",
   "metadata": {},
   "source": [
    "\n",
    "# Project 5: Data Wrangling by Abdishakur Y. Yoonis\n",
    "\n",
    "## Table of Contents\n",
    "<ul>\n",
    "<li><a href=\"#intro\">Introduction</a></li>\n",
    "<li><a href=\"#gather\">Gathering data</a></li>\n",
    "<li><a href=\"#assess\">Assessing data</a></li>\n",
    "<li><a href=\"#clean\">Cleaning data</a></li>\n",
    "\n",
    "<li><a href=\"#analysis\">Storing, Analyzing, and Visualizing Data</a></li>\n",
    "    <ul>\n",
    "        <li><a href=\"#insight1\">Insight 1</a></li>\n",
    "        <li><a href=\"#insight2\">Insight 2</a></li>\n",
    "        <li><a href=\"#insight3\">Insight 3</a></li>\n",
    "        <li><a href=\"#insight4\">Insight 4</a></li>\n",
    "        <li><a href=\"#insight5\">Insight 5</a></li>\n",
    "    </ul>\n",
    "</ul>\n"
   ]
  },
  {
   "cell_type": "markdown",
   "metadata": {},
   "source": [
    "<a id='intro'></a>\n",
    "## Introduction\n",
    "\n"
   ]
  },
  {
   "cell_type": "markdown",
   "metadata": {},
   "source": [
    "The main goal of this project is to demonstrate the data wrangling abilities and skills those we learnt as part of the Udacity Data Analysis Nanodegree program.\n",
    "\n",
    "In this data wrangling project I will gather, assess and clean twitter posts from Twitter user @dog_rates, also known as WeRateDogs. WeRateDogs is a Twitter account that rates people's dogs with a humorous comment about the dog. These ratings almost always have a denominator of 10. This project will download 5000+ of their tweets as they stood on August 1, 2017.\n"
   ]
  },
  {
   "cell_type": "markdown",
   "metadata": {},
   "source": [
    "<a id='gather'></a>\n",
    "## Gathering data"
   ]
  },
  {
   "cell_type": "markdown",
   "metadata": {},
   "source": [
    "**1. Twitter archive file**\n",
    "\n",
    "The file \"twitter_archive_enhanced.csv\" downloaded manually from Udacity resources    "
   ]
  },
  {
   "cell_type": "code",
   "execution_count": 1,
   "metadata": {},
   "outputs": [],
   "source": [
    "# import all essential packages required\n",
    "import pandas as pd\n",
    "import numpy as np\n",
    "from numpy import median\n",
    "import matplotlib.pyplot as plt\n",
    "%matplotlib inline\n",
    "import requests\n",
    "from functools import reduce\n",
    "from datetime import datetime\n",
    "import matplotlib.dates as mdates\n",
    "import os\n",
    "import tweepy \n",
    "import json \n",
    "import re\n",
    "import seaborn as sns\n",
    "import warnings\n",
    "warnings.simplefilter('ignore')\n",
    "\n",
    "# pandas settings\n",
    "pd.set_option('display.max_colwidth', -1)\n",
    "sns.set_style('darkgrid')\n"
   ]
  },
  {
   "cell_type": "code",
   "execution_count": 2,
   "metadata": {},
   "outputs": [],
   "source": [
    "# loading twitter archive\n",
    "twitter_archive = pd.read_csv(\"twitter-archive-enhanced.csv\")\n",
    "# applying tweet id column as index\n",
    "twitter_archive.set_index(\"tweet_id\", inplace = True)"
   ]
  },
  {
   "cell_type": "code",
   "execution_count": 3,
   "metadata": {
    "scrolled": false
   },
   "outputs": [
    {
     "data": {
      "text/html": [
       "<div>\n",
       "<style scoped>\n",
       "    .dataframe tbody tr th:only-of-type {\n",
       "        vertical-align: middle;\n",
       "    }\n",
       "\n",
       "    .dataframe tbody tr th {\n",
       "        vertical-align: top;\n",
       "    }\n",
       "\n",
       "    .dataframe thead th {\n",
       "        text-align: right;\n",
       "    }\n",
       "</style>\n",
       "<table border=\"1\" class=\"dataframe\">\n",
       "  <thead>\n",
       "    <tr style=\"text-align: right;\">\n",
       "      <th></th>\n",
       "      <th>in_reply_to_status_id</th>\n",
       "      <th>in_reply_to_user_id</th>\n",
       "      <th>timestamp</th>\n",
       "      <th>source</th>\n",
       "      <th>text</th>\n",
       "      <th>retweeted_status_id</th>\n",
       "      <th>retweeted_status_user_id</th>\n",
       "      <th>retweeted_status_timestamp</th>\n",
       "      <th>expanded_urls</th>\n",
       "      <th>rating_numerator</th>\n",
       "      <th>rating_denominator</th>\n",
       "      <th>name</th>\n",
       "      <th>doggo</th>\n",
       "      <th>floofer</th>\n",
       "      <th>pupper</th>\n",
       "      <th>puppo</th>\n",
       "    </tr>\n",
       "    <tr>\n",
       "      <th>tweet_id</th>\n",
       "      <th></th>\n",
       "      <th></th>\n",
       "      <th></th>\n",
       "      <th></th>\n",
       "      <th></th>\n",
       "      <th></th>\n",
       "      <th></th>\n",
       "      <th></th>\n",
       "      <th></th>\n",
       "      <th></th>\n",
       "      <th></th>\n",
       "      <th></th>\n",
       "      <th></th>\n",
       "      <th></th>\n",
       "      <th></th>\n",
       "      <th></th>\n",
       "    </tr>\n",
       "  </thead>\n",
       "  <tbody>\n",
       "    <tr>\n",
       "      <th>892420643555336193</th>\n",
       "      <td>NaN</td>\n",
       "      <td>NaN</td>\n",
       "      <td>2017-08-01 16:23:56 +0000</td>\n",
       "      <td>&lt;a href=\"http://twitter.com/download/iphone\" rel=\"nofollow\"&gt;Twitter for iPhone&lt;/a&gt;</td>\n",
       "      <td>This is Phineas. He's a mystical boy. Only ever appears in the hole of a donut. 13/10 https://t.co/MgUWQ76dJU</td>\n",
       "      <td>NaN</td>\n",
       "      <td>NaN</td>\n",
       "      <td>NaN</td>\n",
       "      <td>https://twitter.com/dog_rates/status/892420643555336193/photo/1</td>\n",
       "      <td>13</td>\n",
       "      <td>10</td>\n",
       "      <td>Phineas</td>\n",
       "      <td>None</td>\n",
       "      <td>None</td>\n",
       "      <td>None</td>\n",
       "      <td>None</td>\n",
       "    </tr>\n",
       "    <tr>\n",
       "      <th>892177421306343426</th>\n",
       "      <td>NaN</td>\n",
       "      <td>NaN</td>\n",
       "      <td>2017-08-01 00:17:27 +0000</td>\n",
       "      <td>&lt;a href=\"http://twitter.com/download/iphone\" rel=\"nofollow\"&gt;Twitter for iPhone&lt;/a&gt;</td>\n",
       "      <td>This is Tilly. She's just checking pup on you. Hopes you're doing ok. If not, she's available for pats, snugs, boops, the whole bit. 13/10 https://t.co/0Xxu71qeIV</td>\n",
       "      <td>NaN</td>\n",
       "      <td>NaN</td>\n",
       "      <td>NaN</td>\n",
       "      <td>https://twitter.com/dog_rates/status/892177421306343426/photo/1</td>\n",
       "      <td>13</td>\n",
       "      <td>10</td>\n",
       "      <td>Tilly</td>\n",
       "      <td>None</td>\n",
       "      <td>None</td>\n",
       "      <td>None</td>\n",
       "      <td>None</td>\n",
       "    </tr>\n",
       "    <tr>\n",
       "      <th>891815181378084864</th>\n",
       "      <td>NaN</td>\n",
       "      <td>NaN</td>\n",
       "      <td>2017-07-31 00:18:03 +0000</td>\n",
       "      <td>&lt;a href=\"http://twitter.com/download/iphone\" rel=\"nofollow\"&gt;Twitter for iPhone&lt;/a&gt;</td>\n",
       "      <td>This is Archie. He is a rare Norwegian Pouncing Corgo. Lives in the tall grass. You never know when one may strike. 12/10 https://t.co/wUnZnhtVJB</td>\n",
       "      <td>NaN</td>\n",
       "      <td>NaN</td>\n",
       "      <td>NaN</td>\n",
       "      <td>https://twitter.com/dog_rates/status/891815181378084864/photo/1</td>\n",
       "      <td>12</td>\n",
       "      <td>10</td>\n",
       "      <td>Archie</td>\n",
       "      <td>None</td>\n",
       "      <td>None</td>\n",
       "      <td>None</td>\n",
       "      <td>None</td>\n",
       "    </tr>\n",
       "    <tr>\n",
       "      <th>891689557279858688</th>\n",
       "      <td>NaN</td>\n",
       "      <td>NaN</td>\n",
       "      <td>2017-07-30 15:58:51 +0000</td>\n",
       "      <td>&lt;a href=\"http://twitter.com/download/iphone\" rel=\"nofollow\"&gt;Twitter for iPhone&lt;/a&gt;</td>\n",
       "      <td>This is Darla. She commenced a snooze mid meal. 13/10 happens to the best of us https://t.co/tD36da7qLQ</td>\n",
       "      <td>NaN</td>\n",
       "      <td>NaN</td>\n",
       "      <td>NaN</td>\n",
       "      <td>https://twitter.com/dog_rates/status/891689557279858688/photo/1</td>\n",
       "      <td>13</td>\n",
       "      <td>10</td>\n",
       "      <td>Darla</td>\n",
       "      <td>None</td>\n",
       "      <td>None</td>\n",
       "      <td>None</td>\n",
       "      <td>None</td>\n",
       "    </tr>\n",
       "    <tr>\n",
       "      <th>891327558926688256</th>\n",
       "      <td>NaN</td>\n",
       "      <td>NaN</td>\n",
       "      <td>2017-07-29 16:00:24 +0000</td>\n",
       "      <td>&lt;a href=\"http://twitter.com/download/iphone\" rel=\"nofollow\"&gt;Twitter for iPhone&lt;/a&gt;</td>\n",
       "      <td>This is Franklin. He would like you to stop calling him \"cute.\" He is a very fierce shark and should be respected as such. 12/10 #BarkWeek https://t.co/AtUZn91f7f</td>\n",
       "      <td>NaN</td>\n",
       "      <td>NaN</td>\n",
       "      <td>NaN</td>\n",
       "      <td>https://twitter.com/dog_rates/status/891327558926688256/photo/1,https://twitter.com/dog_rates/status/891327558926688256/photo/1</td>\n",
       "      <td>12</td>\n",
       "      <td>10</td>\n",
       "      <td>Franklin</td>\n",
       "      <td>None</td>\n",
       "      <td>None</td>\n",
       "      <td>None</td>\n",
       "      <td>None</td>\n",
       "    </tr>\n",
       "  </tbody>\n",
       "</table>\n",
       "</div>"
      ],
      "text/plain": [
       "                    in_reply_to_status_id  in_reply_to_user_id  \\\n",
       "tweet_id                                                         \n",
       "892420643555336193 NaN                    NaN                    \n",
       "892177421306343426 NaN                    NaN                    \n",
       "891815181378084864 NaN                    NaN                    \n",
       "891689557279858688 NaN                    NaN                    \n",
       "891327558926688256 NaN                    NaN                    \n",
       "\n",
       "                                    timestamp  \\\n",
       "tweet_id                                        \n",
       "892420643555336193  2017-08-01 16:23:56 +0000   \n",
       "892177421306343426  2017-08-01 00:17:27 +0000   \n",
       "891815181378084864  2017-07-31 00:18:03 +0000   \n",
       "891689557279858688  2017-07-30 15:58:51 +0000   \n",
       "891327558926688256  2017-07-29 16:00:24 +0000   \n",
       "\n",
       "                                                                                                source  \\\n",
       "tweet_id                                                                                                 \n",
       "892420643555336193  <a href=\"http://twitter.com/download/iphone\" rel=\"nofollow\">Twitter for iPhone</a>   \n",
       "892177421306343426  <a href=\"http://twitter.com/download/iphone\" rel=\"nofollow\">Twitter for iPhone</a>   \n",
       "891815181378084864  <a href=\"http://twitter.com/download/iphone\" rel=\"nofollow\">Twitter for iPhone</a>   \n",
       "891689557279858688  <a href=\"http://twitter.com/download/iphone\" rel=\"nofollow\">Twitter for iPhone</a>   \n",
       "891327558926688256  <a href=\"http://twitter.com/download/iphone\" rel=\"nofollow\">Twitter for iPhone</a>   \n",
       "\n",
       "                                                                                                                                                                                  text  \\\n",
       "tweet_id                                                                                                                                                                                 \n",
       "892420643555336193  This is Phineas. He's a mystical boy. Only ever appears in the hole of a donut. 13/10 https://t.co/MgUWQ76dJU                                                        \n",
       "892177421306343426  This is Tilly. She's just checking pup on you. Hopes you're doing ok. If not, she's available for pats, snugs, boops, the whole bit. 13/10 https://t.co/0Xxu71qeIV   \n",
       "891815181378084864  This is Archie. He is a rare Norwegian Pouncing Corgo. Lives in the tall grass. You never know when one may strike. 12/10 https://t.co/wUnZnhtVJB                    \n",
       "891689557279858688  This is Darla. She commenced a snooze mid meal. 13/10 happens to the best of us https://t.co/tD36da7qLQ                                                              \n",
       "891327558926688256  This is Franklin. He would like you to stop calling him \"cute.\" He is a very fierce shark and should be respected as such. 12/10 #BarkWeek https://t.co/AtUZn91f7f   \n",
       "\n",
       "                    retweeted_status_id  retweeted_status_user_id  \\\n",
       "tweet_id                                                            \n",
       "892420643555336193 NaN                  NaN                         \n",
       "892177421306343426 NaN                  NaN                         \n",
       "891815181378084864 NaN                  NaN                         \n",
       "891689557279858688 NaN                  NaN                         \n",
       "891327558926688256 NaN                  NaN                         \n",
       "\n",
       "                   retweeted_status_timestamp  \\\n",
       "tweet_id                                        \n",
       "892420643555336193  NaN                         \n",
       "892177421306343426  NaN                         \n",
       "891815181378084864  NaN                         \n",
       "891689557279858688  NaN                         \n",
       "891327558926688256  NaN                         \n",
       "\n",
       "                                                                                                                                      expanded_urls  \\\n",
       "tweet_id                                                                                                                                              \n",
       "892420643555336193  https://twitter.com/dog_rates/status/892420643555336193/photo/1                                                                   \n",
       "892177421306343426  https://twitter.com/dog_rates/status/892177421306343426/photo/1                                                                   \n",
       "891815181378084864  https://twitter.com/dog_rates/status/891815181378084864/photo/1                                                                   \n",
       "891689557279858688  https://twitter.com/dog_rates/status/891689557279858688/photo/1                                                                   \n",
       "891327558926688256  https://twitter.com/dog_rates/status/891327558926688256/photo/1,https://twitter.com/dog_rates/status/891327558926688256/photo/1   \n",
       "\n",
       "                    rating_numerator  rating_denominator      name doggo  \\\n",
       "tweet_id                                                                   \n",
       "892420643555336193  13                10                  Phineas   None   \n",
       "892177421306343426  13                10                  Tilly     None   \n",
       "891815181378084864  12                10                  Archie    None   \n",
       "891689557279858688  13                10                  Darla     None   \n",
       "891327558926688256  12                10                  Franklin  None   \n",
       "\n",
       "                   floofer pupper puppo  \n",
       "tweet_id                                 \n",
       "892420643555336193  None    None   None  \n",
       "892177421306343426  None    None   None  \n",
       "891815181378084864  None    None   None  \n",
       "891689557279858688  None    None   None  \n",
       "891327558926688256  None    None   None  "
      ]
     },
     "execution_count": 3,
     "metadata": {},
     "output_type": "execute_result"
    }
   ],
   "source": [
    "# viewing few lines\n",
    "twitter_archive.head()"
   ]
  },
  {
   "cell_type": "code",
   "execution_count": 4,
   "metadata": {},
   "outputs": [
    {
     "name": "stdout",
     "output_type": "stream",
     "text": [
      "<class 'pandas.core.frame.DataFrame'>\n",
      "Int64Index: 2356 entries, 892420643555336193 to 666020888022790149\n",
      "Data columns (total 16 columns):\n",
      " #   Column                      Non-Null Count  Dtype  \n",
      "---  ------                      --------------  -----  \n",
      " 0   in_reply_to_status_id       78 non-null     float64\n",
      " 1   in_reply_to_user_id         78 non-null     float64\n",
      " 2   timestamp                   2356 non-null   object \n",
      " 3   source                      2356 non-null   object \n",
      " 4   text                        2356 non-null   object \n",
      " 5   retweeted_status_id         181 non-null    float64\n",
      " 6   retweeted_status_user_id    181 non-null    float64\n",
      " 7   retweeted_status_timestamp  181 non-null    object \n",
      " 8   expanded_urls               2297 non-null   object \n",
      " 9   rating_numerator            2356 non-null   int64  \n",
      " 10  rating_denominator          2356 non-null   int64  \n",
      " 11  name                        2356 non-null   object \n",
      " 12  doggo                       2356 non-null   object \n",
      " 13  floofer                     2356 non-null   object \n",
      " 14  pupper                      2356 non-null   object \n",
      " 15  puppo                       2356 non-null   object \n",
      "dtypes: float64(4), int64(2), object(10)\n",
      "memory usage: 312.9+ KB\n"
     ]
    }
   ],
   "source": [
    "# Information about the dataset\n",
    "twitter_archive.info()"
   ]
  },
  {
   "cell_type": "markdown",
   "metadata": {},
   "source": [
    "**2. Tweet image prediction**\n",
    "\n",
    "**The tweet image predictions**:\n",
    "i.e., what breed of dog (or other object, animal, etc.) is present in each tweet according to a neural network. This file (image_predictions.tsv) is hosted on Udacity's servers and should be downloaded programmatically using the Requests library and the following URL: https://d17h27t6h515a5.cloudfront.net/topher/2017/August/599fd2ad_image-predictions/image-predictions.tsv"
   ]
  },
  {
   "cell_type": "code",
   "execution_count": 5,
   "metadata": {},
   "outputs": [
    {
     "data": {
      "text/html": [
       "<div>\n",
       "<style scoped>\n",
       "    .dataframe tbody tr th:only-of-type {\n",
       "        vertical-align: middle;\n",
       "    }\n",
       "\n",
       "    .dataframe tbody tr th {\n",
       "        vertical-align: top;\n",
       "    }\n",
       "\n",
       "    .dataframe thead th {\n",
       "        text-align: right;\n",
       "    }\n",
       "</style>\n",
       "<table border=\"1\" class=\"dataframe\">\n",
       "  <thead>\n",
       "    <tr style=\"text-align: right;\">\n",
       "      <th></th>\n",
       "      <th>jpg_url</th>\n",
       "      <th>img_num</th>\n",
       "      <th>p1</th>\n",
       "      <th>p1_conf</th>\n",
       "      <th>p1_dog</th>\n",
       "      <th>p2</th>\n",
       "      <th>p2_conf</th>\n",
       "      <th>p2_dog</th>\n",
       "      <th>p3</th>\n",
       "      <th>p3_conf</th>\n",
       "      <th>p3_dog</th>\n",
       "    </tr>\n",
       "    <tr>\n",
       "      <th>tweet_id</th>\n",
       "      <th></th>\n",
       "      <th></th>\n",
       "      <th></th>\n",
       "      <th></th>\n",
       "      <th></th>\n",
       "      <th></th>\n",
       "      <th></th>\n",
       "      <th></th>\n",
       "      <th></th>\n",
       "      <th></th>\n",
       "      <th></th>\n",
       "    </tr>\n",
       "  </thead>\n",
       "  <tbody>\n",
       "    <tr>\n",
       "      <th>666020888022790149</th>\n",
       "      <td>https://pbs.twimg.com/media/CT4udn0WwAA0aMy.jpg</td>\n",
       "      <td>1</td>\n",
       "      <td>Welsh_springer_spaniel</td>\n",
       "      <td>0.465074</td>\n",
       "      <td>True</td>\n",
       "      <td>collie</td>\n",
       "      <td>0.156665</td>\n",
       "      <td>True</td>\n",
       "      <td>Shetland_sheepdog</td>\n",
       "      <td>0.061428</td>\n",
       "      <td>True</td>\n",
       "    </tr>\n",
       "    <tr>\n",
       "      <th>666029285002620928</th>\n",
       "      <td>https://pbs.twimg.com/media/CT42GRgUYAA5iDo.jpg</td>\n",
       "      <td>1</td>\n",
       "      <td>redbone</td>\n",
       "      <td>0.506826</td>\n",
       "      <td>True</td>\n",
       "      <td>miniature_pinscher</td>\n",
       "      <td>0.074192</td>\n",
       "      <td>True</td>\n",
       "      <td>Rhodesian_ridgeback</td>\n",
       "      <td>0.072010</td>\n",
       "      <td>True</td>\n",
       "    </tr>\n",
       "    <tr>\n",
       "      <th>666033412701032449</th>\n",
       "      <td>https://pbs.twimg.com/media/CT4521TWwAEvMyu.jpg</td>\n",
       "      <td>1</td>\n",
       "      <td>German_shepherd</td>\n",
       "      <td>0.596461</td>\n",
       "      <td>True</td>\n",
       "      <td>malinois</td>\n",
       "      <td>0.138584</td>\n",
       "      <td>True</td>\n",
       "      <td>bloodhound</td>\n",
       "      <td>0.116197</td>\n",
       "      <td>True</td>\n",
       "    </tr>\n",
       "    <tr>\n",
       "      <th>666044226329800704</th>\n",
       "      <td>https://pbs.twimg.com/media/CT5Dr8HUEAA-lEu.jpg</td>\n",
       "      <td>1</td>\n",
       "      <td>Rhodesian_ridgeback</td>\n",
       "      <td>0.408143</td>\n",
       "      <td>True</td>\n",
       "      <td>redbone</td>\n",
       "      <td>0.360687</td>\n",
       "      <td>True</td>\n",
       "      <td>miniature_pinscher</td>\n",
       "      <td>0.222752</td>\n",
       "      <td>True</td>\n",
       "    </tr>\n",
       "    <tr>\n",
       "      <th>666049248165822465</th>\n",
       "      <td>https://pbs.twimg.com/media/CT5IQmsXIAAKY4A.jpg</td>\n",
       "      <td>1</td>\n",
       "      <td>miniature_pinscher</td>\n",
       "      <td>0.560311</td>\n",
       "      <td>True</td>\n",
       "      <td>Rottweiler</td>\n",
       "      <td>0.243682</td>\n",
       "      <td>True</td>\n",
       "      <td>Doberman</td>\n",
       "      <td>0.154629</td>\n",
       "      <td>True</td>\n",
       "    </tr>\n",
       "  </tbody>\n",
       "</table>\n",
       "</div>"
      ],
      "text/plain": [
       "                                                            jpg_url  img_num  \\\n",
       "tweet_id                                                                       \n",
       "666020888022790149  https://pbs.twimg.com/media/CT4udn0WwAA0aMy.jpg  1         \n",
       "666029285002620928  https://pbs.twimg.com/media/CT42GRgUYAA5iDo.jpg  1         \n",
       "666033412701032449  https://pbs.twimg.com/media/CT4521TWwAEvMyu.jpg  1         \n",
       "666044226329800704  https://pbs.twimg.com/media/CT5Dr8HUEAA-lEu.jpg  1         \n",
       "666049248165822465  https://pbs.twimg.com/media/CT5IQmsXIAAKY4A.jpg  1         \n",
       "\n",
       "                                        p1   p1_conf  p1_dog  \\\n",
       "tweet_id                                                       \n",
       "666020888022790149  Welsh_springer_spaniel  0.465074  True     \n",
       "666029285002620928  redbone                 0.506826  True     \n",
       "666033412701032449  German_shepherd         0.596461  True     \n",
       "666044226329800704  Rhodesian_ridgeback     0.408143  True     \n",
       "666049248165822465  miniature_pinscher      0.560311  True     \n",
       "\n",
       "                                    p2   p2_conf  p2_dog                   p3  \\\n",
       "tweet_id                                                                        \n",
       "666020888022790149  collie              0.156665  True    Shetland_sheepdog     \n",
       "666029285002620928  miniature_pinscher  0.074192  True    Rhodesian_ridgeback   \n",
       "666033412701032449  malinois            0.138584  True    bloodhound            \n",
       "666044226329800704  redbone             0.360687  True    miniature_pinscher    \n",
       "666049248165822465  Rottweiler          0.243682  True    Doberman              \n",
       "\n",
       "                     p3_conf  p3_dog  \n",
       "tweet_id                              \n",
       "666020888022790149  0.061428  True    \n",
       "666029285002620928  0.072010  True    \n",
       "666033412701032449  0.116197  True    \n",
       "666044226329800704  0.222752  True    \n",
       "666049248165822465  0.154629  True    "
      ]
     },
     "execution_count": 5,
     "metadata": {},
     "output_type": "execute_result"
    }
   ],
   "source": [
    "# This URL was downloaded programatically \n",
    "# obtaining file with the image predictions\n",
    "url = 'https://d17h27t6h515a5.cloudfront.net/topher/2017/August/599fd2ad_image-predictions/image-predictions.tsv'\n",
    "with open('image-predictions.tsv' , 'wb') as file:\n",
    "    predictions = requests.get(url)\n",
    "    file.write(predictions.content)\n",
    "\n",
    "# loading image predictions\n",
    "image_prediction = pd.read_csv('image-predictions.tsv', sep = '\\t')\n",
    "# using tweet id column as index\n",
    "image_prediction.set_index(\"tweet_id\", inplace = True)\n",
    "# viewing few lines\n",
    "image_prediction.head()"
   ]
  },
  {
   "cell_type": "markdown",
   "metadata": {},
   "source": [
    "**3. Twitter API File**\n",
    "\n",
    "The tweet id, favourite count, and retweet count are all included in the Twitter API file.\n",
    "Udacity provided the data, which was manually downloaded and then imported into a pandas data frame from the tweet-json.txt file. "
   ]
  },
  {
   "cell_type": "code",
   "execution_count": 6,
   "metadata": {},
   "outputs": [
    {
     "data": {
      "text/html": [
       "<div>\n",
       "<style scoped>\n",
       "    .dataframe tbody tr th:only-of-type {\n",
       "        vertical-align: middle;\n",
       "    }\n",
       "\n",
       "    .dataframe tbody tr th {\n",
       "        vertical-align: top;\n",
       "    }\n",
       "\n",
       "    .dataframe thead th {\n",
       "        text-align: right;\n",
       "    }\n",
       "</style>\n",
       "<table border=\"1\" class=\"dataframe\">\n",
       "  <thead>\n",
       "    <tr style=\"text-align: right;\">\n",
       "      <th></th>\n",
       "      <th>favorites</th>\n",
       "      <th>retweets</th>\n",
       "    </tr>\n",
       "    <tr>\n",
       "      <th>tweet_id</th>\n",
       "      <th></th>\n",
       "      <th></th>\n",
       "    </tr>\n",
       "  </thead>\n",
       "  <tbody>\n",
       "    <tr>\n",
       "      <th>892420643555336193</th>\n",
       "      <td>39467</td>\n",
       "      <td>8853</td>\n",
       "    </tr>\n",
       "    <tr>\n",
       "      <th>892177421306343426</th>\n",
       "      <td>33819</td>\n",
       "      <td>6514</td>\n",
       "    </tr>\n",
       "    <tr>\n",
       "      <th>891815181378084864</th>\n",
       "      <td>25461</td>\n",
       "      <td>4328</td>\n",
       "    </tr>\n",
       "    <tr>\n",
       "      <th>891689557279858688</th>\n",
       "      <td>42908</td>\n",
       "      <td>8964</td>\n",
       "    </tr>\n",
       "    <tr>\n",
       "      <th>891327558926688256</th>\n",
       "      <td>41048</td>\n",
       "      <td>9774</td>\n",
       "    </tr>\n",
       "  </tbody>\n",
       "</table>\n",
       "</div>"
      ],
      "text/plain": [
       "                    favorites  retweets\n",
       "tweet_id                               \n",
       "892420643555336193  39467      8853    \n",
       "892177421306343426  33819      6514    \n",
       "891815181378084864  25461      4328    \n",
       "891689557279858688  42908      8964    \n",
       "891327558926688256  41048      9774    "
      ]
     },
     "execution_count": 6,
     "metadata": {},
     "output_type": "execute_result"
    }
   ],
   "source": [
    "# loading twitter API data\n",
    "with open('tweet-json.txt') as f:\n",
    "    twitter_api = pd.DataFrame((json.loads(line) for line in f), columns = ['id', 'favorite_count', 'retweet_count'])\n",
    "\n",
    "# altering column names\n",
    "twitter_api.columns = ['tweet_id', 'favorites', 'retweets']\n",
    "# using tweet id column as index\n",
    "twitter_api.set_index('tweet_id', inplace = True)\n",
    "# viewing few lines\n",
    "twitter_api.head()"
   ]
  },
  {
   "cell_type": "markdown",
   "metadata": {},
   "source": [
    "<a id='assess'></a>\n",
    "## Assessing data"
   ]
  },
  {
   "cell_type": "markdown",
   "metadata": {},
   "source": [
    "  Assess data visually as well as programmatically using pandas for quality and tidiness issues."
   ]
  },
  {
   "cell_type": "code",
   "execution_count": 7,
   "metadata": {},
   "outputs": [
    {
     "data": {
      "text/html": [
       "<div>\n",
       "<style scoped>\n",
       "    .dataframe tbody tr th:only-of-type {\n",
       "        vertical-align: middle;\n",
       "    }\n",
       "\n",
       "    .dataframe tbody tr th {\n",
       "        vertical-align: top;\n",
       "    }\n",
       "\n",
       "    .dataframe thead th {\n",
       "        text-align: right;\n",
       "    }\n",
       "</style>\n",
       "<table border=\"1\" class=\"dataframe\">\n",
       "  <thead>\n",
       "    <tr style=\"text-align: right;\">\n",
       "      <th></th>\n",
       "      <th>in_reply_to_status_id</th>\n",
       "      <th>in_reply_to_user_id</th>\n",
       "      <th>timestamp</th>\n",
       "      <th>source</th>\n",
       "      <th>text</th>\n",
       "      <th>retweeted_status_id</th>\n",
       "      <th>retweeted_status_user_id</th>\n",
       "      <th>retweeted_status_timestamp</th>\n",
       "      <th>expanded_urls</th>\n",
       "      <th>rating_numerator</th>\n",
       "      <th>rating_denominator</th>\n",
       "      <th>name</th>\n",
       "      <th>doggo</th>\n",
       "      <th>floofer</th>\n",
       "      <th>pupper</th>\n",
       "      <th>puppo</th>\n",
       "    </tr>\n",
       "    <tr>\n",
       "      <th>tweet_id</th>\n",
       "      <th></th>\n",
       "      <th></th>\n",
       "      <th></th>\n",
       "      <th></th>\n",
       "      <th></th>\n",
       "      <th></th>\n",
       "      <th></th>\n",
       "      <th></th>\n",
       "      <th></th>\n",
       "      <th></th>\n",
       "      <th></th>\n",
       "      <th></th>\n",
       "      <th></th>\n",
       "      <th></th>\n",
       "      <th></th>\n",
       "      <th></th>\n",
       "    </tr>\n",
       "  </thead>\n",
       "  <tbody>\n",
       "    <tr>\n",
       "      <th>828770345708580865</th>\n",
       "      <td>NaN</td>\n",
       "      <td>NaN</td>\n",
       "      <td>2017-02-07 01:00:22 +0000</td>\n",
       "      <td>&lt;a href=\"http://twitter.com/download/iphone\" rel=\"nofollow\"&gt;Twitter for iPhone&lt;/a&gt;</td>\n",
       "      <td>This is Alfie. He's your Lyft for tonight. Kindly requests you buckle pup and remain reasonably calm during the ride. 13/10 he must focus https://t.co/AqPTHYUBFz</td>\n",
       "      <td>NaN</td>\n",
       "      <td>NaN</td>\n",
       "      <td>NaN</td>\n",
       "      <td>https://twitter.com/dog_rates/status/828770345708580865/photo/1</td>\n",
       "      <td>13</td>\n",
       "      <td>10</td>\n",
       "      <td>Alfie</td>\n",
       "      <td>None</td>\n",
       "      <td>None</td>\n",
       "      <td>None</td>\n",
       "      <td>None</td>\n",
       "    </tr>\n",
       "    <tr>\n",
       "      <th>697881462549430272</th>\n",
       "      <td>NaN</td>\n",
       "      <td>NaN</td>\n",
       "      <td>2016-02-11 20:34:41 +0000</td>\n",
       "      <td>&lt;a href=\"http://twitter.com/download/iphone\" rel=\"nofollow\"&gt;Twitter for iPhone&lt;/a&gt;</td>\n",
       "      <td>This is Carter. He wakes up in the morning and pisses excellence. 10/10 best there is plain and simple https://t.co/pHktDjpFr8</td>\n",
       "      <td>NaN</td>\n",
       "      <td>NaN</td>\n",
       "      <td>NaN</td>\n",
       "      <td>https://twitter.com/dog_rates/status/697881462549430272/photo/1</td>\n",
       "      <td>10</td>\n",
       "      <td>10</td>\n",
       "      <td>Carter</td>\n",
       "      <td>None</td>\n",
       "      <td>None</td>\n",
       "      <td>None</td>\n",
       "      <td>None</td>\n",
       "    </tr>\n",
       "    <tr>\n",
       "      <th>671109016219725825</th>\n",
       "      <td>NaN</td>\n",
       "      <td>NaN</td>\n",
       "      <td>2015-11-29 23:30:32 +0000</td>\n",
       "      <td>&lt;a href=\"http://twitter.com/download/iphone\" rel=\"nofollow\"&gt;Twitter for iPhone&lt;/a&gt;</td>\n",
       "      <td>This is Toby. He asked for chocolate cake for his birthday but was given vanilla instead. 8/10 it'll be ok Toby https://t.co/sYi2G0he4H</td>\n",
       "      <td>NaN</td>\n",
       "      <td>NaN</td>\n",
       "      <td>NaN</td>\n",
       "      <td>https://twitter.com/dog_rates/status/671109016219725825/photo/1</td>\n",
       "      <td>8</td>\n",
       "      <td>10</td>\n",
       "      <td>Toby</td>\n",
       "      <td>None</td>\n",
       "      <td>None</td>\n",
       "      <td>None</td>\n",
       "      <td>None</td>\n",
       "    </tr>\n",
       "    <tr>\n",
       "      <th>680055455951884288</th>\n",
       "      <td>NaN</td>\n",
       "      <td>NaN</td>\n",
       "      <td>2015-12-24 16:00:30 +0000</td>\n",
       "      <td>&lt;a href=\"https://about.twitter.com/products/tweetdeck\" rel=\"nofollow\"&gt;TweetDeck&lt;/a&gt;</td>\n",
       "      <td>Meet Sammy. At first I was like \"that's a snowflake. we only rate dogs,\" but he would've melted by now, so 10/10 https://t.co/MQfPK4zwuh</td>\n",
       "      <td>NaN</td>\n",
       "      <td>NaN</td>\n",
       "      <td>NaN</td>\n",
       "      <td>https://twitter.com/dog_rates/status/680055455951884288/photo/1</td>\n",
       "      <td>10</td>\n",
       "      <td>10</td>\n",
       "      <td>Sammy</td>\n",
       "      <td>None</td>\n",
       "      <td>None</td>\n",
       "      <td>None</td>\n",
       "      <td>None</td>\n",
       "    </tr>\n",
       "    <tr>\n",
       "      <th>671729906628341761</th>\n",
       "      <td>6.715610e+17</td>\n",
       "      <td>4.196984e+09</td>\n",
       "      <td>2015-12-01 16:37:44 +0000</td>\n",
       "      <td>&lt;a href=\"http://twitter.com/download/iphone\" rel=\"nofollow\"&gt;Twitter for iPhone&lt;/a&gt;</td>\n",
       "      <td>I'm just going to leave this one here as well. 13/10 https://t.co/DaD5SyajWt</td>\n",
       "      <td>NaN</td>\n",
       "      <td>NaN</td>\n",
       "      <td>NaN</td>\n",
       "      <td>https://twitter.com/dog_rates/status/671729906628341761/photo/1</td>\n",
       "      <td>13</td>\n",
       "      <td>10</td>\n",
       "      <td>None</td>\n",
       "      <td>None</td>\n",
       "      <td>None</td>\n",
       "      <td>None</td>\n",
       "      <td>None</td>\n",
       "    </tr>\n",
       "  </tbody>\n",
       "</table>\n",
       "</div>"
      ],
      "text/plain": [
       "                    in_reply_to_status_id  in_reply_to_user_id  \\\n",
       "tweet_id                                                         \n",
       "828770345708580865 NaN                    NaN                    \n",
       "697881462549430272 NaN                    NaN                    \n",
       "671109016219725825 NaN                    NaN                    \n",
       "680055455951884288 NaN                    NaN                    \n",
       "671729906628341761  6.715610e+17           4.196984e+09          \n",
       "\n",
       "                                    timestamp  \\\n",
       "tweet_id                                        \n",
       "828770345708580865  2017-02-07 01:00:22 +0000   \n",
       "697881462549430272  2016-02-11 20:34:41 +0000   \n",
       "671109016219725825  2015-11-29 23:30:32 +0000   \n",
       "680055455951884288  2015-12-24 16:00:30 +0000   \n",
       "671729906628341761  2015-12-01 16:37:44 +0000   \n",
       "\n",
       "                                                                                                 source  \\\n",
       "tweet_id                                                                                                  \n",
       "828770345708580865  <a href=\"http://twitter.com/download/iphone\" rel=\"nofollow\">Twitter for iPhone</a>    \n",
       "697881462549430272  <a href=\"http://twitter.com/download/iphone\" rel=\"nofollow\">Twitter for iPhone</a>    \n",
       "671109016219725825  <a href=\"http://twitter.com/download/iphone\" rel=\"nofollow\">Twitter for iPhone</a>    \n",
       "680055455951884288  <a href=\"https://about.twitter.com/products/tweetdeck\" rel=\"nofollow\">TweetDeck</a>   \n",
       "671729906628341761  <a href=\"http://twitter.com/download/iphone\" rel=\"nofollow\">Twitter for iPhone</a>    \n",
       "\n",
       "                                                                                                                                                                                 text  \\\n",
       "tweet_id                                                                                                                                                                                \n",
       "828770345708580865  This is Alfie. He's your Lyft for tonight. Kindly requests you buckle pup and remain reasonably calm during the ride. 13/10 he must focus https://t.co/AqPTHYUBFz   \n",
       "697881462549430272  This is Carter. He wakes up in the morning and pisses excellence. 10/10 best there is plain and simple https://t.co/pHktDjpFr8                                      \n",
       "671109016219725825  This is Toby. He asked for chocolate cake for his birthday but was given vanilla instead. 8/10 it'll be ok Toby https://t.co/sYi2G0he4H                             \n",
       "680055455951884288  Meet Sammy. At first I was like \"that's a snowflake. we only rate dogs,\" but he would've melted by now, so 10/10 https://t.co/MQfPK4zwuh                            \n",
       "671729906628341761  I'm just going to leave this one here as well. 13/10 https://t.co/DaD5SyajWt                                                                                        \n",
       "\n",
       "                    retweeted_status_id  retweeted_status_user_id  \\\n",
       "tweet_id                                                            \n",
       "828770345708580865 NaN                  NaN                         \n",
       "697881462549430272 NaN                  NaN                         \n",
       "671109016219725825 NaN                  NaN                         \n",
       "680055455951884288 NaN                  NaN                         \n",
       "671729906628341761 NaN                  NaN                         \n",
       "\n",
       "                   retweeted_status_timestamp  \\\n",
       "tweet_id                                        \n",
       "828770345708580865  NaN                         \n",
       "697881462549430272  NaN                         \n",
       "671109016219725825  NaN                         \n",
       "680055455951884288  NaN                         \n",
       "671729906628341761  NaN                         \n",
       "\n",
       "                                                                      expanded_urls  \\\n",
       "tweet_id                                                                              \n",
       "828770345708580865  https://twitter.com/dog_rates/status/828770345708580865/photo/1   \n",
       "697881462549430272  https://twitter.com/dog_rates/status/697881462549430272/photo/1   \n",
       "671109016219725825  https://twitter.com/dog_rates/status/671109016219725825/photo/1   \n",
       "680055455951884288  https://twitter.com/dog_rates/status/680055455951884288/photo/1   \n",
       "671729906628341761  https://twitter.com/dog_rates/status/671729906628341761/photo/1   \n",
       "\n",
       "                    rating_numerator  rating_denominator    name doggo  \\\n",
       "tweet_id                                                                 \n",
       "828770345708580865  13                10                  Alfie   None   \n",
       "697881462549430272  10                10                  Carter  None   \n",
       "671109016219725825  8                 10                  Toby    None   \n",
       "680055455951884288  10                10                  Sammy   None   \n",
       "671729906628341761  13                10                  None    None   \n",
       "\n",
       "                   floofer pupper puppo  \n",
       "tweet_id                                 \n",
       "828770345708580865  None    None   None  \n",
       "697881462549430272  None    None   None  \n",
       "671109016219725825  None    None   None  \n",
       "680055455951884288  None    None   None  \n",
       "671729906628341761  None    None   None  "
      ]
     },
     "execution_count": 7,
     "metadata": {},
     "output_type": "execute_result"
    }
   ],
   "source": [
    "# viewing sample of data\n",
    "twitter_archive.sample(5)"
   ]
  },
  {
   "cell_type": "code",
   "execution_count": 8,
   "metadata": {},
   "outputs": [
    {
     "name": "stdout",
     "output_type": "stream",
     "text": [
      "<class 'pandas.core.frame.DataFrame'>\n",
      "Int64Index: 2356 entries, 892420643555336193 to 666020888022790149\n",
      "Data columns (total 16 columns):\n",
      " #   Column                      Non-Null Count  Dtype  \n",
      "---  ------                      --------------  -----  \n",
      " 0   in_reply_to_status_id       78 non-null     float64\n",
      " 1   in_reply_to_user_id         78 non-null     float64\n",
      " 2   timestamp                   2356 non-null   object \n",
      " 3   source                      2356 non-null   object \n",
      " 4   text                        2356 non-null   object \n",
      " 5   retweeted_status_id         181 non-null    float64\n",
      " 6   retweeted_status_user_id    181 non-null    float64\n",
      " 7   retweeted_status_timestamp  181 non-null    object \n",
      " 8   expanded_urls               2297 non-null   object \n",
      " 9   rating_numerator            2356 non-null   int64  \n",
      " 10  rating_denominator          2356 non-null   int64  \n",
      " 11  name                        2356 non-null   object \n",
      " 12  doggo                       2356 non-null   object \n",
      " 13  floofer                     2356 non-null   object \n",
      " 14  pupper                      2356 non-null   object \n",
      " 15  puppo                       2356 non-null   object \n",
      "dtypes: float64(4), int64(2), object(10)\n",
      "memory usage: 312.9+ KB\n"
     ]
    }
   ],
   "source": [
    "# Information about the dataset\n",
    "twitter_archive.info()"
   ]
  },
  {
   "cell_type": "code",
   "execution_count": 9,
   "metadata": {},
   "outputs": [
    {
     "data": {
      "text/html": [
       "<div>\n",
       "<style scoped>\n",
       "    .dataframe tbody tr th:only-of-type {\n",
       "        vertical-align: middle;\n",
       "    }\n",
       "\n",
       "    .dataframe tbody tr th {\n",
       "        vertical-align: top;\n",
       "    }\n",
       "\n",
       "    .dataframe thead th {\n",
       "        text-align: right;\n",
       "    }\n",
       "</style>\n",
       "<table border=\"1\" class=\"dataframe\">\n",
       "  <thead>\n",
       "    <tr style=\"text-align: right;\">\n",
       "      <th></th>\n",
       "      <th>in_reply_to_status_id</th>\n",
       "      <th>in_reply_to_user_id</th>\n",
       "      <th>retweeted_status_id</th>\n",
       "      <th>retweeted_status_user_id</th>\n",
       "      <th>rating_numerator</th>\n",
       "      <th>rating_denominator</th>\n",
       "    </tr>\n",
       "  </thead>\n",
       "  <tbody>\n",
       "    <tr>\n",
       "      <th>count</th>\n",
       "      <td>7.800000e+01</td>\n",
       "      <td>7.800000e+01</td>\n",
       "      <td>1.810000e+02</td>\n",
       "      <td>1.810000e+02</td>\n",
       "      <td>2356.000000</td>\n",
       "      <td>2356.000000</td>\n",
       "    </tr>\n",
       "    <tr>\n",
       "      <th>mean</th>\n",
       "      <td>7.455079e+17</td>\n",
       "      <td>2.014171e+16</td>\n",
       "      <td>7.720400e+17</td>\n",
       "      <td>1.241698e+16</td>\n",
       "      <td>13.126486</td>\n",
       "      <td>10.455433</td>\n",
       "    </tr>\n",
       "    <tr>\n",
       "      <th>std</th>\n",
       "      <td>7.582492e+16</td>\n",
       "      <td>1.252797e+17</td>\n",
       "      <td>6.236928e+16</td>\n",
       "      <td>9.599254e+16</td>\n",
       "      <td>45.876648</td>\n",
       "      <td>6.745237</td>\n",
       "    </tr>\n",
       "    <tr>\n",
       "      <th>min</th>\n",
       "      <td>6.658147e+17</td>\n",
       "      <td>1.185634e+07</td>\n",
       "      <td>6.661041e+17</td>\n",
       "      <td>7.832140e+05</td>\n",
       "      <td>0.000000</td>\n",
       "      <td>0.000000</td>\n",
       "    </tr>\n",
       "    <tr>\n",
       "      <th>25%</th>\n",
       "      <td>6.757419e+17</td>\n",
       "      <td>3.086374e+08</td>\n",
       "      <td>7.186315e+17</td>\n",
       "      <td>4.196984e+09</td>\n",
       "      <td>10.000000</td>\n",
       "      <td>10.000000</td>\n",
       "    </tr>\n",
       "    <tr>\n",
       "      <th>50%</th>\n",
       "      <td>7.038708e+17</td>\n",
       "      <td>4.196984e+09</td>\n",
       "      <td>7.804657e+17</td>\n",
       "      <td>4.196984e+09</td>\n",
       "      <td>11.000000</td>\n",
       "      <td>10.000000</td>\n",
       "    </tr>\n",
       "    <tr>\n",
       "      <th>75%</th>\n",
       "      <td>8.257804e+17</td>\n",
       "      <td>4.196984e+09</td>\n",
       "      <td>8.203146e+17</td>\n",
       "      <td>4.196984e+09</td>\n",
       "      <td>12.000000</td>\n",
       "      <td>10.000000</td>\n",
       "    </tr>\n",
       "    <tr>\n",
       "      <th>max</th>\n",
       "      <td>8.862664e+17</td>\n",
       "      <td>8.405479e+17</td>\n",
       "      <td>8.874740e+17</td>\n",
       "      <td>7.874618e+17</td>\n",
       "      <td>1776.000000</td>\n",
       "      <td>170.000000</td>\n",
       "    </tr>\n",
       "  </tbody>\n",
       "</table>\n",
       "</div>"
      ],
      "text/plain": [
       "       in_reply_to_status_id  in_reply_to_user_id  retweeted_status_id  \\\n",
       "count  7.800000e+01           7.800000e+01         1.810000e+02          \n",
       "mean   7.455079e+17           2.014171e+16         7.720400e+17          \n",
       "std    7.582492e+16           1.252797e+17         6.236928e+16          \n",
       "min    6.658147e+17           1.185634e+07         6.661041e+17          \n",
       "25%    6.757419e+17           3.086374e+08         7.186315e+17          \n",
       "50%    7.038708e+17           4.196984e+09         7.804657e+17          \n",
       "75%    8.257804e+17           4.196984e+09         8.203146e+17          \n",
       "max    8.862664e+17           8.405479e+17         8.874740e+17          \n",
       "\n",
       "       retweeted_status_user_id  rating_numerator  rating_denominator  \n",
       "count  1.810000e+02              2356.000000       2356.000000         \n",
       "mean   1.241698e+16              13.126486         10.455433           \n",
       "std    9.599254e+16              45.876648         6.745237            \n",
       "min    7.832140e+05              0.000000          0.000000            \n",
       "25%    4.196984e+09              10.000000         10.000000           \n",
       "50%    4.196984e+09              11.000000         10.000000           \n",
       "75%    4.196984e+09              12.000000         10.000000           \n",
       "max    7.874618e+17              1776.000000       170.000000          "
      ]
     },
     "execution_count": 9,
     "metadata": {},
     "output_type": "execute_result"
    }
   ],
   "source": [
    "# Statistical Summary of twitter_archive\n",
    "twitter_archive.describe()"
   ]
  },
  {
   "cell_type": "code",
   "execution_count": 10,
   "metadata": {},
   "outputs": [
    {
     "data": {
      "text/plain": [
       "tweet_id\n",
       "835246439529840640    0  \n",
       "666287406224695296    2  \n",
       "810984652412424192    7  \n",
       "687460506001633280    10 \n",
       "687476254459715584    10 \n",
       "                      .. \n",
       "684222868335505415    110\n",
       "677716515794329600    120\n",
       "684225744407494656    130\n",
       "758467244762497024    150\n",
       "731156023742988288    170\n",
       "Name: rating_denominator, Length: 2356, dtype: int64"
      ]
     },
     "execution_count": 10,
     "metadata": {},
     "output_type": "execute_result"
    }
   ],
   "source": [
    "# all the denominators should be 10\n",
    "twitter_archive.rating_denominator.sort_values()"
   ]
  },
  {
   "cell_type": "code",
   "execution_count": 11,
   "metadata": {},
   "outputs": [
    {
     "data": {
      "text/plain": [
       "tweet_id\n",
       "835152434251116546    0   \n",
       "746906459439529985    0   \n",
       "666287406224695296    1   \n",
       "667549055577362432    1   \n",
       "666104133288665088    1   \n",
       "                     ..   \n",
       "670842764863651840    420 \n",
       "855862651834028034    420 \n",
       "855860136149123072    666 \n",
       "835246439529840640    960 \n",
       "749981277374128128    1776\n",
       "Name: rating_numerator, Length: 2356, dtype: int64"
      ]
     },
     "execution_count": 11,
     "metadata": {},
     "output_type": "execute_result"
    }
   ],
   "source": [
    "# all the numerators should be 10\n",
    "twitter_archive.rating_numerator.sort_values()"
   ]
  },
  {
   "cell_type": "code",
   "execution_count": 12,
   "metadata": {},
   "outputs": [
    {
     "data": {
      "text/plain": [
       "True"
      ]
     },
     "execution_count": 12,
     "metadata": {},
     "output_type": "execute_result"
    }
   ],
   "source": [
    "# inspecting if ids are unique\n",
    "twitter_archive.index.is_unique"
   ]
  },
  {
   "cell_type": "code",
   "execution_count": 13,
   "metadata": {},
   "outputs": [
    {
     "data": {
      "text/plain": [
       "2278"
      ]
     },
     "execution_count": 13,
     "metadata": {},
     "output_type": "execute_result"
    }
   ],
   "source": [
    "# inspecting archive table for any in_reply_to_status_id values\n",
    "sum(twitter_archive.in_reply_to_status_id.isnull())"
   ]
  },
  {
   "cell_type": "code",
   "execution_count": 14,
   "metadata": {},
   "outputs": [
    {
     "data": {
      "text/plain": [
       "2175"
      ]
     },
     "execution_count": 14,
     "metadata": {},
     "output_type": "execute_result"
    }
   ],
   "source": [
    "# inspecting archive table for any retweeted_status_id values\n",
    "sum(twitter_archive.retweeted_status_id.isnull())"
   ]
  },
  {
   "cell_type": "code",
   "execution_count": 15,
   "metadata": {},
   "outputs": [
    {
     "data": {
      "text/plain": [
       "78"
      ]
     },
     "execution_count": 15,
     "metadata": {},
     "output_type": "execute_result"
    }
   ],
   "source": [
    "# inspecting number of replies\n",
    "np.isfinite(twitter_archive.in_reply_to_status_id).sum()"
   ]
  },
  {
   "cell_type": "code",
   "execution_count": 16,
   "metadata": {},
   "outputs": [
    {
     "data": {
      "text/plain": [
       "181"
      ]
     },
     "execution_count": 16,
     "metadata": {},
     "output_type": "execute_result"
    }
   ],
   "source": [
    "# inspecting number of retweets\n",
    "np.isfinite(twitter_archive.retweeted_status_id).sum()"
   ]
  },
  {
   "cell_type": "code",
   "execution_count": 17,
   "metadata": {},
   "outputs": [
    {
     "data": {
      "text/plain": [
       "None       745\n",
       "a          55 \n",
       "Charlie    12 \n",
       "Oliver     11 \n",
       "Cooper     11 \n",
       "           .. \n",
       "Grady      1  \n",
       "Barry      1  \n",
       "Jessiga    1  \n",
       "Tug        1  \n",
       "JD         1  \n",
       "Name: name, Length: 957, dtype: int64"
      ]
     },
     "execution_count": 17,
     "metadata": {},
     "output_type": "execute_result"
    }
   ],
   "source": [
    "# inspecting name of dog\n",
    "twitter_archive.name.value_counts()"
   ]
  },
  {
   "cell_type": "code",
   "execution_count": 18,
   "metadata": {},
   "outputs": [
    {
     "data": {
      "text/plain": [
       "tweet_id\n",
       "667470559035432960    <a href=\"http://twitter.com\" rel=\"nofollow\">Twitter Web Client</a>                 \n",
       "831315979191906304    <a href=\"http://twitter.com\" rel=\"nofollow\">Twitter Web Client</a>                 \n",
       "828361771580813312    <a href=\"http://twitter.com\" rel=\"nofollow\">Twitter Web Client</a>                 \n",
       "772877495989305348    <a href=\"http://twitter.com\" rel=\"nofollow\">Twitter Web Client</a>                 \n",
       "667453023279554560    <a href=\"http://twitter.com\" rel=\"nofollow\">Twitter Web Client</a>                 \n",
       "                                                     ...                                                 \n",
       "750026558547456000    <a href=\"https://about.twitter.com/products/tweetdeck\" rel=\"nofollow\">TweetDeck</a>\n",
       "750011400160841729    <a href=\"https://about.twitter.com/products/tweetdeck\" rel=\"nofollow\">TweetDeck</a>\n",
       "749996283729883136    <a href=\"https://about.twitter.com/products/tweetdeck\" rel=\"nofollow\">TweetDeck</a>\n",
       "680070545539371008    <a href=\"https://about.twitter.com/products/tweetdeck\" rel=\"nofollow\">TweetDeck</a>\n",
       "750086836815486976    <a href=\"https://about.twitter.com/products/tweetdeck\" rel=\"nofollow\">TweetDeck</a>\n",
       "Name: source, Length: 2356, dtype: object"
      ]
     },
     "execution_count": 18,
     "metadata": {},
     "output_type": "execute_result"
    }
   ],
   "source": [
    "# looking at the source values\n",
    "twitter_archive.source.sort_values()"
   ]
  },
  {
   "cell_type": "code",
   "execution_count": 19,
   "metadata": {},
   "outputs": [
    {
     "name": "stdout",
     "output_type": "stream",
     "text": [
      "tweet_id\n",
      "744995568523612160    Abby \n",
      "746726898085036033    Abby \n",
      "753294487569522689    Ace  \n",
      "674019345211760640    Acro \n",
      "705975130514706432    Adele\n",
      "                      ...  \n",
      "745422732645535745    very \n",
      "776249906839351296    very \n",
      "736225175608430592    very \n",
      "770655142660169732    very \n",
      "700747788515020802    very \n",
      "Name: name, Length: 2356, dtype: object\n"
     ]
    }
   ],
   "source": [
    "# filtering the names to check if there are any changes in case. \n",
    "print(twitter_archive.name.sort_values())"
   ]
  },
  {
   "cell_type": "code",
   "execution_count": 20,
   "metadata": {},
   "outputs": [],
   "source": [
    "# examining to see if dogs belong to more than one category. \n",
    "categories = ['doggo', 'floofer', 'pupper', 'puppo']\n",
    "\n",
    "for category in categories:\n",
    "    twitter_archive[category] = twitter_archive[category].apply(lambda x: 0 if x == 'None' else 1)\n",
    "\n",
    "twitter_archive['number_categories'] = twitter_archive.loc[:,categories].sum(axis = 1)"
   ]
  },
  {
   "cell_type": "code",
   "execution_count": 21,
   "metadata": {},
   "outputs": [
    {
     "data": {
      "text/plain": [
       "0    1976\n",
       "1    366 \n",
       "2    14  \n",
       "Name: number_categories, dtype: int64"
      ]
     },
     "execution_count": 21,
     "metadata": {},
     "output_type": "execute_result"
    }
   ],
   "source": [
    "# dogs categories\n",
    "twitter_archive['number_categories'].value_counts()"
   ]
  },
  {
   "cell_type": "code",
   "execution_count": 22,
   "metadata": {},
   "outputs": [
    {
     "data": {
      "text/plain": [
       "0"
      ]
     },
     "execution_count": 22,
     "metadata": {},
     "output_type": "execute_result"
    }
   ],
   "source": [
    "# examining to see if archive table for any null numerator values\n",
    "sum(twitter_archive.rating_numerator.isnull())"
   ]
  },
  {
   "cell_type": "code",
   "execution_count": 23,
   "metadata": {},
   "outputs": [
    {
     "data": {
      "text/plain": [
       "10     2333\n",
       "11     3   \n",
       "50     3   \n",
       "80     2   \n",
       "20     2   \n",
       "2      1   \n",
       "16     1   \n",
       "40     1   \n",
       "70     1   \n",
       "15     1   \n",
       "90     1   \n",
       "110    1   \n",
       "120    1   \n",
       "130    1   \n",
       "150    1   \n",
       "170    1   \n",
       "7      1   \n",
       "0      1   \n",
       "Name: rating_denominator, dtype: int64"
      ]
     },
     "execution_count": 23,
     "metadata": {},
     "output_type": "execute_result"
    }
   ],
   "source": [
    "# examining rating denominator\n",
    "twitter_archive.rating_denominator.value_counts()"
   ]
  },
  {
   "cell_type": "code",
   "execution_count": 24,
   "metadata": {},
   "outputs": [
    {
     "data": {
      "text/plain": [
       "0"
      ]
     },
     "execution_count": 24,
     "metadata": {},
     "output_type": "execute_result"
    }
   ],
   "source": [
    "# examining to see if archive table for any null denominator values\n",
    "sum(twitter_archive.rating_denominator.isnull())"
   ]
  },
  {
   "cell_type": "code",
   "execution_count": 25,
   "metadata": {},
   "outputs": [
    {
     "data": {
      "text/html": [
       "<div>\n",
       "<style scoped>\n",
       "    .dataframe tbody tr th:only-of-type {\n",
       "        vertical-align: middle;\n",
       "    }\n",
       "\n",
       "    .dataframe tbody tr th {\n",
       "        vertical-align: top;\n",
       "    }\n",
       "\n",
       "    .dataframe thead th {\n",
       "        text-align: right;\n",
       "    }\n",
       "</style>\n",
       "<table border=\"1\" class=\"dataframe\">\n",
       "  <thead>\n",
       "    <tr style=\"text-align: right;\">\n",
       "      <th></th>\n",
       "      <th>text</th>\n",
       "      <th>rating_denominator</th>\n",
       "    </tr>\n",
       "    <tr>\n",
       "      <th>tweet_id</th>\n",
       "      <th></th>\n",
       "      <th></th>\n",
       "    </tr>\n",
       "  </thead>\n",
       "  <tbody>\n",
       "    <tr>\n",
       "      <th>832088576586297345</th>\n",
       "      <td>@docmisterio account started on 11/15/15</td>\n",
       "      <td>15</td>\n",
       "    </tr>\n",
       "    <tr>\n",
       "      <th>820690176645140481</th>\n",
       "      <td>The floofs have been released I repeat the floofs have been released. 84/70 https://t.co/NIYC820tmd</td>\n",
       "      <td>70</td>\n",
       "    </tr>\n",
       "    <tr>\n",
       "      <th>775096608509886464</th>\n",
       "      <td>RT @dog_rates: After so many requests, this is Bretagne. She was the last surviving 9/11 search dog, and our second ever 14/10. RIP https:/…</td>\n",
       "      <td>11</td>\n",
       "    </tr>\n",
       "    <tr>\n",
       "      <th>758467244762497024</th>\n",
       "      <td>Why does this never happen at my front door... 165/150 https://t.co/HmwrdfEfUE</td>\n",
       "      <td>150</td>\n",
       "    </tr>\n",
       "    <tr>\n",
       "      <th>740373189193256964</th>\n",
       "      <td>After so many requests, this is Bretagne. She was the last surviving 9/11 search dog, and our second ever 14/10. RIP https://t.co/XAVDNDaVgQ</td>\n",
       "      <td>11</td>\n",
       "    </tr>\n",
       "    <tr>\n",
       "      <th>731156023742988288</th>\n",
       "      <td>Say hello to this unbelievably well behaved squad of doggos. 204/170 would try to pet all at once https://t.co/yGQI3He3xv</td>\n",
       "      <td>170</td>\n",
       "    </tr>\n",
       "    <tr>\n",
       "      <th>722974582966214656</th>\n",
       "      <td>Happy 4/20 from the squad! 13/10 for all https://t.co/eV1diwds8a</td>\n",
       "      <td>20</td>\n",
       "    </tr>\n",
       "    <tr>\n",
       "      <th>716439118184652801</th>\n",
       "      <td>This is Bluebert. He just saw that both #FinalFur match ups are split 50/50. Amazed af. 11/10 https://t.co/Kky1DPG4iq</td>\n",
       "      <td>50</td>\n",
       "    </tr>\n",
       "    <tr>\n",
       "      <th>713900603437621249</th>\n",
       "      <td>Happy Saturday here's 9 puppers on a bench. 99/90 good work everybody https://t.co/mpvaVxKmc1</td>\n",
       "      <td>90</td>\n",
       "    </tr>\n",
       "    <tr>\n",
       "      <th>710658690886586372</th>\n",
       "      <td>Here's a brigade of puppers. All look very prepared for whatever happens next. 80/80 https://t.co/0eb7R1Om12</td>\n",
       "      <td>80</td>\n",
       "    </tr>\n",
       "    <tr>\n",
       "      <th>709198395643068416</th>\n",
       "      <td>From left to right:\\nCletus, Jerome, Alejandro, Burp, &amp;amp; Titson\\nNone know where camera is. 45/50 would hug all at once https://t.co/sedre1ivTK</td>\n",
       "      <td>50</td>\n",
       "    </tr>\n",
       "    <tr>\n",
       "      <th>704054845121142784</th>\n",
       "      <td>Here is a whole flock of puppers.  60/50 I'll take the lot https://t.co/9dpcw6MdWa</td>\n",
       "      <td>50</td>\n",
       "    </tr>\n",
       "    <tr>\n",
       "      <th>697463031882764288</th>\n",
       "      <td>Happy Wednesday here's a bucket of pups. 44/40 would pet all at once https://t.co/HppvrYuamZ</td>\n",
       "      <td>40</td>\n",
       "    </tr>\n",
       "    <tr>\n",
       "      <th>686035780142297088</th>\n",
       "      <td>Yes I do realize a rating of 4/20 would've been fitting. However, it would be unjust to give these cooperative pups that low of a rating</td>\n",
       "      <td>20</td>\n",
       "    </tr>\n",
       "    <tr>\n",
       "      <th>684225744407494656</th>\n",
       "      <td>Two sneaky puppers were not initially seen, moving the rating to 143/130. Please forgive us. Thank you https://t.co/kRK51Y5ac3</td>\n",
       "      <td>130</td>\n",
       "    </tr>\n",
       "    <tr>\n",
       "      <th>684222868335505415</th>\n",
       "      <td>Someone help the girl is being mugged. Several are distracting her while two steal her shoes. Clever puppers 121/110 https://t.co/1zfnTJLt55</td>\n",
       "      <td>110</td>\n",
       "    </tr>\n",
       "    <tr>\n",
       "      <th>682962037429899265</th>\n",
       "      <td>This is Darrel. He just robbed a 7/11 and is in a high speed police chase. Was just spotted by the helicopter 10/10 https://t.co/7EsP8LmSp5</td>\n",
       "      <td>11</td>\n",
       "    </tr>\n",
       "    <tr>\n",
       "      <th>682808988178739200</th>\n",
       "      <td>I'm aware that I could've said 20/16, but here at WeRateDogs we are very professional. An inconsistent rating scale is simply irresponsible</td>\n",
       "      <td>16</td>\n",
       "    </tr>\n",
       "    <tr>\n",
       "      <th>677716515794329600</th>\n",
       "      <td>IT'S PUPPERGEDDON. Total of 144/120 ...I think https://t.co/ZanVtAtvIq</td>\n",
       "      <td>120</td>\n",
       "    </tr>\n",
       "    <tr>\n",
       "      <th>675853064436391936</th>\n",
       "      <td>Here we have an entire platoon of puppers. Total score: 88/80 would pet all at once https://t.co/y93p6FLvVw</td>\n",
       "      <td>80</td>\n",
       "    </tr>\n",
       "  </tbody>\n",
       "</table>\n",
       "</div>"
      ],
      "text/plain": [
       "                                                                                                                                                                  text  \\\n",
       "tweet_id                                                                                                                                                                 \n",
       "832088576586297345  @docmisterio account started on 11/15/15                                                                                                             \n",
       "820690176645140481  The floofs have been released I repeat the floofs have been released. 84/70 https://t.co/NIYC820tmd                                                  \n",
       "775096608509886464  RT @dog_rates: After so many requests, this is Bretagne. She was the last surviving 9/11 search dog, and our second ever 14/10. RIP https:/…         \n",
       "758467244762497024  Why does this never happen at my front door... 165/150 https://t.co/HmwrdfEfUE                                                                       \n",
       "740373189193256964  After so many requests, this is Bretagne. She was the last surviving 9/11 search dog, and our second ever 14/10. RIP https://t.co/XAVDNDaVgQ         \n",
       "731156023742988288  Say hello to this unbelievably well behaved squad of doggos. 204/170 would try to pet all at once https://t.co/yGQI3He3xv                            \n",
       "722974582966214656  Happy 4/20 from the squad! 13/10 for all https://t.co/eV1diwds8a                                                                                     \n",
       "716439118184652801  This is Bluebert. He just saw that both #FinalFur match ups are split 50/50. Amazed af. 11/10 https://t.co/Kky1DPG4iq                                \n",
       "713900603437621249  Happy Saturday here's 9 puppers on a bench. 99/90 good work everybody https://t.co/mpvaVxKmc1                                                        \n",
       "710658690886586372  Here's a brigade of puppers. All look very prepared for whatever happens next. 80/80 https://t.co/0eb7R1Om12                                         \n",
       "709198395643068416  From left to right:\\nCletus, Jerome, Alejandro, Burp, &amp; Titson\\nNone know where camera is. 45/50 would hug all at once https://t.co/sedre1ivTK   \n",
       "704054845121142784  Here is a whole flock of puppers.  60/50 I'll take the lot https://t.co/9dpcw6MdWa                                                                   \n",
       "697463031882764288  Happy Wednesday here's a bucket of pups. 44/40 would pet all at once https://t.co/HppvrYuamZ                                                         \n",
       "686035780142297088  Yes I do realize a rating of 4/20 would've been fitting. However, it would be unjust to give these cooperative pups that low of a rating             \n",
       "684225744407494656  Two sneaky puppers were not initially seen, moving the rating to 143/130. Please forgive us. Thank you https://t.co/kRK51Y5ac3                       \n",
       "684222868335505415  Someone help the girl is being mugged. Several are distracting her while two steal her shoes. Clever puppers 121/110 https://t.co/1zfnTJLt55         \n",
       "682962037429899265  This is Darrel. He just robbed a 7/11 and is in a high speed police chase. Was just spotted by the helicopter 10/10 https://t.co/7EsP8LmSp5          \n",
       "682808988178739200  I'm aware that I could've said 20/16, but here at WeRateDogs we are very professional. An inconsistent rating scale is simply irresponsible          \n",
       "677716515794329600  IT'S PUPPERGEDDON. Total of 144/120 ...I think https://t.co/ZanVtAtvIq                                                                               \n",
       "675853064436391936  Here we have an entire platoon of puppers. Total score: 88/80 would pet all at once https://t.co/y93p6FLvVw                                          \n",
       "\n",
       "                    rating_denominator  \n",
       "tweet_id                                \n",
       "832088576586297345  15                  \n",
       "820690176645140481  70                  \n",
       "775096608509886464  11                  \n",
       "758467244762497024  150                 \n",
       "740373189193256964  11                  \n",
       "731156023742988288  170                 \n",
       "722974582966214656  20                  \n",
       "716439118184652801  50                  \n",
       "713900603437621249  90                  \n",
       "710658690886586372  80                  \n",
       "709198395643068416  50                  \n",
       "704054845121142784  50                  \n",
       "697463031882764288  40                  \n",
       "686035780142297088  20                  \n",
       "684225744407494656  130                 \n",
       "684222868335505415  110                 \n",
       "682962037429899265  11                  \n",
       "682808988178739200  16                  \n",
       "677716515794329600  120                 \n",
       "675853064436391936  80                  "
      ]
     },
     "execution_count": 25,
     "metadata": {},
     "output_type": "execute_result"
    }
   ],
   "source": [
    "# examining for ratings with a denominator of more than ten\n",
    "twitter_archive[twitter_archive.rating_denominator > 10][['text', 'rating_denominator']]"
   ]
  },
  {
   "cell_type": "code",
   "execution_count": 26,
   "metadata": {},
   "outputs": [
    {
     "data": {
      "text/plain": [
       "12      558\n",
       "11      464\n",
       "10      461\n",
       "13      351\n",
       "9       158\n",
       "8       102\n",
       "7       55 \n",
       "14      54 \n",
       "5       37 \n",
       "6       32 \n",
       "3       19 \n",
       "4       17 \n",
       "1       9  \n",
       "2       9  \n",
       "420     2  \n",
       "0       2  \n",
       "15      2  \n",
       "75      2  \n",
       "80      1  \n",
       "20      1  \n",
       "24      1  \n",
       "26      1  \n",
       "44      1  \n",
       "50      1  \n",
       "60      1  \n",
       "165     1  \n",
       "84      1  \n",
       "88      1  \n",
       "144     1  \n",
       "182     1  \n",
       "143     1  \n",
       "666     1  \n",
       "960     1  \n",
       "1776    1  \n",
       "17      1  \n",
       "27      1  \n",
       "45      1  \n",
       "99      1  \n",
       "121     1  \n",
       "204     1  \n",
       "Name: rating_numerator, dtype: int64"
      ]
     },
     "execution_count": 26,
     "metadata": {},
     "output_type": "execute_result"
    }
   ],
   "source": [
    "# examining rating numerator\n",
    "twitter_archive.rating_numerator.value_counts()"
   ]
  },
  {
   "cell_type": "code",
   "execution_count": 27,
   "metadata": {},
   "outputs": [
    {
     "data": {
      "text/html": [
       "<div>\n",
       "<style scoped>\n",
       "    .dataframe tbody tr th:only-of-type {\n",
       "        vertical-align: middle;\n",
       "    }\n",
       "\n",
       "    .dataframe tbody tr th {\n",
       "        vertical-align: top;\n",
       "    }\n",
       "\n",
       "    .dataframe thead th {\n",
       "        text-align: right;\n",
       "    }\n",
       "</style>\n",
       "<table border=\"1\" class=\"dataframe\">\n",
       "  <thead>\n",
       "    <tr style=\"text-align: right;\">\n",
       "      <th></th>\n",
       "      <th>text</th>\n",
       "      <th>rating_numerator</th>\n",
       "      <th>rating_denominator</th>\n",
       "    </tr>\n",
       "    <tr>\n",
       "      <th>tweet_id</th>\n",
       "      <th></th>\n",
       "      <th></th>\n",
       "      <th></th>\n",
       "    </tr>\n",
       "  </thead>\n",
       "  <tbody>\n",
       "    <tr>\n",
       "      <th>883482846933004288</th>\n",
       "      <td>This is Bella. She hopes her smile made you smile. If not, she is also offering you her favorite monkey. 13.5/10 https://t.co/qjrljjt948</td>\n",
       "      <td>5</td>\n",
       "      <td>10</td>\n",
       "    </tr>\n",
       "    <tr>\n",
       "      <th>832215909146226688</th>\n",
       "      <td>RT @dog_rates: This is Logan, the Chow who lived. He solemnly swears he's up to lots of good. H*ckin magical af 9.75/10 https://t.co/yBO5wu…</td>\n",
       "      <td>75</td>\n",
       "      <td>10</td>\n",
       "    </tr>\n",
       "    <tr>\n",
       "      <th>786709082849828864</th>\n",
       "      <td>This is Logan, the Chow who lived. He solemnly swears he's up to lots of good. H*ckin magical af 9.75/10 https://t.co/yBO5wuqaPS</td>\n",
       "      <td>75</td>\n",
       "      <td>10</td>\n",
       "    </tr>\n",
       "    <tr>\n",
       "      <th>778027034220126208</th>\n",
       "      <td>This is Sophie. She's a Jubilant Bush Pupper. Super h*ckin rare. Appears at random just to smile at the locals. 11.27/10 would smile back https://t.co/QFaUiIHxHq</td>\n",
       "      <td>27</td>\n",
       "      <td>10</td>\n",
       "    </tr>\n",
       "    <tr>\n",
       "      <th>681340665377193984</th>\n",
       "      <td>I've been told there's a slight possibility he's checking his mirror. We'll bump to 9.5/10. Still a menace</td>\n",
       "      <td>5</td>\n",
       "      <td>10</td>\n",
       "    </tr>\n",
       "    <tr>\n",
       "      <th>680494726643068929</th>\n",
       "      <td>Here we have uncovered an entire battalion of holiday puppers. Average of 11.26/10 https://t.co/eNm2S6p9BD</td>\n",
       "      <td>26</td>\n",
       "      <td>10</td>\n",
       "    </tr>\n",
       "  </tbody>\n",
       "</table>\n",
       "</div>"
      ],
      "text/plain": [
       "                                                                                                                                                                                 text  \\\n",
       "tweet_id                                                                                                                                                                                \n",
       "883482846933004288                           This is Bella. She hopes her smile made you smile. If not, she is also offering you her favorite monkey. 13.5/10 https://t.co/qjrljjt948   \n",
       "832215909146226688                       RT @dog_rates: This is Logan, the Chow who lived. He solemnly swears he's up to lots of good. H*ckin magical af 9.75/10 https://t.co/yBO5wu…   \n",
       "786709082849828864                                   This is Logan, the Chow who lived. He solemnly swears he's up to lots of good. H*ckin magical af 9.75/10 https://t.co/yBO5wuqaPS   \n",
       "778027034220126208  This is Sophie. She's a Jubilant Bush Pupper. Super h*ckin rare. Appears at random just to smile at the locals. 11.27/10 would smile back https://t.co/QFaUiIHxHq   \n",
       "681340665377193984                                                         I've been told there's a slight possibility he's checking his mirror. We'll bump to 9.5/10. Still a menace   \n",
       "680494726643068929                                                         Here we have uncovered an entire battalion of holiday puppers. Average of 11.26/10 https://t.co/eNm2S6p9BD   \n",
       "\n",
       "                    rating_numerator  rating_denominator  \n",
       "tweet_id                                                  \n",
       "883482846933004288                 5                  10  \n",
       "832215909146226688                75                  10  \n",
       "786709082849828864                75                  10  \n",
       "778027034220126208                27                  10  \n",
       "681340665377193984                 5                  10  \n",
       "680494726643068929                26                  10  "
      ]
     },
     "metadata": {},
     "output_type": "display_data"
    }
   ],
   "source": [
    "# examining for any float ratings in the text column\n",
    "\n",
    "with pd.option_context('max_colwidth', 200):\n",
    "    display(twitter_archive[twitter_archive['text'].str.contains(r\"(\\d+\\.\\d*\\/\\d+)\")]\n",
    "            [['text', 'rating_numerator', 'rating_denominator']])"
   ]
  },
  {
   "cell_type": "code",
   "execution_count": 28,
   "metadata": {},
   "outputs": [
    {
     "data": {
      "text/html": [
       "<div>\n",
       "<style scoped>\n",
       "    .dataframe tbody tr th:only-of-type {\n",
       "        vertical-align: middle;\n",
       "    }\n",
       "\n",
       "    .dataframe tbody tr th {\n",
       "        vertical-align: top;\n",
       "    }\n",
       "\n",
       "    .dataframe thead th {\n",
       "        text-align: right;\n",
       "    }\n",
       "</style>\n",
       "<table border=\"1\" class=\"dataframe\">\n",
       "  <thead>\n",
       "    <tr style=\"text-align: right;\">\n",
       "      <th></th>\n",
       "      <th>text</th>\n",
       "      <th>expanded_urls</th>\n",
       "    </tr>\n",
       "    <tr>\n",
       "      <th>tweet_id</th>\n",
       "      <th></th>\n",
       "      <th></th>\n",
       "    </tr>\n",
       "  </thead>\n",
       "  <tbody>\n",
       "    <tr>\n",
       "      <th>750381685133418496</th>\n",
       "      <td>13/10 such a good doggo\\n@spaghemily</td>\n",
       "      <td>NaN</td>\n",
       "    </tr>\n",
       "    <tr>\n",
       "      <th>878281511006478336</th>\n",
       "      <td>Meet Shadow. In an attempt to reach maximum zooming borkdrive, he tore his ACL. Still 13/10 tho. Help him out below\\n\\nhttps://t.co/245xJJElsY https://t.co/lUiQH219v6</td>\n",
       "      <td>https://www.gofundme.com/3yd6y1c,https://twitter.com/dog_rates/status/878281511006478336/photo/1</td>\n",
       "    </tr>\n",
       "    <tr>\n",
       "      <th>832032802820481025</th>\n",
       "      <td>This is Miguel. He was the only remaining doggo at the adoption center after the weekend. Let's change that. 12/10\\n\\nhttps://t.co/P0bO8mCQwN https://t.co/SU4K34NT4M</td>\n",
       "      <td>https://www.petfinder.com/petdetail/34918210,https://twitter.com/dog_rates/status/832032802820481025/photo/1,https://twitter.com/dog_rates/status/832032802820481025/photo/1,https://twitter.com/dog_rates/status/832032802820481025/photo/1,https://twitter.com/dog_rates/status/832032802820481025/photo/1</td>\n",
       "    </tr>\n",
       "  </tbody>\n",
       "</table>\n",
       "</div>"
      ],
      "text/plain": [
       "                                                                                                                                                                                      text  \\\n",
       "tweet_id                                                                                                                                                                                     \n",
       "750381685133418496  13/10 such a good doggo\\n@spaghemily                                                                                                                                     \n",
       "878281511006478336  Meet Shadow. In an attempt to reach maximum zooming borkdrive, he tore his ACL. Still 13/10 tho. Help him out below\\n\\nhttps://t.co/245xJJElsY https://t.co/lUiQH219v6   \n",
       "832032802820481025  This is Miguel. He was the only remaining doggo at the adoption center after the weekend. Let's change that. 12/10\\n\\nhttps://t.co/P0bO8mCQwN https://t.co/SU4K34NT4M    \n",
       "\n",
       "                                                                                                                                                                                                                                                                                                                   expanded_urls  \n",
       "tweet_id                                                                                                                                                                                                                                                                                                                          \n",
       "750381685133418496  NaN                                                                                                                                                                                                                                                                                                           \n",
       "878281511006478336  https://www.gofundme.com/3yd6y1c,https://twitter.com/dog_rates/status/878281511006478336/photo/1                                                                                                                                                                                                              \n",
       "832032802820481025  https://www.petfinder.com/petdetail/34918210,https://twitter.com/dog_rates/status/832032802820481025/photo/1,https://twitter.com/dog_rates/status/832032802820481025/photo/1,https://twitter.com/dog_rates/status/832032802820481025/photo/1,https://twitter.com/dog_rates/status/832032802820481025/photo/1  "
      ]
     },
     "execution_count": 28,
     "metadata": {},
     "output_type": "execute_result"
    }
   ],
   "source": [
    "# examining expanded urls\n",
    "twitter_archive[~twitter_archive.expanded_urls.str.startswith(('https://twitter.com','http://twitter.com', 'https://vine.co'), na=False)].sample(3)[['text','expanded_urls']]"
   ]
  },
  {
   "cell_type": "code",
   "execution_count": 29,
   "metadata": {},
   "outputs": [
    {
     "data": {
      "text/plain": [
       "639"
      ]
     },
     "execution_count": 29,
     "metadata": {},
     "output_type": "execute_result"
    }
   ],
   "source": [
    "# examining for two or more urls in the expanded urls\n",
    "twitter_archive[twitter_archive.expanded_urls.str.contains(',', na = False)].expanded_urls.count()"
   ]
  },
  {
   "cell_type": "markdown",
   "metadata": {},
   "source": [
    "### Quality [Diry Data] - Content issue \n",
    "\n",
    "#### twitter_archive\n",
    "\n",
    "- Remove retweets data from the dataset.\n",
    "- Remove HTML from rows in source column\n",
    "- Removing unnecessary columns.\n",
    "- Dog classification (doggo, floofer, pupper or puppo) should be one column. \n",
    "- The timestamp has an incorrect datatype - is an object, should be DateTime\n",
    "- Float ratings have been incorrectly read from the text of tweet.\n",
    "- Correct denominators other than 10.\n",
    "- We have 639 expanded urls which contain more than one url address and 59 missing expanded urls.\n",
    "\n",
    "#### image_prediction\n",
    "- Rename columns - Columns names are confusing and do not give much information about the content.\n",
    "- Drop 66 image_url duplicated\n",
    "\n",
    "### Tidiness [Messy Data] - Issues in structure \n",
    "- Only 2075 images have been classified as dog images for top prediction.\n",
    "- twitter_archive_clean, image_prediction_clean and twitter_api should be part of one dataset i.e. merged."
   ]
  },
  {
   "cell_type": "markdown",
   "metadata": {},
   "source": [
    "### Assess: Image Predictions"
   ]
  },
  {
   "cell_type": "code",
   "execution_count": 30,
   "metadata": {},
   "outputs": [
    {
     "data": {
      "text/html": [
       "<div>\n",
       "<style scoped>\n",
       "    .dataframe tbody tr th:only-of-type {\n",
       "        vertical-align: middle;\n",
       "    }\n",
       "\n",
       "    .dataframe tbody tr th {\n",
       "        vertical-align: top;\n",
       "    }\n",
       "\n",
       "    .dataframe thead th {\n",
       "        text-align: right;\n",
       "    }\n",
       "</style>\n",
       "<table border=\"1\" class=\"dataframe\">\n",
       "  <thead>\n",
       "    <tr style=\"text-align: right;\">\n",
       "      <th></th>\n",
       "      <th>jpg_url</th>\n",
       "      <th>img_num</th>\n",
       "      <th>p1</th>\n",
       "      <th>p1_conf</th>\n",
       "      <th>p1_dog</th>\n",
       "      <th>p2</th>\n",
       "      <th>p2_conf</th>\n",
       "      <th>p2_dog</th>\n",
       "      <th>p3</th>\n",
       "      <th>p3_conf</th>\n",
       "      <th>p3_dog</th>\n",
       "    </tr>\n",
       "    <tr>\n",
       "      <th>tweet_id</th>\n",
       "      <th></th>\n",
       "      <th></th>\n",
       "      <th></th>\n",
       "      <th></th>\n",
       "      <th></th>\n",
       "      <th></th>\n",
       "      <th></th>\n",
       "      <th></th>\n",
       "      <th></th>\n",
       "      <th></th>\n",
       "      <th></th>\n",
       "    </tr>\n",
       "  </thead>\n",
       "  <tbody>\n",
       "    <tr>\n",
       "      <th>715696743237730304</th>\n",
       "      <td>https://pbs.twimg.com/media/Ce6qZC2WAAAcSoI.jpg</td>\n",
       "      <td>1</td>\n",
       "      <td>Staffordshire_bullterrier</td>\n",
       "      <td>0.427836</td>\n",
       "      <td>True</td>\n",
       "      <td>pug</td>\n",
       "      <td>0.221409</td>\n",
       "      <td>True</td>\n",
       "      <td>French_bulldog</td>\n",
       "      <td>0.132135</td>\n",
       "      <td>True</td>\n",
       "    </tr>\n",
       "    <tr>\n",
       "      <th>743510151680958465</th>\n",
       "      <td>https://pbs.twimg.com/ext_tw_video_thumb/743509040018268160/pu/img/Ol2OgO5f8ciUp80r.jpg</td>\n",
       "      <td>1</td>\n",
       "      <td>sea_lion</td>\n",
       "      <td>0.859046</td>\n",
       "      <td>False</td>\n",
       "      <td>tub</td>\n",
       "      <td>0.020405</td>\n",
       "      <td>False</td>\n",
       "      <td>hippopotamus</td>\n",
       "      <td>0.013095</td>\n",
       "      <td>False</td>\n",
       "    </tr>\n",
       "    <tr>\n",
       "      <th>796387464403357696</th>\n",
       "      <td>https://pbs.twimg.com/media/Cw1WKu1UQAAvWsu.jpg</td>\n",
       "      <td>1</td>\n",
       "      <td>Pekinese</td>\n",
       "      <td>0.461164</td>\n",
       "      <td>True</td>\n",
       "      <td>Pomeranian</td>\n",
       "      <td>0.288650</td>\n",
       "      <td>True</td>\n",
       "      <td>Siamese_cat</td>\n",
       "      <td>0.052423</td>\n",
       "      <td>False</td>\n",
       "    </tr>\n",
       "    <tr>\n",
       "      <th>813157409116065792</th>\n",
       "      <td>https://pbs.twimg.com/media/C0jqVVOXUAAGJ0G.jpg</td>\n",
       "      <td>2</td>\n",
       "      <td>Siamese_cat</td>\n",
       "      <td>0.843911</td>\n",
       "      <td>False</td>\n",
       "      <td>Pembroke</td>\n",
       "      <td>0.070567</td>\n",
       "      <td>True</td>\n",
       "      <td>Cardigan</td>\n",
       "      <td>0.041916</td>\n",
       "      <td>True</td>\n",
       "    </tr>\n",
       "    <tr>\n",
       "      <th>671874878652489728</th>\n",
       "      <td>https://pbs.twimg.com/media/CVL6op1WEAAUFE7.jpg</td>\n",
       "      <td>1</td>\n",
       "      <td>china_cabinet</td>\n",
       "      <td>0.996031</td>\n",
       "      <td>False</td>\n",
       "      <td>entertainment_center</td>\n",
       "      <td>0.001986</td>\n",
       "      <td>False</td>\n",
       "      <td>bookcase</td>\n",
       "      <td>0.001652</td>\n",
       "      <td>False</td>\n",
       "    </tr>\n",
       "    <tr>\n",
       "      <th>746507379341139972</th>\n",
       "      <td>https://pbs.twimg.com/media/Clwgf4bWgAAB15c.jpg</td>\n",
       "      <td>1</td>\n",
       "      <td>toy_poodle</td>\n",
       "      <td>0.508292</td>\n",
       "      <td>True</td>\n",
       "      <td>Lakeland_terrier</td>\n",
       "      <td>0.234458</td>\n",
       "      <td>True</td>\n",
       "      <td>affenpinscher</td>\n",
       "      <td>0.084563</td>\n",
       "      <td>True</td>\n",
       "    </tr>\n",
       "    <tr>\n",
       "      <th>887705289381826560</th>\n",
       "      <td>https://pbs.twimg.com/media/DFHDQBbXgAEqY7t.jpg</td>\n",
       "      <td>1</td>\n",
       "      <td>basset</td>\n",
       "      <td>0.821664</td>\n",
       "      <td>True</td>\n",
       "      <td>redbone</td>\n",
       "      <td>0.087582</td>\n",
       "      <td>True</td>\n",
       "      <td>Weimaraner</td>\n",
       "      <td>0.026236</td>\n",
       "      <td>True</td>\n",
       "    </tr>\n",
       "    <tr>\n",
       "      <th>690374419777196032</th>\n",
       "      <td>https://pbs.twimg.com/media/CZSz3vWXEAACElU.jpg</td>\n",
       "      <td>1</td>\n",
       "      <td>kuvasz</td>\n",
       "      <td>0.286345</td>\n",
       "      <td>True</td>\n",
       "      <td>Labrador_retriever</td>\n",
       "      <td>0.107144</td>\n",
       "      <td>True</td>\n",
       "      <td>ice_bear</td>\n",
       "      <td>0.085086</td>\n",
       "      <td>False</td>\n",
       "    </tr>\n",
       "    <tr>\n",
       "      <th>698710712454139905</th>\n",
       "      <td>https://pbs.twimg.com/media/CbJRrigW0AIcJ2N.jpg</td>\n",
       "      <td>1</td>\n",
       "      <td>Samoyed</td>\n",
       "      <td>0.329895</td>\n",
       "      <td>True</td>\n",
       "      <td>shoji</td>\n",
       "      <td>0.165772</td>\n",
       "      <td>False</td>\n",
       "      <td>prison</td>\n",
       "      <td>0.103596</td>\n",
       "      <td>False</td>\n",
       "    </tr>\n",
       "    <tr>\n",
       "      <th>699775878809702401</th>\n",
       "      <td>https://pbs.twimg.com/media/CbYac83W4AAUH1O.jpg</td>\n",
       "      <td>1</td>\n",
       "      <td>Dandie_Dinmont</td>\n",
       "      <td>0.271683</td>\n",
       "      <td>True</td>\n",
       "      <td>Old_English_sheepdog</td>\n",
       "      <td>0.164931</td>\n",
       "      <td>True</td>\n",
       "      <td>otterhound</td>\n",
       "      <td>0.105918</td>\n",
       "      <td>True</td>\n",
       "    </tr>\n",
       "  </tbody>\n",
       "</table>\n",
       "</div>"
      ],
      "text/plain": [
       "                                                                                                    jpg_url  \\\n",
       "tweet_id                                                                                                      \n",
       "715696743237730304  https://pbs.twimg.com/media/Ce6qZC2WAAAcSoI.jpg                                           \n",
       "743510151680958465  https://pbs.twimg.com/ext_tw_video_thumb/743509040018268160/pu/img/Ol2OgO5f8ciUp80r.jpg   \n",
       "796387464403357696  https://pbs.twimg.com/media/Cw1WKu1UQAAvWsu.jpg                                           \n",
       "813157409116065792  https://pbs.twimg.com/media/C0jqVVOXUAAGJ0G.jpg                                           \n",
       "671874878652489728  https://pbs.twimg.com/media/CVL6op1WEAAUFE7.jpg                                           \n",
       "746507379341139972  https://pbs.twimg.com/media/Clwgf4bWgAAB15c.jpg                                           \n",
       "887705289381826560  https://pbs.twimg.com/media/DFHDQBbXgAEqY7t.jpg                                           \n",
       "690374419777196032  https://pbs.twimg.com/media/CZSz3vWXEAACElU.jpg                                           \n",
       "698710712454139905  https://pbs.twimg.com/media/CbJRrigW0AIcJ2N.jpg                                           \n",
       "699775878809702401  https://pbs.twimg.com/media/CbYac83W4AAUH1O.jpg                                           \n",
       "\n",
       "                    img_num                         p1   p1_conf  p1_dog  \\\n",
       "tweet_id                                                                   \n",
       "715696743237730304  1        Staffordshire_bullterrier  0.427836  True     \n",
       "743510151680958465  1        sea_lion                   0.859046  False    \n",
       "796387464403357696  1        Pekinese                   0.461164  True     \n",
       "813157409116065792  2        Siamese_cat                0.843911  False    \n",
       "671874878652489728  1        china_cabinet              0.996031  False    \n",
       "746507379341139972  1        toy_poodle                 0.508292  True     \n",
       "887705289381826560  1        basset                     0.821664  True     \n",
       "690374419777196032  1        kuvasz                     0.286345  True     \n",
       "698710712454139905  1        Samoyed                    0.329895  True     \n",
       "699775878809702401  1        Dandie_Dinmont             0.271683  True     \n",
       "\n",
       "                                      p2   p2_conf  p2_dog              p3  \\\n",
       "tweet_id                                                                     \n",
       "715696743237730304  pug                   0.221409  True    French_bulldog   \n",
       "743510151680958465  tub                   0.020405  False   hippopotamus     \n",
       "796387464403357696  Pomeranian            0.288650  True    Siamese_cat      \n",
       "813157409116065792  Pembroke              0.070567  True    Cardigan         \n",
       "671874878652489728  entertainment_center  0.001986  False   bookcase         \n",
       "746507379341139972  Lakeland_terrier      0.234458  True    affenpinscher    \n",
       "887705289381826560  redbone               0.087582  True    Weimaraner       \n",
       "690374419777196032  Labrador_retriever    0.107144  True    ice_bear         \n",
       "698710712454139905  shoji                 0.165772  False   prison           \n",
       "699775878809702401  Old_English_sheepdog  0.164931  True    otterhound       \n",
       "\n",
       "                     p3_conf  p3_dog  \n",
       "tweet_id                              \n",
       "715696743237730304  0.132135  True    \n",
       "743510151680958465  0.013095  False   \n",
       "796387464403357696  0.052423  False   \n",
       "813157409116065792  0.041916  True    \n",
       "671874878652489728  0.001652  False   \n",
       "746507379341139972  0.084563  True    \n",
       "887705289381826560  0.026236  True    \n",
       "690374419777196032  0.085086  False   \n",
       "698710712454139905  0.103596  False   \n",
       "699775878809702401  0.105918  True    "
      ]
     },
     "execution_count": 30,
     "metadata": {},
     "output_type": "execute_result"
    }
   ],
   "source": [
    "# viewing sample of data\n",
    "image_prediction.sample(10)"
   ]
  },
  {
   "cell_type": "code",
   "execution_count": 31,
   "metadata": {},
   "outputs": [
    {
     "name": "stdout",
     "output_type": "stream",
     "text": [
      "<class 'pandas.core.frame.DataFrame'>\n",
      "Int64Index: 2075 entries, 666020888022790149 to 892420643555336193\n",
      "Data columns (total 11 columns):\n",
      " #   Column   Non-Null Count  Dtype  \n",
      "---  ------   --------------  -----  \n",
      " 0   jpg_url  2075 non-null   object \n",
      " 1   img_num  2075 non-null   int64  \n",
      " 2   p1       2075 non-null   object \n",
      " 3   p1_conf  2075 non-null   float64\n",
      " 4   p1_dog   2075 non-null   bool   \n",
      " 5   p2       2075 non-null   object \n",
      " 6   p2_conf  2075 non-null   float64\n",
      " 7   p2_dog   2075 non-null   bool   \n",
      " 8   p3       2075 non-null   object \n",
      " 9   p3_conf  2075 non-null   float64\n",
      " 10  p3_dog   2075 non-null   bool   \n",
      "dtypes: bool(3), float64(3), int64(1), object(4)\n",
      "memory usage: 152.0+ KB\n"
     ]
    }
   ],
   "source": [
    "# Information about the dataset\n",
    "image_prediction.info()"
   ]
  },
  {
   "cell_type": "code",
   "execution_count": 32,
   "metadata": {},
   "outputs": [
    {
     "data": {
      "text/plain": [
       "66"
      ]
     },
     "execution_count": 32,
     "metadata": {},
     "output_type": "execute_result"
    }
   ],
   "source": [
    "# examining jpg_url for duplicates\n",
    "sum(image_prediction.jpg_url.duplicated())"
   ]
  },
  {
   "cell_type": "code",
   "execution_count": 33,
   "metadata": {},
   "outputs": [
    {
     "data": {
      "text/plain": [
       "66"
      ]
     },
     "execution_count": 33,
     "metadata": {},
     "output_type": "execute_result"
    }
   ],
   "source": [
    "# examining prediction table for any duplicated images\n",
    "len(image_prediction[image_prediction.jpg_url.duplicated()])"
   ]
  },
  {
   "cell_type": "code",
   "execution_count": 34,
   "metadata": {},
   "outputs": [
    {
     "data": {
      "text/plain": [
       "0"
      ]
     },
     "execution_count": 34,
     "metadata": {},
     "output_type": "execute_result"
    }
   ],
   "source": [
    "# examining jpg_url to confirm if it contains only jpg and png images\n",
    "image_prediction[~image_prediction.jpg_url.str.endswith(('.jpg', '.png'), na = False)].jpg_url.count()"
   ]
  },
  {
   "cell_type": "code",
   "execution_count": 35,
   "metadata": {},
   "outputs": [
    {
     "data": {
      "text/plain": [
       "1    1780\n",
       "2    198 \n",
       "3    66  \n",
       "4    31  \n",
       "Name: img_num, dtype: int64"
      ]
     },
     "execution_count": 35,
     "metadata": {},
     "output_type": "execute_result"
    }
   ],
   "source": [
    "image_prediction.img_num.value_counts()"
   ]
  },
  {
   "cell_type": "code",
   "execution_count": 36,
   "metadata": {},
   "outputs": [
    {
     "data": {
      "text/plain": [
       "tweet_id\n",
       "771770456517009408    papillon                \n",
       "685663452032069632    Chesapeake_Bay_retriever\n",
       "680145970311643136    miniature_poodle        \n",
       "Name: p1, dtype: object"
      ]
     },
     "execution_count": 36,
     "metadata": {},
     "output_type": "execute_result"
    }
   ],
   "source": [
    "# examining 1st prediction\n",
    "image_prediction.p1.sample(3)"
   ]
  },
  {
   "cell_type": "code",
   "execution_count": 37,
   "metadata": {},
   "outputs": [
    {
     "data": {
      "text/plain": [
       "2075"
      ]
     },
     "execution_count": 37,
     "metadata": {},
     "output_type": "execute_result"
    }
   ],
   "source": [
    "# examining dog predictions\n",
    "image_prediction.p1_dog.count()"
   ]
  },
  {
   "cell_type": "markdown",
   "metadata": {},
   "source": [
    "### Assess: Twitter API Data"
   ]
  },
  {
   "cell_type": "code",
   "execution_count": 38,
   "metadata": {},
   "outputs": [
    {
     "data": {
      "text/html": [
       "<div>\n",
       "<style scoped>\n",
       "    .dataframe tbody tr th:only-of-type {\n",
       "        vertical-align: middle;\n",
       "    }\n",
       "\n",
       "    .dataframe tbody tr th {\n",
       "        vertical-align: top;\n",
       "    }\n",
       "\n",
       "    .dataframe thead th {\n",
       "        text-align: right;\n",
       "    }\n",
       "</style>\n",
       "<table border=\"1\" class=\"dataframe\">\n",
       "  <thead>\n",
       "    <tr style=\"text-align: right;\">\n",
       "      <th></th>\n",
       "      <th>favorites</th>\n",
       "      <th>retweets</th>\n",
       "    </tr>\n",
       "    <tr>\n",
       "      <th>tweet_id</th>\n",
       "      <th></th>\n",
       "      <th></th>\n",
       "    </tr>\n",
       "  </thead>\n",
       "  <tbody>\n",
       "    <tr>\n",
       "      <th>670452855871037440</th>\n",
       "      <td>580</td>\n",
       "      <td>225</td>\n",
       "    </tr>\n",
       "    <tr>\n",
       "      <th>693642232151285760</th>\n",
       "      <td>2790</td>\n",
       "      <td>472</td>\n",
       "    </tr>\n",
       "    <tr>\n",
       "      <th>747512671126323200</th>\n",
       "      <td>6110</td>\n",
       "      <td>1803</td>\n",
       "    </tr>\n",
       "  </tbody>\n",
       "</table>\n",
       "</div>"
      ],
      "text/plain": [
       "                    favorites  retweets\n",
       "tweet_id                               \n",
       "670452855871037440  580        225     \n",
       "693642232151285760  2790       472     \n",
       "747512671126323200  6110       1803    "
      ]
     },
     "execution_count": 38,
     "metadata": {},
     "output_type": "execute_result"
    }
   ],
   "source": [
    "# viewing sample of data\n",
    "twitter_api.sample(3)"
   ]
  },
  {
   "cell_type": "code",
   "execution_count": 39,
   "metadata": {},
   "outputs": [
    {
     "name": "stdout",
     "output_type": "stream",
     "text": [
      "<class 'pandas.core.frame.DataFrame'>\n",
      "Int64Index: 2354 entries, 892420643555336193 to 666020888022790149\n",
      "Data columns (total 2 columns):\n",
      " #   Column     Non-Null Count  Dtype\n",
      "---  ------     --------------  -----\n",
      " 0   favorites  2354 non-null   int64\n",
      " 1   retweets   2354 non-null   int64\n",
      "dtypes: int64(2)\n",
      "memory usage: 55.2 KB\n"
     ]
    }
   ],
   "source": [
    "# Information about the dataset\n",
    "twitter_api.info()"
   ]
  },
  {
   "cell_type": "code",
   "execution_count": 40,
   "metadata": {},
   "outputs": [
    {
     "data": {
      "text/plain": [
       "True"
      ]
     },
     "execution_count": 40,
     "metadata": {},
     "output_type": "execute_result"
    }
   ],
   "source": [
    "# examining if ids are unique\n",
    "twitter_archive.index.is_unique"
   ]
  },
  {
   "cell_type": "code",
   "execution_count": 41,
   "metadata": {},
   "outputs": [
    {
     "data": {
      "text/plain": [
       "0"
      ]
     },
     "execution_count": 41,
     "metadata": {},
     "output_type": "execute_result"
    }
   ],
   "source": [
    "# examining twitter_archive table for any index values\n",
    "sum(twitter_archive.index.isnull())"
   ]
  },
  {
   "cell_type": "code",
   "execution_count": 42,
   "metadata": {},
   "outputs": [
    {
     "data": {
      "text/plain": [
       "2354"
      ]
     },
     "execution_count": 42,
     "metadata": {},
     "output_type": "execute_result"
    }
   ],
   "source": [
    "# examining how many tweets are retweets\n",
    "sum((twitter_api.retweets.value_counts()))"
   ]
  },
  {
   "cell_type": "code",
   "execution_count": 43,
   "metadata": {},
   "outputs": [
    {
     "data": {
      "text/plain": [
       "0"
      ]
     },
     "execution_count": 43,
     "metadata": {},
     "output_type": "execute_result"
    }
   ],
   "source": [
    "# examining twitter_ap table for any null retweets values\n",
    "sum(twitter_api.retweets.isnull())"
   ]
  },
  {
   "cell_type": "markdown",
   "metadata": {},
   "source": [
    "<a id='clean'></a>\n",
    "## Cleaning Data\n",
    "\n",
    "Using pandas, clean the quality and tidiness issues identified in the Assessing Data section."
   ]
  },
  {
   "cell_type": "markdown",
   "metadata": {},
   "source": [
    "###  Clean: Twitter Archive Data"
   ]
  },
  {
   "cell_type": "code",
   "execution_count": 44,
   "metadata": {},
   "outputs": [],
   "source": [
    "# creating a copy of twitter archive dataset\n",
    "twitter_archive_clean = twitter_archive.copy()"
   ]
  },
  {
   "cell_type": "code",
   "execution_count": 45,
   "metadata": {},
   "outputs": [
    {
     "data": {
      "text/html": [
       "<div>\n",
       "<style scoped>\n",
       "    .dataframe tbody tr th:only-of-type {\n",
       "        vertical-align: middle;\n",
       "    }\n",
       "\n",
       "    .dataframe tbody tr th {\n",
       "        vertical-align: top;\n",
       "    }\n",
       "\n",
       "    .dataframe thead th {\n",
       "        text-align: right;\n",
       "    }\n",
       "</style>\n",
       "<table border=\"1\" class=\"dataframe\">\n",
       "  <thead>\n",
       "    <tr style=\"text-align: right;\">\n",
       "      <th></th>\n",
       "      <th>in_reply_to_status_id</th>\n",
       "      <th>in_reply_to_user_id</th>\n",
       "      <th>timestamp</th>\n",
       "      <th>source</th>\n",
       "      <th>text</th>\n",
       "      <th>retweeted_status_id</th>\n",
       "      <th>retweeted_status_user_id</th>\n",
       "      <th>retweeted_status_timestamp</th>\n",
       "      <th>expanded_urls</th>\n",
       "      <th>rating_numerator</th>\n",
       "      <th>rating_denominator</th>\n",
       "      <th>name</th>\n",
       "      <th>doggo</th>\n",
       "      <th>floofer</th>\n",
       "      <th>pupper</th>\n",
       "      <th>puppo</th>\n",
       "      <th>number_categories</th>\n",
       "    </tr>\n",
       "    <tr>\n",
       "      <th>tweet_id</th>\n",
       "      <th></th>\n",
       "      <th></th>\n",
       "      <th></th>\n",
       "      <th></th>\n",
       "      <th></th>\n",
       "      <th></th>\n",
       "      <th></th>\n",
       "      <th></th>\n",
       "      <th></th>\n",
       "      <th></th>\n",
       "      <th></th>\n",
       "      <th></th>\n",
       "      <th></th>\n",
       "      <th></th>\n",
       "      <th></th>\n",
       "      <th></th>\n",
       "      <th></th>\n",
       "    </tr>\n",
       "  </thead>\n",
       "  <tbody>\n",
       "    <tr>\n",
       "      <th>747648653817413632</th>\n",
       "      <td>NaN</td>\n",
       "      <td>NaN</td>\n",
       "      <td>2016-06-28 04:31:44 +0000</td>\n",
       "      <td>&lt;a href=\"http://vine.co\" rel=\"nofollow\"&gt;Vine - Make a Scene&lt;/a&gt;</td>\n",
       "      <td>This is Keurig. He apparently headbutts other dogs to greet them. Not cool Keurig. So fluffy tho 12/10  https://t.co/zexdr61Q5M</td>\n",
       "      <td>NaN</td>\n",
       "      <td>NaN</td>\n",
       "      <td>NaN</td>\n",
       "      <td>https://vine.co/v/iqIZFtOxEMB</td>\n",
       "      <td>12</td>\n",
       "      <td>10</td>\n",
       "      <td>Keurig</td>\n",
       "      <td>0</td>\n",
       "      <td>0</td>\n",
       "      <td>0</td>\n",
       "      <td>0</td>\n",
       "      <td>0</td>\n",
       "    </tr>\n",
       "    <tr>\n",
       "      <th>783334639985389568</th>\n",
       "      <td>NaN</td>\n",
       "      <td>NaN</td>\n",
       "      <td>2016-10-04 15:55:06 +0000</td>\n",
       "      <td>&lt;a href=\"http://twitter.com/download/iphone\" rel=\"nofollow\"&gt;Twitter for iPhone&lt;/a&gt;</td>\n",
       "      <td>This is Dave. He's currently in a predicament. Doesn't seem to mind tho. 12/10 someone assist Dave https://t.co/nfprKAXqwu</td>\n",
       "      <td>NaN</td>\n",
       "      <td>NaN</td>\n",
       "      <td>NaN</td>\n",
       "      <td>https://twitter.com/dog_rates/status/783334639985389568/photo/1,https://twitter.com/dog_rates/status/783334639985389568/photo/1,https://twitter.com/dog_rates/status/783334639985389568/photo/1</td>\n",
       "      <td>12</td>\n",
       "      <td>10</td>\n",
       "      <td>Dave</td>\n",
       "      <td>0</td>\n",
       "      <td>0</td>\n",
       "      <td>0</td>\n",
       "      <td>0</td>\n",
       "      <td>0</td>\n",
       "    </tr>\n",
       "    <tr>\n",
       "      <th>712717840512598017</th>\n",
       "      <td>NaN</td>\n",
       "      <td>NaN</td>\n",
       "      <td>2016-03-23 19:09:09 +0000</td>\n",
       "      <td>&lt;a href=\"http://twitter.com/download/iphone\" rel=\"nofollow\"&gt;Twitter for iPhone&lt;/a&gt;</td>\n",
       "      <td>Please don't send in any more polar bears. We only rate dogs. Thank you... 10/10 https://t.co/83RGhdIQz2</td>\n",
       "      <td>NaN</td>\n",
       "      <td>NaN</td>\n",
       "      <td>NaN</td>\n",
       "      <td>https://twitter.com/dog_rates/status/712717840512598017/photo/1</td>\n",
       "      <td>10</td>\n",
       "      <td>10</td>\n",
       "      <td>None</td>\n",
       "      <td>0</td>\n",
       "      <td>0</td>\n",
       "      <td>0</td>\n",
       "      <td>0</td>\n",
       "      <td>0</td>\n",
       "    </tr>\n",
       "    <tr>\n",
       "      <th>714485234495041536</th>\n",
       "      <td>NaN</td>\n",
       "      <td>NaN</td>\n",
       "      <td>2016-03-28 16:12:09 +0000</td>\n",
       "      <td>&lt;a href=\"http://vine.co\" rel=\"nofollow\"&gt;Vine - Make a Scene&lt;/a&gt;</td>\n",
       "      <td>This is Blitz. He screams. 10/10 (vid by @yeaahliv) https://t.co/MfW2aym5UF</td>\n",
       "      <td>NaN</td>\n",
       "      <td>NaN</td>\n",
       "      <td>NaN</td>\n",
       "      <td>https://vine.co/v/iDrOvVqq0A6</td>\n",
       "      <td>10</td>\n",
       "      <td>10</td>\n",
       "      <td>Blitz</td>\n",
       "      <td>0</td>\n",
       "      <td>0</td>\n",
       "      <td>0</td>\n",
       "      <td>0</td>\n",
       "      <td>0</td>\n",
       "    </tr>\n",
       "    <tr>\n",
       "      <th>738537504001953792</th>\n",
       "      <td>NaN</td>\n",
       "      <td>NaN</td>\n",
       "      <td>2016-06-03 01:07:16 +0000</td>\n",
       "      <td>&lt;a href=\"http://twitter.com/download/iphone\" rel=\"nofollow\"&gt;Twitter for iPhone&lt;/a&gt;</td>\n",
       "      <td>This is Bayley. She fell asleep trying to escape her evil fence enclosure. 11/10 night night puppo https://t.co/AxSiqAKEKu</td>\n",
       "      <td>NaN</td>\n",
       "      <td>NaN</td>\n",
       "      <td>NaN</td>\n",
       "      <td>https://twitter.com/dog_rates/status/738537504001953792/photo/1,https://twitter.com/dog_rates/status/738537504001953792/photo/1</td>\n",
       "      <td>11</td>\n",
       "      <td>10</td>\n",
       "      <td>Bayley</td>\n",
       "      <td>0</td>\n",
       "      <td>0</td>\n",
       "      <td>0</td>\n",
       "      <td>1</td>\n",
       "      <td>1</td>\n",
       "    </tr>\n",
       "  </tbody>\n",
       "</table>\n",
       "</div>"
      ],
      "text/plain": [
       "                    in_reply_to_status_id  in_reply_to_user_id  \\\n",
       "tweet_id                                                         \n",
       "747648653817413632 NaN                    NaN                    \n",
       "783334639985389568 NaN                    NaN                    \n",
       "712717840512598017 NaN                    NaN                    \n",
       "714485234495041536 NaN                    NaN                    \n",
       "738537504001953792 NaN                    NaN                    \n",
       "\n",
       "                                    timestamp  \\\n",
       "tweet_id                                        \n",
       "747648653817413632  2016-06-28 04:31:44 +0000   \n",
       "783334639985389568  2016-10-04 15:55:06 +0000   \n",
       "712717840512598017  2016-03-23 19:09:09 +0000   \n",
       "714485234495041536  2016-03-28 16:12:09 +0000   \n",
       "738537504001953792  2016-06-03 01:07:16 +0000   \n",
       "\n",
       "                                                                                                source  \\\n",
       "tweet_id                                                                                                 \n",
       "747648653817413632  <a href=\"http://vine.co\" rel=\"nofollow\">Vine - Make a Scene</a>                      \n",
       "783334639985389568  <a href=\"http://twitter.com/download/iphone\" rel=\"nofollow\">Twitter for iPhone</a>   \n",
       "712717840512598017  <a href=\"http://twitter.com/download/iphone\" rel=\"nofollow\">Twitter for iPhone</a>   \n",
       "714485234495041536  <a href=\"http://vine.co\" rel=\"nofollow\">Vine - Make a Scene</a>                      \n",
       "738537504001953792  <a href=\"http://twitter.com/download/iphone\" rel=\"nofollow\">Twitter for iPhone</a>   \n",
       "\n",
       "                                                                                                                                               text  \\\n",
       "tweet_id                                                                                                                                              \n",
       "747648653817413632  This is Keurig. He apparently headbutts other dogs to greet them. Not cool Keurig. So fluffy tho 12/10  https://t.co/zexdr61Q5M   \n",
       "783334639985389568  This is Dave. He's currently in a predicament. Doesn't seem to mind tho. 12/10 someone assist Dave https://t.co/nfprKAXqwu        \n",
       "712717840512598017  Please don't send in any more polar bears. We only rate dogs. Thank you... 10/10 https://t.co/83RGhdIQz2                          \n",
       "714485234495041536  This is Blitz. He screams. 10/10 (vid by @yeaahliv) https://t.co/MfW2aym5UF                                                       \n",
       "738537504001953792  This is Bayley. She fell asleep trying to escape her evil fence enclosure. 11/10 night night puppo https://t.co/AxSiqAKEKu        \n",
       "\n",
       "                    retweeted_status_id  retweeted_status_user_id  \\\n",
       "tweet_id                                                            \n",
       "747648653817413632 NaN                  NaN                         \n",
       "783334639985389568 NaN                  NaN                         \n",
       "712717840512598017 NaN                  NaN                         \n",
       "714485234495041536 NaN                  NaN                         \n",
       "738537504001953792 NaN                  NaN                         \n",
       "\n",
       "                   retweeted_status_timestamp  \\\n",
       "tweet_id                                        \n",
       "747648653817413632  NaN                         \n",
       "783334639985389568  NaN                         \n",
       "712717840512598017  NaN                         \n",
       "714485234495041536  NaN                         \n",
       "738537504001953792  NaN                         \n",
       "\n",
       "                                                                                                                                                                                                      expanded_urls  \\\n",
       "tweet_id                                                                                                                                                                                                              \n",
       "747648653817413632  https://vine.co/v/iqIZFtOxEMB                                                                                                                                                                     \n",
       "783334639985389568  https://twitter.com/dog_rates/status/783334639985389568/photo/1,https://twitter.com/dog_rates/status/783334639985389568/photo/1,https://twitter.com/dog_rates/status/783334639985389568/photo/1   \n",
       "712717840512598017  https://twitter.com/dog_rates/status/712717840512598017/photo/1                                                                                                                                   \n",
       "714485234495041536  https://vine.co/v/iDrOvVqq0A6                                                                                                                                                                     \n",
       "738537504001953792  https://twitter.com/dog_rates/status/738537504001953792/photo/1,https://twitter.com/dog_rates/status/738537504001953792/photo/1                                                                   \n",
       "\n",
       "                    rating_numerator  rating_denominator    name  doggo  \\\n",
       "tweet_id                                                                  \n",
       "747648653817413632  12                10                  Keurig  0       \n",
       "783334639985389568  12                10                  Dave    0       \n",
       "712717840512598017  10                10                  None    0       \n",
       "714485234495041536  10                10                  Blitz   0       \n",
       "738537504001953792  11                10                  Bayley  0       \n",
       "\n",
       "                    floofer  pupper  puppo  number_categories  \n",
       "tweet_id                                                       \n",
       "747648653817413632  0        0       0      0                  \n",
       "783334639985389568  0        0       0      0                  \n",
       "712717840512598017  0        0       0      0                  \n",
       "714485234495041536  0        0       0      0                  \n",
       "738537504001953792  0        0       1      1                  "
      ]
     },
     "execution_count": 45,
     "metadata": {},
     "output_type": "execute_result"
    }
   ],
   "source": [
    "# viewing sample of data\n",
    "twitter_archive_clean.sample(5)"
   ]
  },
  {
   "cell_type": "markdown",
   "metadata": {},
   "source": [
    "**Quality Issue** <br>\n",
    "**_Define :_** Remove retweets data from the dataset."
   ]
  },
  {
   "cell_type": "markdown",
   "metadata": {},
   "source": [
    "**_Code:_** Select the rows from *twitter_archive_clean* that *retweeted_status_id* column that is null."
   ]
  },
  {
   "cell_type": "code",
   "execution_count": 46,
   "metadata": {},
   "outputs": [
    {
     "data": {
      "text/plain": [
       "(2356, 17)"
      ]
     },
     "execution_count": 46,
     "metadata": {},
     "output_type": "execute_result"
    }
   ],
   "source": [
    "# viewing shape of dataframe\n",
    "twitter_archive_clean.shape"
   ]
  },
  {
   "cell_type": "code",
   "execution_count": 47,
   "metadata": {},
   "outputs": [],
   "source": [
    "# removing retweets                                                 \n",
    "twitter_archive_clean = twitter_archive_clean[twitter_archive_clean['retweeted_status_id'].isnull()]"
   ]
  },
  {
   "cell_type": "markdown",
   "metadata": {},
   "source": [
    "**_Test:_**"
   ]
  },
  {
   "cell_type": "code",
   "execution_count": 48,
   "metadata": {},
   "outputs": [
    {
     "name": "stdout",
     "output_type": "stream",
     "text": [
      "0\n"
     ]
    }
   ],
   "source": [
    "# testing\n",
    "print(sum(twitter_archive_clean.retweeted_status_user_id.value_counts()))"
   ]
  },
  {
   "cell_type": "markdown",
   "metadata": {},
   "source": [
    "**Quality Issue** <br>\n",
    "**_Define:_** Remove HTML from rows in source column."
   ]
  },
  {
   "cell_type": "markdown",
   "metadata": {},
   "source": [
    "**_Code:_** Remove HTML from rows in source column"
   ]
  },
  {
   "cell_type": "code",
   "execution_count": 49,
   "metadata": {},
   "outputs": [],
   "source": [
    "# Remove HTML from rows in source column\n",
    "twitter_archive_clean['source'] = twitter_archive_clean['source'].str.replace(\n",
    "    '<a href=\"http://twitter.com/download/iphone\" rel=\"nofollow\">Twitter for iPhone</a>', 'Twitter for iPhone')\n",
    "twitter_archive_clean['source'] = twitter_archive_clean['source'].str.replace(\n",
    "    '<a href=\"http://vine.co\" rel=\"nofollow\">Vine - Make a Scene</a>', 'Vine')\n",
    "twitter_archive_clean['source'] = twitter_archive_clean['source'].str.replace(\n",
    "    '<a href=\"http://twitter.com\" rel=\"nofollow\">Twitter Web Client</a>', 'Twitter Web Client')\n",
    "twitter_archive_clean['source'] = twitter_archive_clean['source'].str.replace(\n",
    "    '<a href=\"https://about.twitter.com/products/tweetdeck\" rel=\"nofollow\">TweetDeck</a>', 'TweetDeck')"
   ]
  },
  {
   "cell_type": "markdown",
   "metadata": {},
   "source": [
    "**_Test:_**"
   ]
  },
  {
   "cell_type": "code",
   "execution_count": 50,
   "metadata": {},
   "outputs": [
    {
     "data": {
      "text/plain": [
       "Twitter for iPhone    2042\n",
       "Vine                  91  \n",
       "Twitter Web Client    31  \n",
       "TweetDeck             11  \n",
       "Name: source, dtype: int64"
      ]
     },
     "execution_count": 50,
     "metadata": {},
     "output_type": "execute_result"
    }
   ],
   "source": [
    "# making sure that HTML from rows in source column have been removed\n",
    "twitter_archive_clean.source.value_counts()"
   ]
  },
  {
   "cell_type": "markdown",
   "metadata": {},
   "source": [
    "**Quality Issue** <br>\n",
    "**_Define:_** removing unnecessary columns."
   ]
  },
  {
   "cell_type": "code",
   "execution_count": 51,
   "metadata": {},
   "outputs": [
    {
     "data": {
      "text/plain": [
       "Index(['in_reply_to_status_id', 'in_reply_to_user_id', 'timestamp', 'source',\n",
       "       'text', 'retweeted_status_id', 'retweeted_status_user_id',\n",
       "       'retweeted_status_timestamp', 'expanded_urls', 'rating_numerator',\n",
       "       'rating_denominator', 'name', 'doggo', 'floofer', 'pupper', 'puppo',\n",
       "       'number_categories'],\n",
       "      dtype='object')"
      ]
     },
     "execution_count": 51,
     "metadata": {},
     "output_type": "execute_result"
    }
   ],
   "source": [
    "# showing all columns\n",
    "twitter_archive_clean.columns"
   ]
  },
  {
   "cell_type": "markdown",
   "metadata": {},
   "source": [
    "**_Code:_** Removing unnecessary columns."
   ]
  },
  {
   "cell_type": "code",
   "execution_count": 52,
   "metadata": {},
   "outputs": [],
   "source": [
    "# removing unnecessary columns\n",
    "# removing empty retweeted_status columns and associated in_reply columns\n",
    "twitter_archive_clean.drop(['in_reply_to_status_id','in_reply_to_user_id','retweeted_status_id',\n",
    "           'retweeted_status_user_id','retweeted_status_timestamp'], axis = 1, inplace = True)"
   ]
  },
  {
   "cell_type": "markdown",
   "metadata": {},
   "source": [
    "**_Test:_**"
   ]
  },
  {
   "cell_type": "code",
   "execution_count": 53,
   "metadata": {},
   "outputs": [
    {
     "data": {
      "text/plain": [
       "(2175, 12)"
      ]
     },
     "execution_count": 53,
     "metadata": {},
     "output_type": "execute_result"
    }
   ],
   "source": [
    "# testing\n",
    "# showing the structure of twitter_archive_clean\n",
    "twitter_archive_clean.shape"
   ]
  },
  {
   "cell_type": "code",
   "execution_count": 54,
   "metadata": {},
   "outputs": [
    {
     "name": "stdout",
     "output_type": "stream",
     "text": [
      "<class 'pandas.core.frame.DataFrame'>\n",
      "Int64Index: 2175 entries, 892420643555336193 to 666020888022790149\n",
      "Data columns (total 12 columns):\n",
      " #   Column              Non-Null Count  Dtype \n",
      "---  ------              --------------  ----- \n",
      " 0   timestamp           2175 non-null   object\n",
      " 1   source              2175 non-null   object\n",
      " 2   text                2175 non-null   object\n",
      " 3   expanded_urls       2117 non-null   object\n",
      " 4   rating_numerator    2175 non-null   int64 \n",
      " 5   rating_denominator  2175 non-null   int64 \n",
      " 6   name                2175 non-null   object\n",
      " 7   doggo               2175 non-null   int64 \n",
      " 8   floofer             2175 non-null   int64 \n",
      " 9   pupper              2175 non-null   int64 \n",
      " 10  puppo               2175 non-null   int64 \n",
      " 11  number_categories   2175 non-null   int64 \n",
      "dtypes: int64(7), object(5)\n",
      "memory usage: 220.9+ KB\n"
     ]
    }
   ],
   "source": [
    "# testing\n",
    "# making sure no values in the retweeted columns\n",
    "twitter_archive_clean.info()"
   ]
  },
  {
   "cell_type": "code",
   "execution_count": 55,
   "metadata": {},
   "outputs": [
    {
     "data": {
      "text/html": [
       "<div>\n",
       "<style scoped>\n",
       "    .dataframe tbody tr th:only-of-type {\n",
       "        vertical-align: middle;\n",
       "    }\n",
       "\n",
       "    .dataframe tbody tr th {\n",
       "        vertical-align: top;\n",
       "    }\n",
       "\n",
       "    .dataframe thead th {\n",
       "        text-align: right;\n",
       "    }\n",
       "</style>\n",
       "<table border=\"1\" class=\"dataframe\">\n",
       "  <thead>\n",
       "    <tr style=\"text-align: right;\">\n",
       "      <th></th>\n",
       "      <th>timestamp</th>\n",
       "      <th>source</th>\n",
       "      <th>text</th>\n",
       "      <th>expanded_urls</th>\n",
       "      <th>rating_numerator</th>\n",
       "      <th>rating_denominator</th>\n",
       "      <th>name</th>\n",
       "      <th>doggo</th>\n",
       "      <th>floofer</th>\n",
       "      <th>pupper</th>\n",
       "      <th>puppo</th>\n",
       "      <th>number_categories</th>\n",
       "    </tr>\n",
       "    <tr>\n",
       "      <th>tweet_id</th>\n",
       "      <th></th>\n",
       "      <th></th>\n",
       "      <th></th>\n",
       "      <th></th>\n",
       "      <th></th>\n",
       "      <th></th>\n",
       "      <th></th>\n",
       "      <th></th>\n",
       "      <th></th>\n",
       "      <th></th>\n",
       "      <th></th>\n",
       "      <th></th>\n",
       "    </tr>\n",
       "  </thead>\n",
       "  <tbody>\n",
       "    <tr>\n",
       "      <th>686683045143953408</th>\n",
       "      <td>2016-01-11 22:56:10 +0000</td>\n",
       "      <td>Twitter for iPhone</td>\n",
       "      <td>This is Mona. She's a Yarborough Splishnsplash. Lost body during Nam. 11/10 revolutionary pupper https://t.co/pgD6h0yhgz</td>\n",
       "      <td>https://twitter.com/dog_rates/status/686683045143953408/photo/1</td>\n",
       "      <td>11</td>\n",
       "      <td>10</td>\n",
       "      <td>Mona</td>\n",
       "      <td>0</td>\n",
       "      <td>0</td>\n",
       "      <td>1</td>\n",
       "      <td>0</td>\n",
       "      <td>1</td>\n",
       "    </tr>\n",
       "    <tr>\n",
       "      <th>673342308415348736</th>\n",
       "      <td>2015-12-06 03:24:51 +0000</td>\n",
       "      <td>Twitter for iPhone</td>\n",
       "      <td>This is Django. He's a skilled assassin pupper. 10/10 https://t.co/w0YTuiRd1a</td>\n",
       "      <td>https://twitter.com/dog_rates/status/673342308415348736/photo/1</td>\n",
       "      <td>10</td>\n",
       "      <td>10</td>\n",
       "      <td>Django</td>\n",
       "      <td>0</td>\n",
       "      <td>0</td>\n",
       "      <td>1</td>\n",
       "      <td>0</td>\n",
       "      <td>1</td>\n",
       "    </tr>\n",
       "    <tr>\n",
       "      <th>675334060156301312</th>\n",
       "      <td>2015-12-11 15:19:21 +0000</td>\n",
       "      <td>Twitter for iPhone</td>\n",
       "      <td>Good morning here's a grass pupper. 12/10 https://t.co/2d68FmWGGs</td>\n",
       "      <td>https://twitter.com/dog_rates/status/675334060156301312/photo/1,https://twitter.com/dog_rates/status/675334060156301312/photo/1</td>\n",
       "      <td>12</td>\n",
       "      <td>10</td>\n",
       "      <td>None</td>\n",
       "      <td>0</td>\n",
       "      <td>0</td>\n",
       "      <td>1</td>\n",
       "      <td>0</td>\n",
       "      <td>1</td>\n",
       "    </tr>\n",
       "  </tbody>\n",
       "</table>\n",
       "</div>"
      ],
      "text/plain": [
       "                                    timestamp              source  \\\n",
       "tweet_id                                                            \n",
       "686683045143953408  2016-01-11 22:56:10 +0000  Twitter for iPhone   \n",
       "673342308415348736  2015-12-06 03:24:51 +0000  Twitter for iPhone   \n",
       "675334060156301312  2015-12-11 15:19:21 +0000  Twitter for iPhone   \n",
       "\n",
       "                                                                                                                                        text  \\\n",
       "tweet_id                                                                                                                                       \n",
       "686683045143953408  This is Mona. She's a Yarborough Splishnsplash. Lost body during Nam. 11/10 revolutionary pupper https://t.co/pgD6h0yhgz   \n",
       "673342308415348736  This is Django. He's a skilled assassin pupper. 10/10 https://t.co/w0YTuiRd1a                                              \n",
       "675334060156301312  Good morning here's a grass pupper. 12/10 https://t.co/2d68FmWGGs                                                          \n",
       "\n",
       "                                                                                                                                      expanded_urls  \\\n",
       "tweet_id                                                                                                                                              \n",
       "686683045143953408  https://twitter.com/dog_rates/status/686683045143953408/photo/1                                                                   \n",
       "673342308415348736  https://twitter.com/dog_rates/status/673342308415348736/photo/1                                                                   \n",
       "675334060156301312  https://twitter.com/dog_rates/status/675334060156301312/photo/1,https://twitter.com/dog_rates/status/675334060156301312/photo/1   \n",
       "\n",
       "                    rating_numerator  rating_denominator    name  doggo  \\\n",
       "tweet_id                                                                  \n",
       "686683045143953408  11                10                  Mona    0       \n",
       "673342308415348736  10                10                  Django  0       \n",
       "675334060156301312  12                10                  None    0       \n",
       "\n",
       "                    floofer  pupper  puppo  number_categories  \n",
       "tweet_id                                                       \n",
       "686683045143953408  0        1       0      1                  \n",
       "673342308415348736  0        1       0      1                  \n",
       "675334060156301312  0        1       0      1                  "
      ]
     },
     "execution_count": 55,
     "metadata": {},
     "output_type": "execute_result"
    }
   ],
   "source": [
    "# testing\n",
    "# viewing cleaned dataset\n",
    "twitter_archive_clean.sample(3)"
   ]
  },
  {
   "cell_type": "markdown",
   "metadata": {},
   "source": [
    "**Quality Issue** <br>\n",
    "**_Define:_** Dog classification (doggo, floofer, pupper or puppo) should be one column. \n",
    "- Some dogs have more than one category assigned."
   ]
  },
  {
   "cell_type": "markdown",
   "metadata": {},
   "source": [
    "**_Code:_** Dog classification (doggo, floofer, pupper or puppo) should be one column. "
   ]
  },
  {
   "cell_type": "code",
   "execution_count": 56,
   "metadata": {},
   "outputs": [],
   "source": [
    "# iterating dog types from text column\n",
    "for index, column in twitter_archive_clean.iterrows():\n",
    "    for word in ['puppo', 'pupper', 'doggo', 'floofer']:\n",
    "        if word.lower() in str(twitter_archive_clean.loc[index, 'text']).lower():\n",
    "            twitter_archive_clean.loc[index, 'dog_type'] = word.title()\n",
    "            \n",
    "# removing old columns\n",
    "twitter_archive_clean.drop(['puppo',\n",
    "                       'pupper',\n",
    "                       'doggo',\n",
    "                       'floofer'],\n",
    "                      axis=1, inplace=True)"
   ]
  },
  {
   "cell_type": "markdown",
   "metadata": {},
   "source": [
    "**_Test:_**"
   ]
  },
  {
   "cell_type": "code",
   "execution_count": 57,
   "metadata": {
    "scrolled": true
   },
   "outputs": [
    {
     "data": {
      "text/html": [
       "<div>\n",
       "<style scoped>\n",
       "    .dataframe tbody tr th:only-of-type {\n",
       "        vertical-align: middle;\n",
       "    }\n",
       "\n",
       "    .dataframe tbody tr th {\n",
       "        vertical-align: top;\n",
       "    }\n",
       "\n",
       "    .dataframe thead th {\n",
       "        text-align: right;\n",
       "    }\n",
       "</style>\n",
       "<table border=\"1\" class=\"dataframe\">\n",
       "  <thead>\n",
       "    <tr style=\"text-align: right;\">\n",
       "      <th></th>\n",
       "      <th>timestamp</th>\n",
       "      <th>source</th>\n",
       "      <th>text</th>\n",
       "      <th>expanded_urls</th>\n",
       "      <th>rating_numerator</th>\n",
       "      <th>rating_denominator</th>\n",
       "      <th>name</th>\n",
       "      <th>number_categories</th>\n",
       "      <th>dog_type</th>\n",
       "    </tr>\n",
       "    <tr>\n",
       "      <th>tweet_id</th>\n",
       "      <th></th>\n",
       "      <th></th>\n",
       "      <th></th>\n",
       "      <th></th>\n",
       "      <th></th>\n",
       "      <th></th>\n",
       "      <th></th>\n",
       "      <th></th>\n",
       "      <th></th>\n",
       "    </tr>\n",
       "  </thead>\n",
       "  <tbody>\n",
       "    <tr>\n",
       "      <th>748575535303884801</th>\n",
       "      <td>2016-06-30 17:54:50 +0000</td>\n",
       "      <td>Twitter for iPhone</td>\n",
       "      <td>This is one of the most reckless puppers I've ever seen. How she got a license in the first place is beyond me. 6/10 https://t.co/z5bAdtn9kd</td>\n",
       "      <td>https://twitter.com/dog_rates/status/748575535303884801/photo/1</td>\n",
       "      <td>6</td>\n",
       "      <td>10</td>\n",
       "      <td>one</td>\n",
       "      <td>0</td>\n",
       "      <td>Pupper</td>\n",
       "    </tr>\n",
       "    <tr>\n",
       "      <th>789986466051088384</th>\n",
       "      <td>2016-10-23 00:27:05 +0000</td>\n",
       "      <td>Twitter for iPhone</td>\n",
       "      <td>This is Happy. He's a bathtub reviewer. Seems to be pleased with this one. 12/10 https://t.co/Ln89R4FP7v</td>\n",
       "      <td>https://twitter.com/dog_rates/status/789986466051088384/photo/1</td>\n",
       "      <td>12</td>\n",
       "      <td>10</td>\n",
       "      <td>Happy</td>\n",
       "      <td>0</td>\n",
       "      <td>NaN</td>\n",
       "    </tr>\n",
       "    <tr>\n",
       "      <th>707059547140169728</th>\n",
       "      <td>2016-03-08 04:25:07 +0000</td>\n",
       "      <td>Twitter for iPhone</td>\n",
       "      <td>Say hello to Cupcake. She's an Icelandic Dippen Dot. Confused by the oddly geometric lawn pattern. 11/10 https://t.co/D7rorf4YKL</td>\n",
       "      <td>https://twitter.com/dog_rates/status/707059547140169728/photo/1,https://twitter.com/dog_rates/status/707059547140169728/photo/1</td>\n",
       "      <td>11</td>\n",
       "      <td>10</td>\n",
       "      <td>Cupcake</td>\n",
       "      <td>0</td>\n",
       "      <td>NaN</td>\n",
       "    </tr>\n",
       "  </tbody>\n",
       "</table>\n",
       "</div>"
      ],
      "text/plain": [
       "                                    timestamp              source  \\\n",
       "tweet_id                                                            \n",
       "748575535303884801  2016-06-30 17:54:50 +0000  Twitter for iPhone   \n",
       "789986466051088384  2016-10-23 00:27:05 +0000  Twitter for iPhone   \n",
       "707059547140169728  2016-03-08 04:25:07 +0000  Twitter for iPhone   \n",
       "\n",
       "                                                                                                                                                            text  \\\n",
       "tweet_id                                                                                                                                                           \n",
       "748575535303884801  This is one of the most reckless puppers I've ever seen. How she got a license in the first place is beyond me. 6/10 https://t.co/z5bAdtn9kd   \n",
       "789986466051088384  This is Happy. He's a bathtub reviewer. Seems to be pleased with this one. 12/10 https://t.co/Ln89R4FP7v                                       \n",
       "707059547140169728  Say hello to Cupcake. She's an Icelandic Dippen Dot. Confused by the oddly geometric lawn pattern. 11/10 https://t.co/D7rorf4YKL               \n",
       "\n",
       "                                                                                                                                      expanded_urls  \\\n",
       "tweet_id                                                                                                                                              \n",
       "748575535303884801  https://twitter.com/dog_rates/status/748575535303884801/photo/1                                                                   \n",
       "789986466051088384  https://twitter.com/dog_rates/status/789986466051088384/photo/1                                                                   \n",
       "707059547140169728  https://twitter.com/dog_rates/status/707059547140169728/photo/1,https://twitter.com/dog_rates/status/707059547140169728/photo/1   \n",
       "\n",
       "                    rating_numerator  rating_denominator     name  \\\n",
       "tweet_id                                                            \n",
       "748575535303884801  6                 10                  one       \n",
       "789986466051088384  12                10                  Happy     \n",
       "707059547140169728  11                10                  Cupcake   \n",
       "\n",
       "                    number_categories dog_type  \n",
       "tweet_id                                        \n",
       "748575535303884801  0                  Pupper   \n",
       "789986466051088384  0                  NaN      \n",
       "707059547140169728  0                  NaN      "
      ]
     },
     "execution_count": 57,
     "metadata": {},
     "output_type": "execute_result"
    }
   ],
   "source": [
    "# testing\n",
    "# viewing sample of fixed data\n",
    "twitter_archive_clean.sample(3)"
   ]
  },
  {
   "cell_type": "markdown",
   "metadata": {},
   "source": [
    "**Quality Issue** <br>\n",
    "**_Define:_** The timestamp has an incorrect datatype - is an object, should be DateTime"
   ]
  },
  {
   "cell_type": "markdown",
   "metadata": {},
   "source": [
    "**_Code:_** Convert to datetime.."
   ]
  },
  {
   "cell_type": "code",
   "execution_count": 58,
   "metadata": {},
   "outputs": [],
   "source": [
    "# changing timestamp to datetime\n",
    "twitter_archive_clean.timestamp = pd.to_datetime(twitter_archive_clean.timestamp)"
   ]
  },
  {
   "cell_type": "markdown",
   "metadata": {},
   "source": [
    "**_Test:_**"
   ]
  },
  {
   "cell_type": "code",
   "execution_count": 59,
   "metadata": {},
   "outputs": [
    {
     "name": "stdout",
     "output_type": "stream",
     "text": [
      "<class 'pandas.core.frame.DataFrame'>\n",
      "Int64Index: 2175 entries, 892420643555336193 to 666020888022790149\n",
      "Data columns (total 9 columns):\n",
      " #   Column              Non-Null Count  Dtype              \n",
      "---  ------              --------------  -----              \n",
      " 0   timestamp           2175 non-null   datetime64[ns, UTC]\n",
      " 1   source              2175 non-null   object             \n",
      " 2   text                2175 non-null   object             \n",
      " 3   expanded_urls       2117 non-null   object             \n",
      " 4   rating_numerator    2175 non-null   int64              \n",
      " 5   rating_denominator  2175 non-null   int64              \n",
      " 6   name                2175 non-null   object             \n",
      " 7   number_categories   2175 non-null   int64              \n",
      " 8   dog_type            385 non-null    object             \n",
      "dtypes: datetime64[ns, UTC](1), int64(3), object(5)\n",
      "memory usage: 249.9+ KB\n"
     ]
    }
   ],
   "source": [
    "# testing\n",
    "# viewing dataset types\n",
    "twitter_archive_clean.info()"
   ]
  },
  {
   "cell_type": "markdown",
   "metadata": {},
   "source": [
    "**Quality Issue** <br>\n",
    "**_Define:_** Float ratings have been incorrectly read from the text of tweet."
   ]
  },
  {
   "cell_type": "markdown",
   "metadata": {},
   "source": [
    "**_Code:_** gather correct rating when rating is a fraction."
   ]
  },
  {
   "cell_type": "code",
   "execution_count": 60,
   "metadata": {},
   "outputs": [
    {
     "data": {
      "text/html": [
       "<div>\n",
       "<style scoped>\n",
       "    .dataframe tbody tr th:only-of-type {\n",
       "        vertical-align: middle;\n",
       "    }\n",
       "\n",
       "    .dataframe tbody tr th {\n",
       "        vertical-align: top;\n",
       "    }\n",
       "\n",
       "    .dataframe thead th {\n",
       "        text-align: right;\n",
       "    }\n",
       "</style>\n",
       "<table border=\"1\" class=\"dataframe\">\n",
       "  <thead>\n",
       "    <tr style=\"text-align: right;\">\n",
       "      <th></th>\n",
       "      <th>text</th>\n",
       "      <th>rating_denominator</th>\n",
       "      <th>rating_numerator</th>\n",
       "    </tr>\n",
       "    <tr>\n",
       "      <th>tweet_id</th>\n",
       "      <th></th>\n",
       "      <th></th>\n",
       "      <th></th>\n",
       "    </tr>\n",
       "  </thead>\n",
       "  <tbody>\n",
       "    <tr>\n",
       "      <th>883482846933004288</th>\n",
       "      <td>This is Bella. She hopes her smile made you smile. If not, she is also offering you her favorite monkey. 13.5/10 https://t.co/qjrljjt948</td>\n",
       "      <td>10</td>\n",
       "      <td>5</td>\n",
       "    </tr>\n",
       "    <tr>\n",
       "      <th>680494726643068929</th>\n",
       "      <td>Here we have uncovered an entire battalion of holiday puppers. Average of 11.26/10 https://t.co/eNm2S6p9BD</td>\n",
       "      <td>10</td>\n",
       "      <td>26</td>\n",
       "    </tr>\n",
       "    <tr>\n",
       "      <th>786709082849828864</th>\n",
       "      <td>This is Logan, the Chow who lived. He solemnly swears he's up to lots of good. H*ckin magical af 9.75/10 https://t.co/yBO5wuqaPS</td>\n",
       "      <td>10</td>\n",
       "      <td>75</td>\n",
       "    </tr>\n",
       "  </tbody>\n",
       "</table>\n",
       "</div>"
      ],
      "text/plain": [
       "                                                                                                                                                        text  \\\n",
       "tweet_id                                                                                                                                                       \n",
       "883482846933004288  This is Bella. She hopes her smile made you smile. If not, she is also offering you her favorite monkey. 13.5/10 https://t.co/qjrljjt948   \n",
       "680494726643068929  Here we have uncovered an entire battalion of holiday puppers. Average of 11.26/10 https://t.co/eNm2S6p9BD                                 \n",
       "786709082849828864  This is Logan, the Chow who lived. He solemnly swears he's up to lots of good. H*ckin magical af 9.75/10 https://t.co/yBO5wuqaPS           \n",
       "\n",
       "                    rating_denominator  rating_numerator  \n",
       "tweet_id                                                  \n",
       "883482846933004288  10                  5                 \n",
       "680494726643068929  10                  26                \n",
       "786709082849828864  10                  75                "
      ]
     },
     "execution_count": 60,
     "metadata": {},
     "output_type": "execute_result"
    }
   ],
   "source": [
    "# viewing a sample after using regular expresssion\n",
    "twitter_archive_clean[twitter_archive_clean.text.str.contains(r'\\d+\\.\\d+\\/\\d+')][['text','rating_denominator', 'rating_numerator']].sample(3)\n"
   ]
  },
  {
   "cell_type": "markdown",
   "metadata": {},
   "source": [
    "**_Code:_** converting both columns to floats."
   ]
  },
  {
   "cell_type": "code",
   "execution_count": 61,
   "metadata": {},
   "outputs": [],
   "source": [
    "# converting both columns to floats\n",
    "twitter_archive_clean['rating_numerator'] = twitter_archive_clean['rating_numerator'].astype(float)\n",
    "twitter_archive_clean['rating_denominator'] = twitter_archive_clean['rating_denominator'].astype(float)\n",
    "\n",
    "# identifying fractional columns \n",
    "fraction_ratings = twitter_archive_clean[twitter_archive_clean.text.str.contains(r'\\d+\\.\\d+\\/\\d+', na = False)].index\n",
    "\n",
    "# extracting correct rating and replace incorrect one\n",
    "for index in fraction_ratings:\n",
    "    rating = re.search('\\d+\\.\\d+\\/\\d+', twitter_archive_clean.loc[index,:].text).group(0)\n",
    "    twitter_archive_clean.at[index,'rating_numerator'], twitter_archive_clean.at[index,'rating_denominator'] = rating.split('/')"
   ]
  },
  {
   "cell_type": "code",
   "execution_count": 62,
   "metadata": {},
   "outputs": [
    {
     "data": {
      "text/html": [
       "<div>\n",
       "<style scoped>\n",
       "    .dataframe tbody tr th:only-of-type {\n",
       "        vertical-align: middle;\n",
       "    }\n",
       "\n",
       "    .dataframe tbody tr th {\n",
       "        vertical-align: top;\n",
       "    }\n",
       "\n",
       "    .dataframe thead th {\n",
       "        text-align: right;\n",
       "    }\n",
       "</style>\n",
       "<table border=\"1\" class=\"dataframe\">\n",
       "  <thead>\n",
       "    <tr style=\"text-align: right;\">\n",
       "      <th></th>\n",
       "      <th>text</th>\n",
       "      <th>rating_denominator</th>\n",
       "      <th>rating_numerator</th>\n",
       "    </tr>\n",
       "    <tr>\n",
       "      <th>tweet_id</th>\n",
       "      <th></th>\n",
       "      <th></th>\n",
       "      <th></th>\n",
       "    </tr>\n",
       "  </thead>\n",
       "  <tbody>\n",
       "    <tr>\n",
       "      <th>883482846933004288</th>\n",
       "      <td>This is Bella. She hopes her smile made you smile. If not, she is also offering you her favorite monkey. 13.5/10 https://t.co/qjrljjt948</td>\n",
       "      <td>10.0</td>\n",
       "      <td>13.50</td>\n",
       "    </tr>\n",
       "    <tr>\n",
       "      <th>778027034220126208</th>\n",
       "      <td>This is Sophie. She's a Jubilant Bush Pupper. Super h*ckin rare. Appears at random just to smile at the locals. 11.27/10 would smile back https://t.co/QFaUiIHxHq</td>\n",
       "      <td>10.0</td>\n",
       "      <td>11.27</td>\n",
       "    </tr>\n",
       "    <tr>\n",
       "      <th>786709082849828864</th>\n",
       "      <td>This is Logan, the Chow who lived. He solemnly swears he's up to lots of good. H*ckin magical af 9.75/10 https://t.co/yBO5wuqaPS</td>\n",
       "      <td>10.0</td>\n",
       "      <td>9.75</td>\n",
       "    </tr>\n",
       "  </tbody>\n",
       "</table>\n",
       "</div>"
      ],
      "text/plain": [
       "                                                                                                                                                                                 text  \\\n",
       "tweet_id                                                                                                                                                                                \n",
       "883482846933004288  This is Bella. She hopes her smile made you smile. If not, she is also offering you her favorite monkey. 13.5/10 https://t.co/qjrljjt948                            \n",
       "778027034220126208  This is Sophie. She's a Jubilant Bush Pupper. Super h*ckin rare. Appears at random just to smile at the locals. 11.27/10 would smile back https://t.co/QFaUiIHxHq   \n",
       "786709082849828864  This is Logan, the Chow who lived. He solemnly swears he's up to lots of good. H*ckin magical af 9.75/10 https://t.co/yBO5wuqaPS                                    \n",
       "\n",
       "                    rating_denominator  rating_numerator  \n",
       "tweet_id                                                  \n",
       "883482846933004288  10.0                13.50             \n",
       "778027034220126208  10.0                11.27             \n",
       "786709082849828864  10.0                9.75              "
      ]
     },
     "execution_count": 62,
     "metadata": {},
     "output_type": "execute_result"
    }
   ],
   "source": [
    "# viewing sample of fixed data\n",
    "twitter_archive_clean.loc[fraction_ratings,:][['text','rating_denominator', 'rating_numerator']].sample(3)"
   ]
  },
  {
   "cell_type": "markdown",
   "metadata": {},
   "source": [
    "**Quality Issue** <br>\n",
    "**_Define:_** Denominator of some ratings is not 10. Numerator of some ratings is greater than 10. The fact that the rating numerators are greater than the denominators does not need to be cleaned, however I will introduce a normalized rating which will be easier to plot.\n",
    "\n",
    "- fix incorrectly read ratings\n",
    "- add normalized rating."
   ]
  },
  {
   "cell_type": "markdown",
   "metadata": {},
   "source": [
    "**_Code:_** Correct denominators other than 10..."
   ]
  },
  {
   "cell_type": "code",
   "execution_count": 63,
   "metadata": {},
   "outputs": [
    {
     "data": {
      "text/html": [
       "<div>\n",
       "<style scoped>\n",
       "    .dataframe tbody tr th:only-of-type {\n",
       "        vertical-align: middle;\n",
       "    }\n",
       "\n",
       "    .dataframe tbody tr th {\n",
       "        vertical-align: top;\n",
       "    }\n",
       "\n",
       "    .dataframe thead th {\n",
       "        text-align: right;\n",
       "    }\n",
       "</style>\n",
       "<table border=\"1\" class=\"dataframe\">\n",
       "  <thead>\n",
       "    <tr style=\"text-align: right;\">\n",
       "      <th></th>\n",
       "      <th>text</th>\n",
       "      <th>rating_denominator</th>\n",
       "      <th>rating_numerator</th>\n",
       "    </tr>\n",
       "    <tr>\n",
       "      <th>tweet_id</th>\n",
       "      <th></th>\n",
       "      <th></th>\n",
       "      <th></th>\n",
       "    </tr>\n",
       "  </thead>\n",
       "  <tbody>\n",
       "    <tr>\n",
       "      <th>710658690886586372</th>\n",
       "      <td>Here's a brigade of puppers. All look very prepared for whatever happens next. 80/80 https://t.co/0eb7R1Om12</td>\n",
       "      <td>80.0</td>\n",
       "      <td>80.0</td>\n",
       "    </tr>\n",
       "    <tr>\n",
       "      <th>716439118184652801</th>\n",
       "      <td>This is Bluebert. He just saw that both #FinalFur match ups are split 50/50. Amazed af. 11/10 https://t.co/Kky1DPG4iq</td>\n",
       "      <td>50.0</td>\n",
       "      <td>50.0</td>\n",
       "    </tr>\n",
       "    <tr>\n",
       "      <th>684222868335505415</th>\n",
       "      <td>Someone help the girl is being mugged. Several are distracting her while two steal her shoes. Clever puppers 121/110 https://t.co/1zfnTJLt55</td>\n",
       "      <td>110.0</td>\n",
       "      <td>121.0</td>\n",
       "    </tr>\n",
       "  </tbody>\n",
       "</table>\n",
       "</div>"
      ],
      "text/plain": [
       "                                                                                                                                                            text  \\\n",
       "tweet_id                                                                                                                                                           \n",
       "710658690886586372  Here's a brigade of puppers. All look very prepared for whatever happens next. 80/80 https://t.co/0eb7R1Om12                                   \n",
       "716439118184652801  This is Bluebert. He just saw that both #FinalFur match ups are split 50/50. Amazed af. 11/10 https://t.co/Kky1DPG4iq                          \n",
       "684222868335505415  Someone help the girl is being mugged. Several are distracting her while two steal her shoes. Clever puppers 121/110 https://t.co/1zfnTJLt55   \n",
       "\n",
       "                    rating_denominator  rating_numerator  \n",
       "tweet_id                                                  \n",
       "710658690886586372  80.0                80.0              \n",
       "716439118184652801  50.0                50.0              \n",
       "684222868335505415  110.0               121.0             "
      ]
     },
     "execution_count": 63,
     "metadata": {},
     "output_type": "execute_result"
    }
   ],
   "source": [
    "# saving index of tweets with denominator greater than ten\n",
    "high_denominator = twitter_archive_clean[twitter_archive_clean.rating_denominator > 10].index \n",
    "\n",
    "# showing sample of data with denominator greater than 10\n",
    "twitter_archive_clean.loc[high_denominator,:][['text','rating_denominator', 'rating_numerator']].sample(3)"
   ]
  },
  {
   "cell_type": "code",
   "execution_count": 64,
   "metadata": {},
   "outputs": [],
   "source": [
    "# fixing rating manually for tweets for which rating was read incorrectly \n",
    "twitter_archive_clean.loc[832088576586297345, 'rating_denominator'] = 0\n",
    "twitter_archive_clean.loc[832088576586297345, 'rating_numerator'] = 0\n",
    "\n",
    "twitter_archive_clean.loc[775096608509886464, 'rating_denominator'] = 10\n",
    "twitter_archive_clean.loc[775096608509886464, 'rating_numerator'] = 14\n",
    "\n",
    "twitter_archive_clean.loc[740373189193256964, 'rating_denominator'] = 10\n",
    "twitter_archive_clean.loc[740373189193256964, 'rating_numerator'] = 14\n",
    "\n",
    "twitter_archive_clean.loc[722974582966214656, 'rating_denominator'] = 10\n",
    "twitter_archive_clean.loc[722974582966214656, 'rating_numerator'] = 13\n",
    "\n",
    "twitter_archive_clean.loc[716439118184652801, 'rating_denominator'] = 10\n",
    "twitter_archive_clean.loc[716439118184652801, 'rating_numerator'] = 11\n",
    "\n",
    "twitter_archive_clean.loc[682962037429899265, 'rating_denominator'] = 10\n",
    "twitter_archive_clean.loc[682962037429899265, 'rating_numerator'] = 10"
   ]
  },
  {
   "cell_type": "code",
   "execution_count": 65,
   "metadata": {},
   "outputs": [
    {
     "data": {
      "text/html": [
       "<div>\n",
       "<style scoped>\n",
       "    .dataframe tbody tr th:only-of-type {\n",
       "        vertical-align: middle;\n",
       "    }\n",
       "\n",
       "    .dataframe tbody tr th {\n",
       "        vertical-align: top;\n",
       "    }\n",
       "\n",
       "    .dataframe thead th {\n",
       "        text-align: right;\n",
       "    }\n",
       "</style>\n",
       "<table border=\"1\" class=\"dataframe\">\n",
       "  <thead>\n",
       "    <tr style=\"text-align: right;\">\n",
       "      <th></th>\n",
       "      <th>text</th>\n",
       "      <th>rating_denominator</th>\n",
       "      <th>rating_numerator</th>\n",
       "    </tr>\n",
       "    <tr>\n",
       "      <th>tweet_id</th>\n",
       "      <th></th>\n",
       "      <th></th>\n",
       "      <th></th>\n",
       "    </tr>\n",
       "  </thead>\n",
       "  <tbody>\n",
       "    <tr>\n",
       "      <th>832088576586297345</th>\n",
       "      <td>@docmisterio account started on 11/15/15</td>\n",
       "      <td>0.0</td>\n",
       "      <td>0.0</td>\n",
       "    </tr>\n",
       "    <tr>\n",
       "      <th>697463031882764288</th>\n",
       "      <td>Happy Wednesday here's a bucket of pups. 44/40 would pet all at once https://t.co/HppvrYuamZ</td>\n",
       "      <td>40.0</td>\n",
       "      <td>44.0</td>\n",
       "    </tr>\n",
       "    <tr>\n",
       "      <th>709198395643068416</th>\n",
       "      <td>From left to right:\\nCletus, Jerome, Alejandro, Burp, &amp;amp; Titson\\nNone know where camera is. 45/50 would hug all at once https://t.co/sedre1ivTK</td>\n",
       "      <td>50.0</td>\n",
       "      <td>45.0</td>\n",
       "    </tr>\n",
       "  </tbody>\n",
       "</table>\n",
       "</div>"
      ],
      "text/plain": [
       "                                                                                                                                                                  text  \\\n",
       "tweet_id                                                                                                                                                                 \n",
       "832088576586297345  @docmisterio account started on 11/15/15                                                                                                             \n",
       "697463031882764288  Happy Wednesday here's a bucket of pups. 44/40 would pet all at once https://t.co/HppvrYuamZ                                                         \n",
       "709198395643068416  From left to right:\\nCletus, Jerome, Alejandro, Burp, &amp; Titson\\nNone know where camera is. 45/50 would hug all at once https://t.co/sedre1ivTK   \n",
       "\n",
       "                    rating_denominator  rating_numerator  \n",
       "tweet_id                                                  \n",
       "832088576586297345  0.0                 0.0               \n",
       "697463031882764288  40.0                44.0              \n",
       "709198395643068416  50.0                45.0              "
      ]
     },
     "execution_count": 65,
     "metadata": {},
     "output_type": "execute_result"
    }
   ],
   "source": [
    "# showing sample of fixed rating\n",
    "twitter_archive_clean.loc[high_denominator,:][['text','rating_denominator', 'rating_numerator']].sample(3)"
   ]
  },
  {
   "cell_type": "code",
   "execution_count": 66,
   "metadata": {},
   "outputs": [],
   "source": [
    "# adding normalized rating\n",
    "twitter_archive_clean['rating'] = twitter_archive_clean['rating_numerator'] / twitter_archive_clean['rating_denominator']"
   ]
  },
  {
   "cell_type": "markdown",
   "metadata": {},
   "source": [
    "**_Test:_**"
   ]
  },
  {
   "cell_type": "code",
   "execution_count": 67,
   "metadata": {},
   "outputs": [
    {
     "data": {
      "text/html": [
       "<div>\n",
       "<style scoped>\n",
       "    .dataframe tbody tr th:only-of-type {\n",
       "        vertical-align: middle;\n",
       "    }\n",
       "\n",
       "    .dataframe tbody tr th {\n",
       "        vertical-align: top;\n",
       "    }\n",
       "\n",
       "    .dataframe thead th {\n",
       "        text-align: right;\n",
       "    }\n",
       "</style>\n",
       "<table border=\"1\" class=\"dataframe\">\n",
       "  <thead>\n",
       "    <tr style=\"text-align: right;\">\n",
       "      <th></th>\n",
       "      <th>text</th>\n",
       "      <th>rating_denominator</th>\n",
       "      <th>rating_numerator</th>\n",
       "      <th>rating</th>\n",
       "    </tr>\n",
       "    <tr>\n",
       "      <th>tweet_id</th>\n",
       "      <th></th>\n",
       "      <th></th>\n",
       "      <th></th>\n",
       "      <th></th>\n",
       "    </tr>\n",
       "  </thead>\n",
       "  <tbody>\n",
       "    <tr>\n",
       "      <th>793226087023144960</th>\n",
       "      <td>This is Juno. She spooked me up real good, but only to get my attention. Above average handwriting for a dog I think. 11/10 https://t.co/hFxxBCWlwj</td>\n",
       "      <td>10.0</td>\n",
       "      <td>11.0</td>\n",
       "      <td>1.1</td>\n",
       "    </tr>\n",
       "    <tr>\n",
       "      <th>687127927494963200</th>\n",
       "      <td>Meet Gordon. He's an asshole. 9/10 would still pet https://t.co/a34N7QwKbb</td>\n",
       "      <td>10.0</td>\n",
       "      <td>9.0</td>\n",
       "      <td>0.9</td>\n",
       "    </tr>\n",
       "    <tr>\n",
       "      <th>691459709405118465</th>\n",
       "      <td>Say hello to Leo. He's a Fallopian Puffalope. Precious af. 12/10 would cuddle https://t.co/LZEi0DpRsH</td>\n",
       "      <td>10.0</td>\n",
       "      <td>12.0</td>\n",
       "      <td>1.2</td>\n",
       "    </tr>\n",
       "    <tr>\n",
       "      <th>786664955043049472</th>\n",
       "      <td>\"Honestly Kathleen I just want more Ken Bone\" 12/10 https://t.co/HmlEvAMP4r</td>\n",
       "      <td>10.0</td>\n",
       "      <td>12.0</td>\n",
       "      <td>1.2</td>\n",
       "    </tr>\n",
       "    <tr>\n",
       "      <th>703774238772166656</th>\n",
       "      <td>\"YOU CAN'T HANDLE THE TRUTH\" both 10/10 https://t.co/ZvxdB4i9AG</td>\n",
       "      <td>10.0</td>\n",
       "      <td>10.0</td>\n",
       "      <td>1.0</td>\n",
       "    </tr>\n",
       "  </tbody>\n",
       "</table>\n",
       "</div>"
      ],
      "text/plain": [
       "                                                                                                                                                                   text  \\\n",
       "tweet_id                                                                                                                                                                  \n",
       "793226087023144960  This is Juno. She spooked me up real good, but only to get my attention. Above average handwriting for a dog I think. 11/10 https://t.co/hFxxBCWlwj   \n",
       "687127927494963200  Meet Gordon. He's an asshole. 9/10 would still pet https://t.co/a34N7QwKbb                                                                            \n",
       "691459709405118465  Say hello to Leo. He's a Fallopian Puffalope. Precious af. 12/10 would cuddle https://t.co/LZEi0DpRsH                                                 \n",
       "786664955043049472  \"Honestly Kathleen I just want more Ken Bone\" 12/10 https://t.co/HmlEvAMP4r                                                                           \n",
       "703774238772166656  \"YOU CAN'T HANDLE THE TRUTH\" both 10/10 https://t.co/ZvxdB4i9AG                                                                                       \n",
       "\n",
       "                    rating_denominator  rating_numerator  rating  \n",
       "tweet_id                                                          \n",
       "793226087023144960  10.0                11.0              1.1     \n",
       "687127927494963200  10.0                9.0               0.9     \n",
       "691459709405118465  10.0                12.0              1.2     \n",
       "786664955043049472  10.0                12.0              1.2     \n",
       "703774238772166656  10.0                10.0              1.0     "
      ]
     },
     "execution_count": 67,
     "metadata": {},
     "output_type": "execute_result"
    }
   ],
   "source": [
    "# testing\n",
    "# viewing sample of data with the new column\n",
    "twitter_archive_clean[['text','rating_denominator', 'rating_numerator', 'rating']].sample(5)"
   ]
  },
  {
   "cell_type": "markdown",
   "metadata": {},
   "source": [
    "**Quality Issue** <br>\n",
    "**_Define:_** We have 639 expanded urls which contain more than one url address and 59 missing expanded urls."
   ]
  },
  {
   "cell_type": "markdown",
   "metadata": {},
   "source": [
    "**_Code:_** build correct links by using tweet id."
   ]
  },
  {
   "cell_type": "code",
   "execution_count": 68,
   "metadata": {},
   "outputs": [],
   "source": [
    "# fixing expanded urls\n",
    "for index, column in twitter_archive_clean.iterrows():\n",
    "    twitter_archive_clean.loc[index, 'expanded_urls'] = 'https://twitter.com/dog_rates/status/' + str(index)\n",
    "    "
   ]
  },
  {
   "cell_type": "markdown",
   "metadata": {},
   "source": [
    "**_Test:_**"
   ]
  },
  {
   "cell_type": "code",
   "execution_count": 69,
   "metadata": {},
   "outputs": [
    {
     "data": {
      "text/html": [
       "<div>\n",
       "<style scoped>\n",
       "    .dataframe tbody tr th:only-of-type {\n",
       "        vertical-align: middle;\n",
       "    }\n",
       "\n",
       "    .dataframe tbody tr th {\n",
       "        vertical-align: top;\n",
       "    }\n",
       "\n",
       "    .dataframe thead th {\n",
       "        text-align: right;\n",
       "    }\n",
       "</style>\n",
       "<table border=\"1\" class=\"dataframe\">\n",
       "  <thead>\n",
       "    <tr style=\"text-align: right;\">\n",
       "      <th></th>\n",
       "      <th>timestamp</th>\n",
       "      <th>source</th>\n",
       "      <th>text</th>\n",
       "      <th>expanded_urls</th>\n",
       "      <th>rating_numerator</th>\n",
       "      <th>rating_denominator</th>\n",
       "      <th>name</th>\n",
       "      <th>number_categories</th>\n",
       "      <th>dog_type</th>\n",
       "      <th>rating</th>\n",
       "    </tr>\n",
       "    <tr>\n",
       "      <th>tweet_id</th>\n",
       "      <th></th>\n",
       "      <th></th>\n",
       "      <th></th>\n",
       "      <th></th>\n",
       "      <th></th>\n",
       "      <th></th>\n",
       "      <th></th>\n",
       "      <th></th>\n",
       "      <th></th>\n",
       "      <th></th>\n",
       "    </tr>\n",
       "  </thead>\n",
       "  <tbody>\n",
       "    <tr>\n",
       "      <th>675146535592706048</th>\n",
       "      <td>2015-12-11 02:54:12+00:00</td>\n",
       "      <td>Twitter for iPhone</td>\n",
       "      <td>This is Coops. He's yelling at the carpet. Not very productive Coops. 7/10 https://t.co/Uz52oYnHzF</td>\n",
       "      <td>https://twitter.com/dog_rates/status/675146535592706048</td>\n",
       "      <td>7.0</td>\n",
       "      <td>10.0</td>\n",
       "      <td>Coops</td>\n",
       "      <td>0.0</td>\n",
       "      <td>NaN</td>\n",
       "      <td>0.7</td>\n",
       "    </tr>\n",
       "    <tr>\n",
       "      <th>707387676719185920</th>\n",
       "      <td>2016-03-09 02:08:59+00:00</td>\n",
       "      <td>Twitter for iPhone</td>\n",
       "      <td>Meet Clarkus. He's a Skinny Eastern Worcestershire. Can tie own shoes (impressive af) 10/10 would put on track team https://t.co/XP5o7zGn0E</td>\n",
       "      <td>https://twitter.com/dog_rates/status/707387676719185920</td>\n",
       "      <td>10.0</td>\n",
       "      <td>10.0</td>\n",
       "      <td>Clarkus</td>\n",
       "      <td>0.0</td>\n",
       "      <td>NaN</td>\n",
       "      <td>1.0</td>\n",
       "    </tr>\n",
       "    <tr>\n",
       "      <th>808501579447930884</th>\n",
       "      <td>2016-12-13 02:39:32+00:00</td>\n",
       "      <td>Twitter for iPhone</td>\n",
       "      <td>This is Koda. He dug a hole and then sat in it because why not. Unamused by the bath that followed. 12/10 https://t.co/SQhyqrr8px</td>\n",
       "      <td>https://twitter.com/dog_rates/status/808501579447930884</td>\n",
       "      <td>12.0</td>\n",
       "      <td>10.0</td>\n",
       "      <td>Koda</td>\n",
       "      <td>0.0</td>\n",
       "      <td>NaN</td>\n",
       "      <td>1.2</td>\n",
       "    </tr>\n",
       "  </tbody>\n",
       "</table>\n",
       "</div>"
      ],
      "text/plain": [
       "                                   timestamp              source  \\\n",
       "tweet_id                                                           \n",
       "675146535592706048 2015-12-11 02:54:12+00:00  Twitter for iPhone   \n",
       "707387676719185920 2016-03-09 02:08:59+00:00  Twitter for iPhone   \n",
       "808501579447930884 2016-12-13 02:39:32+00:00  Twitter for iPhone   \n",
       "\n",
       "                                                                                                                                                           text  \\\n",
       "tweet_id                                                                                                                                                          \n",
       "675146535592706048  This is Coops. He's yelling at the carpet. Not very productive Coops. 7/10 https://t.co/Uz52oYnHzF                                            \n",
       "707387676719185920  Meet Clarkus. He's a Skinny Eastern Worcestershire. Can tie own shoes (impressive af) 10/10 would put on track team https://t.co/XP5o7zGn0E   \n",
       "808501579447930884  This is Koda. He dug a hole and then sat in it because why not. Unamused by the bath that followed. 12/10 https://t.co/SQhyqrr8px             \n",
       "\n",
       "                                                              expanded_urls  \\\n",
       "tweet_id                                                                      \n",
       "675146535592706048  https://twitter.com/dog_rates/status/675146535592706048   \n",
       "707387676719185920  https://twitter.com/dog_rates/status/707387676719185920   \n",
       "808501579447930884  https://twitter.com/dog_rates/status/808501579447930884   \n",
       "\n",
       "                    rating_numerator  rating_denominator     name  \\\n",
       "tweet_id                                                            \n",
       "675146535592706048  7.0               10.0                Coops     \n",
       "707387676719185920  10.0              10.0                Clarkus   \n",
       "808501579447930884  12.0              10.0                Koda      \n",
       "\n",
       "                    number_categories dog_type  rating  \n",
       "tweet_id                                                \n",
       "675146535592706048  0.0                NaN      0.7     \n",
       "707387676719185920  0.0                NaN      1.0     \n",
       "808501579447930884  0.0                NaN      1.2     "
      ]
     },
     "execution_count": 69,
     "metadata": {},
     "output_type": "execute_result"
    }
   ],
   "source": [
    "# testing\n",
    "twitter_archive_clean.sample(3)"
   ]
  },
  {
   "cell_type": "markdown",
   "metadata": {},
   "source": [
    "### Clean: Image Predictions Data"
   ]
  },
  {
   "cell_type": "code",
   "execution_count": 70,
   "metadata": {},
   "outputs": [],
   "source": [
    "# creating a copy of dataset\n",
    "image_prediction_clean = image_prediction.copy()"
   ]
  },
  {
   "cell_type": "code",
   "execution_count": 71,
   "metadata": {},
   "outputs": [
    {
     "data": {
      "text/html": [
       "<div>\n",
       "<style scoped>\n",
       "    .dataframe tbody tr th:only-of-type {\n",
       "        vertical-align: middle;\n",
       "    }\n",
       "\n",
       "    .dataframe tbody tr th {\n",
       "        vertical-align: top;\n",
       "    }\n",
       "\n",
       "    .dataframe thead th {\n",
       "        text-align: right;\n",
       "    }\n",
       "</style>\n",
       "<table border=\"1\" class=\"dataframe\">\n",
       "  <thead>\n",
       "    <tr style=\"text-align: right;\">\n",
       "      <th></th>\n",
       "      <th>jpg_url</th>\n",
       "      <th>img_num</th>\n",
       "      <th>p1</th>\n",
       "      <th>p1_conf</th>\n",
       "      <th>p1_dog</th>\n",
       "      <th>p2</th>\n",
       "      <th>p2_conf</th>\n",
       "      <th>p2_dog</th>\n",
       "      <th>p3</th>\n",
       "      <th>p3_conf</th>\n",
       "      <th>p3_dog</th>\n",
       "    </tr>\n",
       "    <tr>\n",
       "      <th>tweet_id</th>\n",
       "      <th></th>\n",
       "      <th></th>\n",
       "      <th></th>\n",
       "      <th></th>\n",
       "      <th></th>\n",
       "      <th></th>\n",
       "      <th></th>\n",
       "      <th></th>\n",
       "      <th></th>\n",
       "      <th></th>\n",
       "      <th></th>\n",
       "    </tr>\n",
       "  </thead>\n",
       "  <tbody>\n",
       "    <tr>\n",
       "      <th>671538301157904385</th>\n",
       "      <td>https://pbs.twimg.com/media/CVHIhi2WsAEgdKk.jpg</td>\n",
       "      <td>1</td>\n",
       "      <td>park_bench</td>\n",
       "      <td>0.194211</td>\n",
       "      <td>False</td>\n",
       "      <td>water_bottle</td>\n",
       "      <td>0.071870</td>\n",
       "      <td>False</td>\n",
       "      <td>beacon</td>\n",
       "      <td>0.053433</td>\n",
       "      <td>False</td>\n",
       "    </tr>\n",
       "    <tr>\n",
       "      <th>834167344700198914</th>\n",
       "      <td>https://pbs.twimg.com/media/C5OOxY6WAAAxERz.jpg</td>\n",
       "      <td>1</td>\n",
       "      <td>ox</td>\n",
       "      <td>0.991682</td>\n",
       "      <td>False</td>\n",
       "      <td>bison</td>\n",
       "      <td>0.005335</td>\n",
       "      <td>False</td>\n",
       "      <td>water_buffalo</td>\n",
       "      <td>0.001130</td>\n",
       "      <td>False</td>\n",
       "    </tr>\n",
       "    <tr>\n",
       "      <th>819347104292290561</th>\n",
       "      <td>https://pbs.twimg.com/media/C17n1nrWQAIErU3.jpg</td>\n",
       "      <td>3</td>\n",
       "      <td>Rottweiler</td>\n",
       "      <td>0.909106</td>\n",
       "      <td>True</td>\n",
       "      <td>black-and-tan_coonhound</td>\n",
       "      <td>0.044120</td>\n",
       "      <td>True</td>\n",
       "      <td>Doberman</td>\n",
       "      <td>0.031835</td>\n",
       "      <td>True</td>\n",
       "    </tr>\n",
       "  </tbody>\n",
       "</table>\n",
       "</div>"
      ],
      "text/plain": [
       "                                                            jpg_url  img_num  \\\n",
       "tweet_id                                                                       \n",
       "671538301157904385  https://pbs.twimg.com/media/CVHIhi2WsAEgdKk.jpg  1         \n",
       "834167344700198914  https://pbs.twimg.com/media/C5OOxY6WAAAxERz.jpg  1         \n",
       "819347104292290561  https://pbs.twimg.com/media/C17n1nrWQAIErU3.jpg  3         \n",
       "\n",
       "                            p1   p1_conf  p1_dog                       p2  \\\n",
       "tweet_id                                                                    \n",
       "671538301157904385  park_bench  0.194211  False   water_bottle              \n",
       "834167344700198914  ox          0.991682  False   bison                     \n",
       "819347104292290561  Rottweiler  0.909106  True    black-and-tan_coonhound   \n",
       "\n",
       "                     p2_conf  p2_dog             p3   p3_conf  p3_dog  \n",
       "tweet_id                                                               \n",
       "671538301157904385  0.071870  False   beacon         0.053433  False   \n",
       "834167344700198914  0.005335  False   water_buffalo  0.001130  False   \n",
       "819347104292290561  0.044120  True    Doberman       0.031835  True    "
      ]
     },
     "execution_count": 71,
     "metadata": {},
     "output_type": "execute_result"
    }
   ],
   "source": [
    "# showing sample of data\n",
    "image_prediction_clean.sample(3)"
   ]
  },
  {
   "cell_type": "markdown",
   "metadata": {},
   "source": [
    "**Quality Issue** <br>\n",
    "**_Define:_** Columns names are confusing and do not give much information about the content.\n",
    "- Change column names to more descriptive ones."
   ]
  },
  {
   "cell_type": "markdown",
   "metadata": {},
   "source": [
    "**_Code:_** Rename columns"
   ]
  },
  {
   "cell_type": "code",
   "execution_count": 72,
   "metadata": {},
   "outputs": [
    {
     "data": {
      "text/plain": [
       "Index(['jpg_url', 'img_num', 'p1', 'p1_conf', 'p1_dog', 'p2', 'p2_conf',\n",
       "       'p2_dog', 'p3', 'p3_conf', 'p3_dog'],\n",
       "      dtype='object')"
      ]
     },
     "execution_count": 72,
     "metadata": {},
     "output_type": "execute_result"
    }
   ],
   "source": [
    "# showimg current labels\n",
    "image_prediction_clean.columns"
   ]
  },
  {
   "cell_type": "code",
   "execution_count": 73,
   "metadata": {},
   "outputs": [],
   "source": [
    "# changing labels\n",
    "image_prediction_clean.columns = ['image_url', \n",
    "                            'img_number', \n",
    "                            '1st_prediction',\n",
    "                            '1st_prediction_confidence',\n",
    "                            '1st_prediction_isdog',\n",
    "                            '2nd_prediction',\n",
    "                            '2nd_prediction_confidence',\n",
    "                            '2nd_prediction_isdog',\n",
    "                            '3rd_prediction',\n",
    "                            '3rd_prediction_confidence',\n",
    "                            '3rd_prediction_isdog']"
   ]
  },
  {
   "cell_type": "code",
   "execution_count": 74,
   "metadata": {},
   "outputs": [
    {
     "data": {
      "text/plain": [
       "Index(['image_url', 'img_number', '1st_prediction',\n",
       "       '1st_prediction_confidence', '1st_prediction_isdog', '2nd_prediction',\n",
       "       '2nd_prediction_confidence', '2nd_prediction_isdog', '3rd_prediction',\n",
       "       '3rd_prediction_confidence', '3rd_prediction_isdog'],\n",
       "      dtype='object')"
      ]
     },
     "execution_count": 74,
     "metadata": {},
     "output_type": "execute_result"
    }
   ],
   "source": [
    "# showing new labels\n",
    "image_prediction_clean.columns"
   ]
  },
  {
   "cell_type": "code",
   "execution_count": 75,
   "metadata": {},
   "outputs": [],
   "source": [
    "# columns with dog breed\n",
    "dog_breed_cols = ['1st_prediction', '2nd_prediction', '3rd_prediction']\n",
    "\n",
    "# deleting underscore and capitalize the first letter of each word \n",
    "for column in dog_breed_cols:\n",
    "    image_prediction_clean[column] = image_prediction_clean[column].str.replace('_', ' ').str.title()"
   ]
  },
  {
   "cell_type": "code",
   "execution_count": 76,
   "metadata": {},
   "outputs": [
    {
     "data": {
      "text/html": [
       "<div>\n",
       "<style scoped>\n",
       "    .dataframe tbody tr th:only-of-type {\n",
       "        vertical-align: middle;\n",
       "    }\n",
       "\n",
       "    .dataframe tbody tr th {\n",
       "        vertical-align: top;\n",
       "    }\n",
       "\n",
       "    .dataframe thead th {\n",
       "        text-align: right;\n",
       "    }\n",
       "</style>\n",
       "<table border=\"1\" class=\"dataframe\">\n",
       "  <thead>\n",
       "    <tr style=\"text-align: right;\">\n",
       "      <th></th>\n",
       "      <th>1st_prediction</th>\n",
       "      <th>2nd_prediction</th>\n",
       "      <th>3rd_prediction</th>\n",
       "    </tr>\n",
       "    <tr>\n",
       "      <th>tweet_id</th>\n",
       "      <th></th>\n",
       "      <th></th>\n",
       "      <th></th>\n",
       "    </tr>\n",
       "  </thead>\n",
       "  <tbody>\n",
       "    <tr>\n",
       "      <th>814530161257443328</th>\n",
       "      <td>Miniature Poodle</td>\n",
       "      <td>Toy Poodle</td>\n",
       "      <td>Soft-Coated Wheaten Terrier</td>\n",
       "    </tr>\n",
       "    <tr>\n",
       "      <th>678800283649069056</th>\n",
       "      <td>Labrador Retriever</td>\n",
       "      <td>Beagle</td>\n",
       "      <td>Airedale</td>\n",
       "    </tr>\n",
       "    <tr>\n",
       "      <th>804738756058218496</th>\n",
       "      <td>Tibetan Mastiff</td>\n",
       "      <td>German Shepherd</td>\n",
       "      <td>Leonberg</td>\n",
       "    </tr>\n",
       "    <tr>\n",
       "      <th>677698403548192770</th>\n",
       "      <td>Shih-Tzu</td>\n",
       "      <td>Lhasa</td>\n",
       "      <td>Pekinese</td>\n",
       "    </tr>\n",
       "    <tr>\n",
       "      <th>666362758909284353</th>\n",
       "      <td>Guinea Pig</td>\n",
       "      <td>Skunk</td>\n",
       "      <td>Hamster</td>\n",
       "    </tr>\n",
       "  </tbody>\n",
       "</table>\n",
       "</div>"
      ],
      "text/plain": [
       "                        1st_prediction   2nd_prediction  \\\n",
       "tweet_id                                                  \n",
       "814530161257443328  Miniature Poodle    Toy Poodle        \n",
       "678800283649069056  Labrador Retriever  Beagle            \n",
       "804738756058218496  Tibetan Mastiff     German Shepherd   \n",
       "677698403548192770  Shih-Tzu            Lhasa             \n",
       "666362758909284353  Guinea Pig          Skunk             \n",
       "\n",
       "                                 3rd_prediction  \n",
       "tweet_id                                         \n",
       "814530161257443328  Soft-Coated Wheaten Terrier  \n",
       "678800283649069056  Airedale                     \n",
       "804738756058218496  Leonberg                     \n",
       "677698403548192770  Pekinese                     \n",
       "666362758909284353  Hamster                      "
      ]
     },
     "execution_count": 76,
     "metadata": {},
     "output_type": "execute_result"
    }
   ],
   "source": [
    "# viewing sample of changes\n",
    "image_prediction_clean[dog_breed_cols].sample(5)"
   ]
  },
  {
   "cell_type": "markdown",
   "metadata": {},
   "source": [
    "**Quality Issue** <br>\n",
    "**_Define:_** Drop 66 image_url duplicated."
   ]
  },
  {
   "cell_type": "code",
   "execution_count": 77,
   "metadata": {},
   "outputs": [
    {
     "data": {
      "text/plain": [
       "66"
      ]
     },
     "execution_count": 77,
     "metadata": {},
     "output_type": "execute_result"
    }
   ],
   "source": [
    "# viewing jpg_url duplicates \n",
    "sum(image_prediction_clean.image_url.duplicated())"
   ]
  },
  {
   "cell_type": "markdown",
   "metadata": {},
   "source": [
    "**_Code:_** Drop 66 image_url duplicated."
   ]
  },
  {
   "cell_type": "code",
   "execution_count": 78,
   "metadata": {},
   "outputs": [],
   "source": [
    "# code: removing duplicated jpg_url\n",
    "image_prediction_clean = image_prediction_clean.drop_duplicates(subset=['image_url'], keep='last')"
   ]
  },
  {
   "cell_type": "markdown",
   "metadata": {},
   "source": [
    "**_Test:_**"
   ]
  },
  {
   "cell_type": "code",
   "execution_count": 79,
   "metadata": {},
   "outputs": [
    {
     "data": {
      "text/plain": [
       "0"
      ]
     },
     "execution_count": 79,
     "metadata": {},
     "output_type": "execute_result"
    }
   ],
   "source": [
    "# testing\n",
    "sum(image_prediction_clean['image_url'].duplicated())"
   ]
  },
  {
   "cell_type": "markdown",
   "metadata": {},
   "source": [
    "**Tidiness Issue** <br>\n",
    "**_Define:_** Only 2075 images have been classified as dog images for top prediction.\n",
    "- If 1st predictions is not a dog breed, then use dog breed predicted in the 2nd or 3rd predicion."
   ]
  },
  {
   "cell_type": "markdown",
   "metadata": {},
   "source": [
    "**_Code:_** implementing function to determine dog breed."
   ]
  },
  {
   "cell_type": "code",
   "execution_count": 80,
   "metadata": {},
   "outputs": [],
   "source": [
    "# implementing function to determine dog breed\n",
    "# if no breed detected, set value to NaN\n",
    "\n",
    "def get_breed(row):\n",
    "    if row['1st_prediction_isdog'] == True:\n",
    "        return row['1st_prediction'], row['1st_prediction_confidence']\n",
    "    if row['2nd_prediction_isdog'] == True:\n",
    "        return row['2nd_prediction'], row['2nd_prediction_confidence']\n",
    "    if row['3rd_prediction_isdog'] == True:\n",
    "        return row['3rd_prediction'], row['3rd_prediction_confidence']\n",
    "    return np.nan, np.nan\n",
    "\n",
    "# applying function to dataset\n",
    "# creating new columns with data\n",
    "image_prediction_clean[['breed_predicted', 'prediction_confidence']] = pd.DataFrame(image_prediction_clean.apply(lambda row: get_breed(row), axis = 1).tolist(), index = image_prediction_clean.index) \n",
    "\n",
    "# deleting old columns\n",
    "image_prediction_clean.drop(['1st_prediction',\n",
    "                       '1st_prediction_confidence',\n",
    "                       '1st_prediction_isdog',\n",
    "                       '2nd_prediction',\n",
    "                       '2nd_prediction_confidence',\n",
    "                       '2nd_prediction_isdog',\n",
    "                       '3rd_prediction',\n",
    "                       '3rd_prediction_confidence',\n",
    "                       '3rd_prediction_isdog'],\n",
    "                      axis=1, inplace=True)\n",
    "\n",
    "# deleting rows without dog breed prediction\n",
    "image_prediction_clean.dropna(subset = ['breed_predicted', 'prediction_confidence'], inplace = True)"
   ]
  },
  {
   "cell_type": "markdown",
   "metadata": {},
   "source": [
    "**_Test:_**"
   ]
  },
  {
   "cell_type": "code",
   "execution_count": 81,
   "metadata": {},
   "outputs": [
    {
     "data": {
      "text/html": [
       "<div>\n",
       "<style scoped>\n",
       "    .dataframe tbody tr th:only-of-type {\n",
       "        vertical-align: middle;\n",
       "    }\n",
       "\n",
       "    .dataframe tbody tr th {\n",
       "        vertical-align: top;\n",
       "    }\n",
       "\n",
       "    .dataframe thead th {\n",
       "        text-align: right;\n",
       "    }\n",
       "</style>\n",
       "<table border=\"1\" class=\"dataframe\">\n",
       "  <thead>\n",
       "    <tr style=\"text-align: right;\">\n",
       "      <th></th>\n",
       "      <th>image_url</th>\n",
       "      <th>img_number</th>\n",
       "      <th>breed_predicted</th>\n",
       "      <th>prediction_confidence</th>\n",
       "    </tr>\n",
       "    <tr>\n",
       "      <th>tweet_id</th>\n",
       "      <th></th>\n",
       "      <th></th>\n",
       "      <th></th>\n",
       "      <th></th>\n",
       "    </tr>\n",
       "  </thead>\n",
       "  <tbody>\n",
       "    <tr>\n",
       "      <th>813187593374461952</th>\n",
       "      <td>https://pbs.twimg.com/media/C0kFzOQUoAAt6yb.jpg</td>\n",
       "      <td>1</td>\n",
       "      <td>Golden Retriever</td>\n",
       "      <td>0.888181</td>\n",
       "    </tr>\n",
       "    <tr>\n",
       "      <th>766078092750233600</th>\n",
       "      <td>https://pbs.twimg.com/media/ChK1tdBWwAQ1flD.jpg</td>\n",
       "      <td>1</td>\n",
       "      <td>Toy Poodle</td>\n",
       "      <td>0.420463</td>\n",
       "    </tr>\n",
       "    <tr>\n",
       "      <th>786709082849828864</th>\n",
       "      <td>https://pbs.twimg.com/media/CurzvFTXgAA2_AP.jpg</td>\n",
       "      <td>1</td>\n",
       "      <td>Pomeranian</td>\n",
       "      <td>0.467321</td>\n",
       "    </tr>\n",
       "  </tbody>\n",
       "</table>\n",
       "</div>"
      ],
      "text/plain": [
       "                                                          image_url  \\\n",
       "tweet_id                                                              \n",
       "813187593374461952  https://pbs.twimg.com/media/C0kFzOQUoAAt6yb.jpg   \n",
       "766078092750233600  https://pbs.twimg.com/media/ChK1tdBWwAQ1flD.jpg   \n",
       "786709082849828864  https://pbs.twimg.com/media/CurzvFTXgAA2_AP.jpg   \n",
       "\n",
       "                    img_number   breed_predicted  prediction_confidence  \n",
       "tweet_id                                                                 \n",
       "813187593374461952  1           Golden Retriever  0.888181               \n",
       "766078092750233600  1           Toy Poodle        0.420463               \n",
       "786709082849828864  1           Pomeranian        0.467321               "
      ]
     },
     "execution_count": 81,
     "metadata": {},
     "output_type": "execute_result"
    }
   ],
   "source": [
    "# testing\n",
    "# viewing sample of cleaned dataset\n",
    "image_prediction_clean.sample(3)"
   ]
  },
  {
   "cell_type": "markdown",
   "metadata": {},
   "source": [
    "The remaining task: dataset should be merged with the twitter archive dataset. will be covered in the Clean: Merge Datasets section."
   ]
  },
  {
   "cell_type": "markdown",
   "metadata": {},
   "source": [
    "### Clean: Twitter API Data"
   ]
  },
  {
   "cell_type": "code",
   "execution_count": 82,
   "metadata": {},
   "outputs": [
    {
     "data": {
      "text/html": [
       "<div>\n",
       "<style scoped>\n",
       "    .dataframe tbody tr th:only-of-type {\n",
       "        vertical-align: middle;\n",
       "    }\n",
       "\n",
       "    .dataframe tbody tr th {\n",
       "        vertical-align: top;\n",
       "    }\n",
       "\n",
       "    .dataframe thead th {\n",
       "        text-align: right;\n",
       "    }\n",
       "</style>\n",
       "<table border=\"1\" class=\"dataframe\">\n",
       "  <thead>\n",
       "    <tr style=\"text-align: right;\">\n",
       "      <th></th>\n",
       "      <th>favorites</th>\n",
       "      <th>retweets</th>\n",
       "    </tr>\n",
       "    <tr>\n",
       "      <th>tweet_id</th>\n",
       "      <th></th>\n",
       "      <th></th>\n",
       "    </tr>\n",
       "  </thead>\n",
       "  <tbody>\n",
       "    <tr>\n",
       "      <th>690959652130045952</th>\n",
       "      <td>3902</td>\n",
       "      <td>1421</td>\n",
       "    </tr>\n",
       "    <tr>\n",
       "      <th>869988702071779329</th>\n",
       "      <td>0</td>\n",
       "      <td>25661</td>\n",
       "    </tr>\n",
       "    <tr>\n",
       "      <th>747204161125646336</th>\n",
       "      <td>3722</td>\n",
       "      <td>1038</td>\n",
       "    </tr>\n",
       "  </tbody>\n",
       "</table>\n",
       "</div>"
      ],
      "text/plain": [
       "                    favorites  retweets\n",
       "tweet_id                               \n",
       "690959652130045952  3902       1421    \n",
       "869988702071779329  0          25661   \n",
       "747204161125646336  3722       1038    "
      ]
     },
     "execution_count": 82,
     "metadata": {},
     "output_type": "execute_result"
    }
   ],
   "source": [
    "# viewing sample of data\n",
    "twitter_api.sample(3)"
   ]
  },
  {
   "cell_type": "markdown",
   "metadata": {},
   "source": [
    "The dataset looks clean so there is no need to perform cleaning tasks, \n",
    "except for merging it with the Twitter archive data, which is covered in the next section."
   ]
  },
  {
   "cell_type": "markdown",
   "metadata": {},
   "source": [
    "<a id='storing'></a>\n",
    "## Storing, Analyzing, and Visualizing Data"
   ]
  },
  {
   "cell_type": "markdown",
   "metadata": {},
   "source": [
    "### Storing\n",
    "\n",
    "Merge all the three datasets and Store the clean DataFrame(s) in the CSV file ***twitter_archive_master.csv***"
   ]
  },
  {
   "cell_type": "code",
   "execution_count": 83,
   "metadata": {},
   "outputs": [],
   "source": [
    "# combining datasets\n",
    "df = reduce(lambda left, right: pd.merge(left, right, on='tweet_id'), [twitter_archive_clean, image_prediction_clean, twitter_api])"
   ]
  },
  {
   "cell_type": "code",
   "execution_count": 84,
   "metadata": {},
   "outputs": [
    {
     "data": {
      "text/html": [
       "<div>\n",
       "<style scoped>\n",
       "    .dataframe tbody tr th:only-of-type {\n",
       "        vertical-align: middle;\n",
       "    }\n",
       "\n",
       "    .dataframe tbody tr th {\n",
       "        vertical-align: top;\n",
       "    }\n",
       "\n",
       "    .dataframe thead th {\n",
       "        text-align: right;\n",
       "    }\n",
       "</style>\n",
       "<table border=\"1\" class=\"dataframe\">\n",
       "  <thead>\n",
       "    <tr style=\"text-align: right;\">\n",
       "      <th></th>\n",
       "      <th>timestamp</th>\n",
       "      <th>source</th>\n",
       "      <th>text</th>\n",
       "      <th>expanded_urls</th>\n",
       "      <th>rating_numerator</th>\n",
       "      <th>rating_denominator</th>\n",
       "      <th>name</th>\n",
       "      <th>number_categories</th>\n",
       "      <th>dog_type</th>\n",
       "      <th>rating</th>\n",
       "      <th>image_url</th>\n",
       "      <th>img_number</th>\n",
       "      <th>breed_predicted</th>\n",
       "      <th>prediction_confidence</th>\n",
       "      <th>favorites</th>\n",
       "      <th>retweets</th>\n",
       "    </tr>\n",
       "    <tr>\n",
       "      <th>tweet_id</th>\n",
       "      <th></th>\n",
       "      <th></th>\n",
       "      <th></th>\n",
       "      <th></th>\n",
       "      <th></th>\n",
       "      <th></th>\n",
       "      <th></th>\n",
       "      <th></th>\n",
       "      <th></th>\n",
       "      <th></th>\n",
       "      <th></th>\n",
       "      <th></th>\n",
       "      <th></th>\n",
       "      <th></th>\n",
       "      <th></th>\n",
       "      <th></th>\n",
       "    </tr>\n",
       "  </thead>\n",
       "  <tbody>\n",
       "    <tr>\n",
       "      <th>677644091929329666</th>\n",
       "      <td>2015-12-18 00:18:36+00:00</td>\n",
       "      <td>Twitter for iPhone</td>\n",
       "      <td>This is a dog swinging. I really enjoyed it so I hope you all do as well. 11/10 https://t.co/Ozo9KHTRND</td>\n",
       "      <td>https://twitter.com/dog_rates/status/677644091929329666</td>\n",
       "      <td>11.0</td>\n",
       "      <td>10.0</td>\n",
       "      <td>a</td>\n",
       "      <td>0.0</td>\n",
       "      <td>NaN</td>\n",
       "      <td>1.1</td>\n",
       "      <td>https://pbs.twimg.com/ext_tw_video_thumb/677644010865999872/pu/img/zVHEMYnJKzq1SauT.jpg</td>\n",
       "      <td>1</td>\n",
       "      <td>Chihuahua</td>\n",
       "      <td>0.626236</td>\n",
       "      <td>2040</td>\n",
       "      <td>886</td>\n",
       "    </tr>\n",
       "    <tr>\n",
       "      <th>783466772167098368</th>\n",
       "      <td>2016-10-05 00:40:09+00:00</td>\n",
       "      <td>Twitter for iPhone</td>\n",
       "      <td>This is Finn. He likes eavesdropping from filing cabinets. It's a real issue but no one has approached him about it. 11/10 would still pet https://t.co/s8W8Del9HQ</td>\n",
       "      <td>https://twitter.com/dog_rates/status/783466772167098368</td>\n",
       "      <td>11.0</td>\n",
       "      <td>10.0</td>\n",
       "      <td>Finn</td>\n",
       "      <td>0.0</td>\n",
       "      <td>NaN</td>\n",
       "      <td>1.1</td>\n",
       "      <td>https://pbs.twimg.com/media/Ct9u3ljW8AEnVIm.jpg</td>\n",
       "      <td>1</td>\n",
       "      <td>Chihuahua</td>\n",
       "      <td>0.789000</td>\n",
       "      <td>9468</td>\n",
       "      <td>2608</td>\n",
       "    </tr>\n",
       "    <tr>\n",
       "      <th>670789397210615808</th>\n",
       "      <td>2015-11-29 02:20:29+00:00</td>\n",
       "      <td>Twitter for iPhone</td>\n",
       "      <td>Two obedient dogs here. Left one has extra leg sticking out of its back. They each get 9/10. Would pet both at once https://t.co/RGcNPsmAfY</td>\n",
       "      <td>https://twitter.com/dog_rates/status/670789397210615808</td>\n",
       "      <td>9.0</td>\n",
       "      <td>10.0</td>\n",
       "      <td>None</td>\n",
       "      <td>0.0</td>\n",
       "      <td>NaN</td>\n",
       "      <td>0.9</td>\n",
       "      <td>https://pbs.twimg.com/media/CU8fZSQWoAEVp6O.jpg</td>\n",
       "      <td>1</td>\n",
       "      <td>Beagle</td>\n",
       "      <td>0.295966</td>\n",
       "      <td>700</td>\n",
       "      <td>255</td>\n",
       "    </tr>\n",
       "  </tbody>\n",
       "</table>\n",
       "</div>"
      ],
      "text/plain": [
       "                                   timestamp              source  \\\n",
       "tweet_id                                                           \n",
       "677644091929329666 2015-12-18 00:18:36+00:00  Twitter for iPhone   \n",
       "783466772167098368 2016-10-05 00:40:09+00:00  Twitter for iPhone   \n",
       "670789397210615808 2015-11-29 02:20:29+00:00  Twitter for iPhone   \n",
       "\n",
       "                                                                                                                                                                                  text  \\\n",
       "tweet_id                                                                                                                                                                                 \n",
       "677644091929329666  This is a dog swinging. I really enjoyed it so I hope you all do as well. 11/10 https://t.co/Ozo9KHTRND                                                              \n",
       "783466772167098368  This is Finn. He likes eavesdropping from filing cabinets. It's a real issue but no one has approached him about it. 11/10 would still pet https://t.co/s8W8Del9HQ   \n",
       "670789397210615808  Two obedient dogs here. Left one has extra leg sticking out of its back. They each get 9/10. Would pet both at once https://t.co/RGcNPsmAfY                          \n",
       "\n",
       "                                                              expanded_urls  \\\n",
       "tweet_id                                                                      \n",
       "677644091929329666  https://twitter.com/dog_rates/status/677644091929329666   \n",
       "783466772167098368  https://twitter.com/dog_rates/status/783466772167098368   \n",
       "670789397210615808  https://twitter.com/dog_rates/status/670789397210615808   \n",
       "\n",
       "                    rating_numerator  rating_denominator  name  \\\n",
       "tweet_id                                                         \n",
       "677644091929329666  11.0              10.0                a      \n",
       "783466772167098368  11.0              10.0                Finn   \n",
       "670789397210615808  9.0               10.0                None   \n",
       "\n",
       "                    number_categories dog_type  rating  \\\n",
       "tweet_id                                                 \n",
       "677644091929329666  0.0                NaN      1.1      \n",
       "783466772167098368  0.0                NaN      1.1      \n",
       "670789397210615808  0.0                NaN      0.9      \n",
       "\n",
       "                                                                                                  image_url  \\\n",
       "tweet_id                                                                                                      \n",
       "677644091929329666  https://pbs.twimg.com/ext_tw_video_thumb/677644010865999872/pu/img/zVHEMYnJKzq1SauT.jpg   \n",
       "783466772167098368  https://pbs.twimg.com/media/Ct9u3ljW8AEnVIm.jpg                                           \n",
       "670789397210615808  https://pbs.twimg.com/media/CU8fZSQWoAEVp6O.jpg                                           \n",
       "\n",
       "                    img_number breed_predicted  prediction_confidence  \\\n",
       "tweet_id                                                                \n",
       "677644091929329666  1           Chihuahua       0.626236                \n",
       "783466772167098368  1           Chihuahua       0.789000                \n",
       "670789397210615808  1           Beagle          0.295966                \n",
       "\n",
       "                    favorites  retweets  \n",
       "tweet_id                                 \n",
       "677644091929329666  2040       886       \n",
       "783466772167098368  9468       2608      \n",
       "670789397210615808  700        255       "
      ]
     },
     "execution_count": 84,
     "metadata": {},
     "output_type": "execute_result"
    }
   ],
   "source": [
    "# viewing new dataset\n",
    "df.sample(3)"
   ]
  },
  {
   "cell_type": "markdown",
   "metadata": {},
   "source": [
    "Store the clean df in CSV file with name 'twitter_archive_master.csv'"
   ]
  },
  {
   "cell_type": "code",
   "execution_count": 85,
   "metadata": {},
   "outputs": [],
   "source": [
    "# saving the clean DataFrame in a CSV file\n",
    "df.to_csv('twitter_archive_master.csv')"
   ]
  },
  {
   "cell_type": "markdown",
   "metadata": {},
   "source": [
    "### Analyzing and Visualizing Data"
   ]
  },
  {
   "cell_type": "code",
   "execution_count": 86,
   "metadata": {},
   "outputs": [
    {
     "data": {
      "text/html": [
       "<div>\n",
       "<style scoped>\n",
       "    .dataframe tbody tr th:only-of-type {\n",
       "        vertical-align: middle;\n",
       "    }\n",
       "\n",
       "    .dataframe tbody tr th {\n",
       "        vertical-align: top;\n",
       "    }\n",
       "\n",
       "    .dataframe thead th {\n",
       "        text-align: right;\n",
       "    }\n",
       "</style>\n",
       "<table border=\"1\" class=\"dataframe\">\n",
       "  <thead>\n",
       "    <tr style=\"text-align: right;\">\n",
       "      <th></th>\n",
       "      <th>timestamp</th>\n",
       "      <th>source</th>\n",
       "      <th>text</th>\n",
       "      <th>expanded_urls</th>\n",
       "      <th>rating_numerator</th>\n",
       "      <th>rating_denominator</th>\n",
       "      <th>name</th>\n",
       "      <th>number_categories</th>\n",
       "      <th>dog_type</th>\n",
       "      <th>rating</th>\n",
       "      <th>image_url</th>\n",
       "      <th>img_number</th>\n",
       "      <th>breed_predicted</th>\n",
       "      <th>prediction_confidence</th>\n",
       "      <th>favorites</th>\n",
       "      <th>retweets</th>\n",
       "    </tr>\n",
       "    <tr>\n",
       "      <th>tweet_id</th>\n",
       "      <th></th>\n",
       "      <th></th>\n",
       "      <th></th>\n",
       "      <th></th>\n",
       "      <th></th>\n",
       "      <th></th>\n",
       "      <th></th>\n",
       "      <th></th>\n",
       "      <th></th>\n",
       "      <th></th>\n",
       "      <th></th>\n",
       "      <th></th>\n",
       "      <th></th>\n",
       "      <th></th>\n",
       "      <th></th>\n",
       "      <th></th>\n",
       "    </tr>\n",
       "  </thead>\n",
       "  <tbody>\n",
       "    <tr>\n",
       "      <th>695767669421768709</th>\n",
       "      <td>2016-02-06 00:35:13+00:00</td>\n",
       "      <td>Twitter for iPhone</td>\n",
       "      <td>If you are aware of who is making these please let me know. 13/10 vroom vroom https://t.co/U0D1sbIDrG</td>\n",
       "      <td>https://twitter.com/dog_rates/status/695767669421768709</td>\n",
       "      <td>13.0</td>\n",
       "      <td>10.0</td>\n",
       "      <td>None</td>\n",
       "      <td>0.0</td>\n",
       "      <td>NaN</td>\n",
       "      <td>1.3</td>\n",
       "      <td>https://pbs.twimg.com/media/CafdAWCW0AE3Igl.jpg</td>\n",
       "      <td>1</td>\n",
       "      <td>Soft-Coated Wheaten Terrier</td>\n",
       "      <td>0.805139</td>\n",
       "      <td>2060</td>\n",
       "      <td>854</td>\n",
       "    </tr>\n",
       "    <tr>\n",
       "      <th>676089483918516224</th>\n",
       "      <td>2015-12-13 17:21:08+00:00</td>\n",
       "      <td>Twitter for iPhone</td>\n",
       "      <td>\"Yes hello I'ma just snag this here toasted bagel real quick. carry on.\" 9/10 https://t.co/Cuz0Osnekp</td>\n",
       "      <td>https://twitter.com/dog_rates/status/676089483918516224</td>\n",
       "      <td>9.0</td>\n",
       "      <td>10.0</td>\n",
       "      <td>None</td>\n",
       "      <td>0.0</td>\n",
       "      <td>NaN</td>\n",
       "      <td>0.9</td>\n",
       "      <td>https://pbs.twimg.com/media/CWHzzFGXIAA0Y_H.jpg</td>\n",
       "      <td>1</td>\n",
       "      <td>Bull Mastiff</td>\n",
       "      <td>0.743808</td>\n",
       "      <td>1431</td>\n",
       "      <td>483</td>\n",
       "    </tr>\n",
       "    <tr>\n",
       "      <th>679111216690831360</th>\n",
       "      <td>2015-12-22 01:28:25+00:00</td>\n",
       "      <td>Twitter for iPhone</td>\n",
       "      <td>This is officially the greatest yawn of all time. 12/10 https://t.co/4R0Cc0sLVE</td>\n",
       "      <td>https://twitter.com/dog_rates/status/679111216690831360</td>\n",
       "      <td>12.0</td>\n",
       "      <td>10.0</td>\n",
       "      <td>officially</td>\n",
       "      <td>0.0</td>\n",
       "      <td>NaN</td>\n",
       "      <td>1.2</td>\n",
       "      <td>https://pbs.twimg.com/ext_tw_video_thumb/679111114081370114/pu/img/hFca8BHjRopgD0cM.jpg</td>\n",
       "      <td>1</td>\n",
       "      <td>Kelpie</td>\n",
       "      <td>0.189423</td>\n",
       "      <td>6514</td>\n",
       "      <td>2893</td>\n",
       "    </tr>\n",
       "  </tbody>\n",
       "</table>\n",
       "</div>"
      ],
      "text/plain": [
       "                                   timestamp              source  \\\n",
       "tweet_id                                                           \n",
       "695767669421768709 2016-02-06 00:35:13+00:00  Twitter for iPhone   \n",
       "676089483918516224 2015-12-13 17:21:08+00:00  Twitter for iPhone   \n",
       "679111216690831360 2015-12-22 01:28:25+00:00  Twitter for iPhone   \n",
       "\n",
       "                                                                                                                     text  \\\n",
       "tweet_id                                                                                                                    \n",
       "695767669421768709  If you are aware of who is making these please let me know. 13/10 vroom vroom https://t.co/U0D1sbIDrG   \n",
       "676089483918516224  \"Yes hello I'ma just snag this here toasted bagel real quick. carry on.\" 9/10 https://t.co/Cuz0Osnekp   \n",
       "679111216690831360  This is officially the greatest yawn of all time. 12/10 https://t.co/4R0Cc0sLVE                         \n",
       "\n",
       "                                                              expanded_urls  \\\n",
       "tweet_id                                                                      \n",
       "695767669421768709  https://twitter.com/dog_rates/status/695767669421768709   \n",
       "676089483918516224  https://twitter.com/dog_rates/status/676089483918516224   \n",
       "679111216690831360  https://twitter.com/dog_rates/status/679111216690831360   \n",
       "\n",
       "                    rating_numerator  rating_denominator        name  \\\n",
       "tweet_id                                                               \n",
       "695767669421768709  13.0              10.0                None         \n",
       "676089483918516224  9.0               10.0                None         \n",
       "679111216690831360  12.0              10.0                officially   \n",
       "\n",
       "                    number_categories dog_type  rating  \\\n",
       "tweet_id                                                 \n",
       "695767669421768709  0.0                NaN      1.3      \n",
       "676089483918516224  0.0                NaN      0.9      \n",
       "679111216690831360  0.0                NaN      1.2      \n",
       "\n",
       "                                                                                                  image_url  \\\n",
       "tweet_id                                                                                                      \n",
       "695767669421768709  https://pbs.twimg.com/media/CafdAWCW0AE3Igl.jpg                                           \n",
       "676089483918516224  https://pbs.twimg.com/media/CWHzzFGXIAA0Y_H.jpg                                           \n",
       "679111216690831360  https://pbs.twimg.com/ext_tw_video_thumb/679111114081370114/pu/img/hFca8BHjRopgD0cM.jpg   \n",
       "\n",
       "                    img_number              breed_predicted  \\\n",
       "tweet_id                                                      \n",
       "695767669421768709  1           Soft-Coated Wheaten Terrier   \n",
       "676089483918516224  1           Bull Mastiff                  \n",
       "679111216690831360  1           Kelpie                        \n",
       "\n",
       "                    prediction_confidence  favorites  retweets  \n",
       "tweet_id                                                        \n",
       "695767669421768709  0.805139               2060       854       \n",
       "676089483918516224  0.743808               1431       483       \n",
       "679111216690831360  0.189423               6514       2893      "
      ]
     },
     "execution_count": 86,
     "metadata": {},
     "output_type": "execute_result"
    }
   ],
   "source": [
    "# viewing sample of data\n",
    "df.sample(3)"
   ]
  },
  {
   "cell_type": "code",
   "execution_count": 87,
   "metadata": {},
   "outputs": [
    {
     "name": "stdout",
     "output_type": "stream",
     "text": [
      "<class 'pandas.core.frame.DataFrame'>\n",
      "Int64Index: 1626 entries, 892177421306343426 to 666020888022790149\n",
      "Data columns (total 16 columns):\n",
      " #   Column                 Non-Null Count  Dtype              \n",
      "---  ------                 --------------  -----              \n",
      " 0   timestamp              1626 non-null   datetime64[ns, UTC]\n",
      " 1   source                 1626 non-null   object             \n",
      " 2   text                   1626 non-null   object             \n",
      " 3   expanded_urls          1626 non-null   object             \n",
      " 4   rating_numerator       1626 non-null   float64            \n",
      " 5   rating_denominator     1626 non-null   float64            \n",
      " 6   name                   1626 non-null   object             \n",
      " 7   number_categories      1626 non-null   float64            \n",
      " 8   dog_type               279 non-null    object             \n",
      " 9   rating                 1626 non-null   float64            \n",
      " 10  image_url              1626 non-null   object             \n",
      " 11  img_number             1626 non-null   int64              \n",
      " 12  breed_predicted        1626 non-null   object             \n",
      " 13  prediction_confidence  1626 non-null   float64            \n",
      " 14  favorites              1626 non-null   int64              \n",
      " 15  retweets               1626 non-null   int64              \n",
      "dtypes: datetime64[ns, UTC](1), float64(5), int64(3), object(7)\n",
      "memory usage: 216.0+ KB\n"
     ]
    }
   ],
   "source": [
    "# information of the data\n",
    "df.info()"
   ]
  },
  {
   "cell_type": "code",
   "execution_count": 88,
   "metadata": {},
   "outputs": [
    {
     "data": {
      "text/html": [
       "<div>\n",
       "<style scoped>\n",
       "    .dataframe tbody tr th:only-of-type {\n",
       "        vertical-align: middle;\n",
       "    }\n",
       "\n",
       "    .dataframe tbody tr th {\n",
       "        vertical-align: top;\n",
       "    }\n",
       "\n",
       "    .dataframe thead th {\n",
       "        text-align: right;\n",
       "    }\n",
       "</style>\n",
       "<table border=\"1\" class=\"dataframe\">\n",
       "  <thead>\n",
       "    <tr style=\"text-align: right;\">\n",
       "      <th></th>\n",
       "      <th>rating_numerator</th>\n",
       "      <th>rating_denominator</th>\n",
       "      <th>number_categories</th>\n",
       "      <th>rating</th>\n",
       "      <th>img_number</th>\n",
       "      <th>prediction_confidence</th>\n",
       "      <th>favorites</th>\n",
       "      <th>retweets</th>\n",
       "    </tr>\n",
       "  </thead>\n",
       "  <tbody>\n",
       "    <tr>\n",
       "      <th>count</th>\n",
       "      <td>1626.000000</td>\n",
       "      <td>1626.000000</td>\n",
       "      <td>1626.000000</td>\n",
       "      <td>1626.000000</td>\n",
       "      <td>1626.000000</td>\n",
       "      <td>1626.000000</td>\n",
       "      <td>1626.000000</td>\n",
       "      <td>1626.000000</td>\n",
       "    </tr>\n",
       "    <tr>\n",
       "      <th>mean</th>\n",
       "      <td>11.391009</td>\n",
       "      <td>10.522140</td>\n",
       "      <td>0.159287</td>\n",
       "      <td>1.081431</td>\n",
       "      <td>1.216482</td>\n",
       "      <td>0.550305</td>\n",
       "      <td>8603.169127</td>\n",
       "      <td>2555.534440</td>\n",
       "    </tr>\n",
       "    <tr>\n",
       "      <th>std</th>\n",
       "      <td>8.021945</td>\n",
       "      <td>7.000207</td>\n",
       "      <td>0.379266</td>\n",
       "      <td>0.187995</td>\n",
       "      <td>0.577420</td>\n",
       "      <td>0.300083</td>\n",
       "      <td>11700.108745</td>\n",
       "      <td>4301.337243</td>\n",
       "    </tr>\n",
       "    <tr>\n",
       "      <th>min</th>\n",
       "      <td>0.000000</td>\n",
       "      <td>2.000000</td>\n",
       "      <td>0.000000</td>\n",
       "      <td>0.000000</td>\n",
       "      <td>1.000000</td>\n",
       "      <td>0.000010</td>\n",
       "      <td>81.000000</td>\n",
       "      <td>16.000000</td>\n",
       "    </tr>\n",
       "    <tr>\n",
       "      <th>25%</th>\n",
       "      <td>10.000000</td>\n",
       "      <td>10.000000</td>\n",
       "      <td>0.000000</td>\n",
       "      <td>1.000000</td>\n",
       "      <td>1.000000</td>\n",
       "      <td>0.302321</td>\n",
       "      <td>2091.250000</td>\n",
       "      <td>622.250000</td>\n",
       "    </tr>\n",
       "    <tr>\n",
       "      <th>50%</th>\n",
       "      <td>11.000000</td>\n",
       "      <td>10.000000</td>\n",
       "      <td>0.000000</td>\n",
       "      <td>1.100000</td>\n",
       "      <td>1.000000</td>\n",
       "      <td>0.550604</td>\n",
       "      <td>4162.500000</td>\n",
       "      <td>1363.000000</td>\n",
       "    </tr>\n",
       "    <tr>\n",
       "      <th>75%</th>\n",
       "      <td>12.000000</td>\n",
       "      <td>10.000000</td>\n",
       "      <td>0.000000</td>\n",
       "      <td>1.200000</td>\n",
       "      <td>1.000000</td>\n",
       "      <td>0.822939</td>\n",
       "      <td>10857.250000</td>\n",
       "      <td>2992.500000</td>\n",
       "    </tr>\n",
       "    <tr>\n",
       "      <th>max</th>\n",
       "      <td>165.000000</td>\n",
       "      <td>150.000000</td>\n",
       "      <td>2.000000</td>\n",
       "      <td>3.428571</td>\n",
       "      <td>4.000000</td>\n",
       "      <td>0.999956</td>\n",
       "      <td>132810.000000</td>\n",
       "      <td>79515.000000</td>\n",
       "    </tr>\n",
       "  </tbody>\n",
       "</table>\n",
       "</div>"
      ],
      "text/plain": [
       "       rating_numerator  rating_denominator  number_categories       rating  \\\n",
       "count  1626.000000       1626.000000         1626.000000        1626.000000   \n",
       "mean   11.391009         10.522140           0.159287           1.081431      \n",
       "std    8.021945          7.000207            0.379266           0.187995      \n",
       "min    0.000000          2.000000            0.000000           0.000000      \n",
       "25%    10.000000         10.000000           0.000000           1.000000      \n",
       "50%    11.000000         10.000000           0.000000           1.100000      \n",
       "75%    12.000000         10.000000           0.000000           1.200000      \n",
       "max    165.000000        150.000000          2.000000           3.428571      \n",
       "\n",
       "        img_number  prediction_confidence      favorites      retweets  \n",
       "count  1626.000000  1626.000000            1626.000000    1626.000000   \n",
       "mean   1.216482     0.550305               8603.169127    2555.534440   \n",
       "std    0.577420     0.300083               11700.108745   4301.337243   \n",
       "min    1.000000     0.000010               81.000000      16.000000     \n",
       "25%    1.000000     0.302321               2091.250000    622.250000    \n",
       "50%    1.000000     0.550604               4162.500000    1363.000000   \n",
       "75%    1.000000     0.822939               10857.250000   2992.500000   \n",
       "max    4.000000     0.999956               132810.000000  79515.000000  "
      ]
     },
     "execution_count": 88,
     "metadata": {},
     "output_type": "execute_result"
    }
   ],
   "source": [
    "# statistical summery of the data\n",
    "df.describe()"
   ]
  },
  {
   "cell_type": "markdown",
   "metadata": {},
   "source": [
    "Looking at the basic statistics, we see that the rating 11/10 is the most common one. When it comes to the quality of dog breed predictions, the average confidence of ~50% suggests we might expect a lot of misclassified dogs. On the good side, the average value of favorites and retweets allow us to understand better how popular weRateDogs profile is. Average of 8603 favorites and 2555 retweets is impressive."
   ]
  },
  {
   "cell_type": "markdown",
   "metadata": {},
   "source": [
    "### Visualizing Master Dataframe"
   ]
  },
  {
   "cell_type": "code",
   "execution_count": 89,
   "metadata": {},
   "outputs": [],
   "source": [
    "# Set the style by calling Seaborn's set() method\n",
    "sns.set(style=\"white\", context=\"notebook\")\n",
    "#sns.set_style('ticks')"
   ]
  },
  {
   "cell_type": "markdown",
   "metadata": {},
   "source": [
    "**_General Properties_**"
   ]
  },
  {
   "cell_type": "code",
   "execution_count": 90,
   "metadata": {},
   "outputs": [
    {
     "data": {
      "image/png": "[encoded data removed]",
      "text/plain": [
       "<Figure size 720x720 with 9 Axes>"
      ]
     },
     "metadata": {},
     "output_type": "display_data"
    }
   ],
   "source": [
    "# Histogram\n",
    "df.hist(figsize=(10,10));"
   ]
  },
  {
   "cell_type": "markdown",
   "metadata": {},
   "source": [
    "<a id='insight1'></a>\n",
    "#### Insight 1\n",
    "**Most common dog Breed**\n",
    "\n",
    "An interesting information is the dog breed. This information comes from the image predictions file, which we merged with the tweeter archive at Storing section. Dog breeds were generated by running images through the neural network that can classify breeds of dogs."
   ]
  },
  {
   "cell_type": "code",
   "execution_count": 91,
   "metadata": {},
   "outputs": [
    {
     "data": {
      "text/plain": [
       "Golden Retriever      143\n",
       "Labrador Retriever    103\n",
       "Pembroke              94 \n",
       "Chihuahua             87 \n",
       "Pug                   60 \n",
       "                      .. \n",
       "Entlebucher           1  \n",
       "Silky Terrier         1  \n",
       "Japanese Spaniel      1  \n",
       "Clumber               1  \n",
       "Standard Schnauzer    1  \n",
       "Name: breed_predicted, Length: 113, dtype: int64"
      ]
     },
     "execution_count": 91,
     "metadata": {},
     "output_type": "execute_result"
    }
   ],
   "source": [
    "# viewing the number for each dog's breed \n",
    "df['breed_predicted'].value_counts()"
   ]
  },
  {
   "cell_type": "code",
   "execution_count": 92,
   "metadata": {},
   "outputs": [],
   "source": [
    "# plotting the horizontal bar chart using function\n",
    "def plot_barh(x, y, title=\"\", xlabel=\"\", ylabel=\"\", rotation=0):\n",
    "    \n",
    "    plt.figure(figsize=(8,5)) \n",
    "\n",
    "\n",
    "    bar_list = plt.barh(x,y, color=\"#3F5D7D\", edgecolor=\"k\")\n",
    "\n",
    "\n",
    "    plt.title(title,\n",
    "              fontsize=17)\n",
    "    \n",
    "    plt.xlabel(xlabel,\n",
    "               fontsize=15)\n",
    "    \n",
    "    plt.ylabel(ylabel,\n",
    "               fontsize=15)\n",
    "\n",
    "    return plt.show()"
   ]
  },
  {
   "cell_type": "code",
   "execution_count": 93,
   "metadata": {},
   "outputs": [
    {
     "data": {
      "image/png": "[encoded data removed]",
      "text/plain": [
       "<Figure size 576x360 with 1 Axes>"
      ]
     },
     "metadata": {},
     "output_type": "display_data"
    }
   ],
   "source": [
    "# plotting ten most popular dog breeds\n",
    "dog_breeds = pd.DataFrame(df.breed_predicted.value_counts()[:10])\n",
    "\n",
    "plot_barh(dog_breeds.index,\n",
    "          dog_breeds.breed_predicted,\n",
    "          title=\"Histogram of the 10 Most Popular Dogs Breeds\")"
   ]
  },
  {
   "cell_type": "markdown",
   "metadata": {},
   "source": [
    "**Golden Retriever, Labrador Retriever, Pembroke, and Chihuahua are the most popular dog breeds!**"
   ]
  },
  {
   "cell_type": "markdown",
   "metadata": {},
   "source": [
    "<a id='insight2'></a>\n",
    "#### Insight 2\n",
    "**Average rating among dog Breeds**"
   ]
  },
  {
   "cell_type": "code",
   "execution_count": 94,
   "metadata": {},
   "outputs": [],
   "source": [
    "df_dog_type_mean = df.groupby('breed_predicted').mean()"
   ]
  },
  {
   "cell_type": "code",
   "execution_count": 95,
   "metadata": {},
   "outputs": [
    {
     "data": {
      "text/html": [
       "<div>\n",
       "<style scoped>\n",
       "    .dataframe tbody tr th:only-of-type {\n",
       "        vertical-align: middle;\n",
       "    }\n",
       "\n",
       "    .dataframe tbody tr th {\n",
       "        vertical-align: top;\n",
       "    }\n",
       "\n",
       "    .dataframe thead th {\n",
       "        text-align: right;\n",
       "    }\n",
       "</style>\n",
       "<table border=\"1\" class=\"dataframe\">\n",
       "  <thead>\n",
       "    <tr style=\"text-align: right;\">\n",
       "      <th></th>\n",
       "      <th>rating_numerator</th>\n",
       "      <th>rating_denominator</th>\n",
       "      <th>number_categories</th>\n",
       "      <th>rating</th>\n",
       "      <th>img_number</th>\n",
       "      <th>prediction_confidence</th>\n",
       "      <th>favorites</th>\n",
       "      <th>retweets</th>\n",
       "    </tr>\n",
       "    <tr>\n",
       "      <th>breed_predicted</th>\n",
       "      <th></th>\n",
       "      <th></th>\n",
       "      <th></th>\n",
       "      <th></th>\n",
       "      <th></th>\n",
       "      <th></th>\n",
       "      <th></th>\n",
       "      <th></th>\n",
       "    </tr>\n",
       "  </thead>\n",
       "  <tbody>\n",
       "    <tr>\n",
       "      <th>Afghan Hound</th>\n",
       "      <td>8.000000</td>\n",
       "      <td>10.0</td>\n",
       "      <td>0.000000</td>\n",
       "      <td>0.800000</td>\n",
       "      <td>1.000000</td>\n",
       "      <td>0.513621</td>\n",
       "      <td>12191.500000</td>\n",
       "      <td>3602.5000</td>\n",
       "    </tr>\n",
       "    <tr>\n",
       "      <th>Airedale</th>\n",
       "      <td>9.833333</td>\n",
       "      <td>10.0</td>\n",
       "      <td>0.083333</td>\n",
       "      <td>0.983333</td>\n",
       "      <td>1.166667</td>\n",
       "      <td>0.583771</td>\n",
       "      <td>5280.833333</td>\n",
       "      <td>1393.7500</td>\n",
       "    </tr>\n",
       "    <tr>\n",
       "      <th>American Staffordshire Terrier</th>\n",
       "      <td>10.312500</td>\n",
       "      <td>10.0</td>\n",
       "      <td>0.187500</td>\n",
       "      <td>1.031250</td>\n",
       "      <td>1.187500</td>\n",
       "      <td>0.527359</td>\n",
       "      <td>9380.187500</td>\n",
       "      <td>2310.8125</td>\n",
       "    </tr>\n",
       "    <tr>\n",
       "      <th>Appenzeller</th>\n",
       "      <td>11.000000</td>\n",
       "      <td>10.0</td>\n",
       "      <td>0.000000</td>\n",
       "      <td>1.100000</td>\n",
       "      <td>1.000000</td>\n",
       "      <td>0.503665</td>\n",
       "      <td>7317.500000</td>\n",
       "      <td>1458.0000</td>\n",
       "    </tr>\n",
       "    <tr>\n",
       "      <th>Australian Terrier</th>\n",
       "      <td>11.500000</td>\n",
       "      <td>10.0</td>\n",
       "      <td>0.000000</td>\n",
       "      <td>1.150000</td>\n",
       "      <td>2.000000</td>\n",
       "      <td>0.307584</td>\n",
       "      <td>11127.500000</td>\n",
       "      <td>3078.5000</td>\n",
       "    </tr>\n",
       "  </tbody>\n",
       "</table>\n",
       "</div>"
      ],
      "text/plain": [
       "                                rating_numerator  rating_denominator  \\\n",
       "breed_predicted                                                        \n",
       "Afghan Hound                    8.000000          10.0                 \n",
       "Airedale                        9.833333          10.0                 \n",
       "American Staffordshire Terrier  10.312500         10.0                 \n",
       "Appenzeller                     11.000000         10.0                 \n",
       "Australian Terrier              11.500000         10.0                 \n",
       "\n",
       "                                number_categories    rating  img_number  \\\n",
       "breed_predicted                                                           \n",
       "Afghan Hound                    0.000000           0.800000  1.000000     \n",
       "Airedale                        0.083333           0.983333  1.166667     \n",
       "American Staffordshire Terrier  0.187500           1.031250  1.187500     \n",
       "Appenzeller                     0.000000           1.100000  1.000000     \n",
       "Australian Terrier              0.000000           1.150000  2.000000     \n",
       "\n",
       "                                prediction_confidence     favorites   retweets  \n",
       "breed_predicted                                                                 \n",
       "Afghan Hound                    0.513621               12191.500000  3602.5000  \n",
       "Airedale                        0.583771               5280.833333   1393.7500  \n",
       "American Staffordshire Terrier  0.527359               9380.187500   2310.8125  \n",
       "Appenzeller                     0.503665               7317.500000   1458.0000  \n",
       "Australian Terrier              0.307584               11127.500000  3078.5000  "
      ]
     },
     "execution_count": 95,
     "metadata": {},
     "output_type": "execute_result"
    }
   ],
   "source": [
    "df_dog_type_mean.head()"
   ]
  },
  {
   "cell_type": "code",
   "execution_count": 96,
   "metadata": {},
   "outputs": [
    {
     "data": {
      "text/plain": [
       "breed_predicted\n",
       "Japanese Spaniel               0.500000\n",
       "Afghan Hound                   0.800000\n",
       "Soft-Coated Wheaten Terrier    0.880000\n",
       "Scotch Terrier                 0.900000\n",
       "Walker Hound                   0.900000\n",
       "                                 ...   \n",
       "Border Terrier                 1.214286\n",
       "Irish Setter                   1.233333\n",
       "Briard                         1.233333\n",
       "Saluki                         1.250000\n",
       "Bouvier Des Flandres           1.300000\n",
       "Name: rating, Length: 113, dtype: float64"
      ]
     },
     "execution_count": 96,
     "metadata": {},
     "output_type": "execute_result"
    }
   ],
   "source": [
    "df_dog_type_sorted = df_dog_type_mean['rating'].sort_values()\n",
    "\n",
    "df_dog_type_sorted"
   ]
  },
  {
   "cell_type": "markdown",
   "metadata": {},
   "source": [
    "<a id='insight3'></a>\n",
    "#### Insight 3\n",
    "**Account Popularity over Time**\n",
    "\n",
    "Account Popularity based on the numbers of Favorites and Retweets over time."
   ]
  },
  {
   "cell_type": "code",
   "execution_count": 97,
   "metadata": {},
   "outputs": [
    {
     "name": "stderr",
     "output_type": "stream",
     "text": [
      "No handles with labels found to put in legend.\n"
     ]
    },
    {
     "data": {
      "text/plain": [
       "<matplotlib.legend.Legend at 0x2d47b3505b0>"
      ]
     },
     "execution_count": 97,
     "metadata": {},
     "output_type": "execute_result"
    },
    {
     "data": {
      "image/png": "[encoded data removed]",
      "text/plain": [
       "<Figure size 720x504 with 1 Axes>"
      ]
     },
     "metadata": {},
     "output_type": "display_data"
    }
   ],
   "source": [
    "d = pd.DataFrame(df.timestamp)\n",
    "fig, ax = plt.subplots(figsize=(10,7))\n",
    "ax.plot_date(d,df.favorites, color=\"#FF0000\")\n",
    "ax.plot_date(d,df.retweets, color=\"#0000FF\")\n",
    "ax.set_ylim([0,16000])\n",
    "ax.set_title('Popularity of @WERateDogs over Time')\n",
    "\n",
    "# Setting x and y labels.\n",
    "ax.set_ylabel('Count')\n",
    "ax.set_xlabel('Time')\n",
    "ax.legend()"
   ]
  },
  {
   "cell_type": "markdown",
   "metadata": {},
   "source": [
    "**The page gained popularity over time as it is clear in the above graph.\n",
    "We see an upward trend in the number of favorites and retweets. We can suppose that tweets were getting more and more favorites and retweets as WeRateDog account was becoming more and more popular.**"
   ]
  },
  {
   "cell_type": "code",
   "execution_count": 98,
   "metadata": {},
   "outputs": [
    {
     "data": {
      "text/plain": [
       "(0.0, 83521.15094004545)"
      ]
     },
     "execution_count": 98,
     "metadata": {},
     "output_type": "execute_result"
    },
    {
     "data": {
      "image/png": "[encoded data removed]",
      "text/plain": [
       "<Figure size 432x288 with 1 Axes>"
      ]
     },
     "metadata": {},
     "output_type": "display_data"
    }
   ],
   "source": [
    "# favorites as potential predictor variable of retweets\n",
    "# setting up the graph layout and design\n",
    "sns.set_style(\"whitegrid\")\n",
    "sns.regplot(x=\"favorites\", y=\"retweets\", color=\"green\", data=df)\n",
    "plt.ylim(0,)"
   ]
  },
  {
   "cell_type": "markdown",
   "metadata": {},
   "source": [
    "<a id='insight4'></a>\n",
    "#### Insight 4\n",
    "**Dog Types**\n",
    "\n",
    "WeRateDogs classifies dogs into one of four stages: doggo, pupper, puppo, and floof(er).Let's check how many dogs we have for each category."
   ]
  },
  {
   "cell_type": "code",
   "execution_count": 99,
   "metadata": {},
   "outputs": [
    {
     "data": {
      "text/plain": [
       "Pupper     184\n",
       "Doggo      62 \n",
       "Puppo      25 \n",
       "Floofer    8  \n",
       "Name: dog_type, dtype: int64"
      ]
     },
     "execution_count": 99,
     "metadata": {},
     "output_type": "execute_result"
    }
   ],
   "source": [
    "df.dog_type.value_counts()"
   ]
  },
  {
   "cell_type": "code",
   "execution_count": 100,
   "metadata": {},
   "outputs": [],
   "source": [
    "# plotting bar chart using function\n",
    "def plot_bar(x, y, title=\"\", xlabel=\"\", ylabel=\"\", rotation=0, width=0.8):\n",
    "    \n",
    "    plt.figure(figsize=(9,6)) \n",
    "\n",
    "    bar_list = plt.bar(x, y, color=\"#173c8c\", edgecolor=\"k\", width=width)\n",
    "\n",
    "\n",
    "    plt.title(title,\n",
    "              fontsize=18)\n",
    "    \n",
    "    plt.xlabel(xlabel,\n",
    "               fontsize=15)\n",
    "    \n",
    "    plt.ylabel(ylabel,\n",
    "               fontsize=15)\n",
    "\n",
    "    return plt.show()"
   ]
  },
  {
   "cell_type": "code",
   "execution_count": 101,
   "metadata": {},
   "outputs": [
    {
     "data": {
      "image/png": "[encoded data removed]",
      "text/plain": [
       "<Figure size 648x432 with 1 Axes>"
      ]
     },
     "metadata": {},
     "output_type": "display_data"
    }
   ],
   "source": [
    "# plot dog types\n",
    "dog_types = pd.DataFrame(df.dog_type.value_counts())\n",
    "\n",
    "plot_bar(dog_types.index,\n",
    "         dog_types.dog_type,\n",
    "         width=0.25,\n",
    "         title=\"Dog Types\",\n",
    "         ylabel=\"Count\")\n",
    "\n",
    "\n",
    "sns.set_style('darkgrid')"
   ]
  },
  {
   "cell_type": "markdown",
   "metadata": {},
   "source": [
    "**Pupper is the most common dog category, followed by Doggo. Floofer is very rare.**"
   ]
  },
  {
   "cell_type": "markdown",
   "metadata": {},
   "source": [
    "<a id='insight5'></a>\n",
    "#### Insight 5\n",
    "WeRateDogs rates people's dogs with a humorous comment about the dog. These ratings almost always have a denominator of 10. The numerators, though? Almost always greater than 10. 11/10, 12/10, 13/10, etc."
   ]
  },
  {
   "cell_type": "code",
   "execution_count": 102,
   "metadata": {},
   "outputs": [
    {
     "data": {
      "text/plain": [
       "count    1626.000000\n",
       "mean     1.081431   \n",
       "std      0.187995   \n",
       "min      0.000000   \n",
       "25%      1.000000   \n",
       "50%      1.100000   \n",
       "75%      1.200000   \n",
       "max      3.428571   \n",
       "Name: rating, dtype: float64"
      ]
     },
     "execution_count": 102,
     "metadata": {},
     "output_type": "execute_result"
    }
   ],
   "source": [
    "# statistical summary of rating\n",
    "df.rating.describe()"
   ]
  },
  {
   "cell_type": "code",
   "execution_count": 103,
   "metadata": {},
   "outputs": [],
   "source": [
    "# line plot function\n",
    "def plot_line(x, y, title=\"\", xlabel=\"\", ylabel=\"\", marker=None, linestyle=\"-\", xlim=None, ylim=None, xrotation=0):\n",
    "    \n",
    "    plt.figure(figsize=(10, 7))   \n",
    "\n",
    "    ax = plt.subplot(111)    \n",
    "    ax.spines[\"top\"].set_visible(False)    \n",
    "    ax.spines[\"right\"].set_visible(False)    \n",
    "    ax.grid(which='major', axis='both', linestyle='--', alpha=0.5, color=\"#9b2e2e\")\n",
    "\n",
    "    plt.yticks(fontsize=14)    \n",
    "    plt.xticks(fontsize=14, rotation=xrotation)   \n",
    "\n",
    "    if xlim is None:\n",
    "        plt.xlim()\n",
    "    else:\n",
    "        plt.xlim(xlim)\n",
    "\n",
    "    if ylim is None:\n",
    "        plt.ylim()\n",
    "    else:\n",
    "        plt.ylim(ylim)\n",
    "    \n",
    "    plt.plot(x, y, marker=marker, linestyle=linestyle, color=\"#FF0000\")\n",
    "\n",
    "    plt.title(title,\n",
    "              fontsize=18)\n",
    "    \n",
    "    plt.xlabel(xlabel,\n",
    "               fontsize=14)\n",
    "    \n",
    "    plt.ylabel(ylabel,\n",
    "               fontsize=14)\n",
    "\n",
    "    return plt.show()"
   ]
  },
  {
   "cell_type": "code",
   "execution_count": 104,
   "metadata": {},
   "outputs": [
    {
     "data": {
      "image/png": "[encoded data removed]",
      "text/plain": [
       "<Figure size 720x504 with 1 Axes>"
      ]
     },
     "metadata": {},
     "output_type": "display_data"
    }
   ],
   "source": [
    "# plotting rating over time\n",
    "plot_line(df.timestamp, \n",
    "          df.rating,\n",
    "          title=\"Rating over time\", \n",
    "          ylabel=\"Rating\", \n",
    "          marker='o', \n",
    "          linestyle='', \n",
    "          ylim=(0,1.5), \n",
    "          xrotation=90)\n",
    "sns.set_style('darkgrid')"
   ]
  },
  {
   "cell_type": "markdown",
   "metadata": {},
   "source": [
    "**At the beginning of the account activity, the lower ratings were more frequent.**                 \n",
    "\n",
    "**With the elapse of time, less and less dogs received a low rating, and more and more high.**"
   ]
  },
  {
   "cell_type": "markdown",
   "metadata": {},
   "source": [
    "## Further Investigation of the Data"
   ]
  },
  {
   "cell_type": "markdown",
   "metadata": {},
   "source": [
    "Aim : The goal here is to understand what influences the sharing."
   ]
  },
  {
   "cell_type": "markdown",
   "metadata": {},
   "source": [
    "###  Inspecting the Global information on sharing"
   ]
  },
  {
   "cell_type": "code",
   "execution_count": 105,
   "metadata": {},
   "outputs": [
    {
     "data": {
      "text/plain": [
       "count    1626.000000 \n",
       "mean     2555.534440 \n",
       "std      4301.337243 \n",
       "min      16.000000   \n",
       "25%      622.250000  \n",
       "50%      1363.000000 \n",
       "75%      2992.500000 \n",
       "max      79515.000000\n",
       "Name: retweets, dtype: float64"
      ]
     },
     "execution_count": 105,
     "metadata": {},
     "output_type": "execute_result"
    }
   ],
   "source": [
    "# getting the Description of retweet variable\n",
    "df['retweets'].describe()"
   ]
  },
  {
   "cell_type": "code",
   "execution_count": 106,
   "metadata": {},
   "outputs": [],
   "source": [
    "# looking up the record with the miminum retweet \n",
    "for ind, rw in df.iterrows():\n",
    "    if rw['retweets']==13:\n",
    "        print ('index: ',ind,'\\n','\\n',\n",
    "               rw,'\\n','\\n',\n",
    "              )"
   ]
  },
  {
   "cell_type": "code",
   "execution_count": 107,
   "metadata": {},
   "outputs": [],
   "source": [
    "# looking up the row with the maximum retweet \n",
    "for ind, rw in df.iterrows():\n",
    "    if rw['retweets']==77996:\n",
    "        print ('index: ',ind,'\\n','\\n',\n",
    "               rw,'\\n','\\n',\n",
    "              )"
   ]
  },
  {
   "cell_type": "code",
   "execution_count": 108,
   "metadata": {},
   "outputs": [
    {
     "data": {
      "image/png": "[encoded data removed]",
      "text/plain": [
       "<Figure size 1080x504 with 1 Axes>"
      ]
     },
     "metadata": {},
     "output_type": "display_data"
    }
   ],
   "source": [
    "# getting the evolution of tweet sharing \n",
    "df_plot=df.copy()\n",
    "\n",
    "# setting up the date as index\n",
    "df_plot.set_index('timestamp',inplace=True)\n",
    "\n",
    "# setting up the plot style to 'ggplot'\n",
    "plt.style.use('ggplot')\n",
    "\n",
    "# plotting the data\n",
    "fig, ax = plt.subplots(figsize=(15,7))\n",
    "ax.bar(df_plot.index, df_plot['retweets'],width=5)\n",
    "\n",
    "\n",
    "# setting up the ticks for each week\n",
    "ax.xaxis.set_major_locator(mdates.MonthLocator())\n",
    "\n",
    "# setting the format for major ticks\n",
    "ax.xaxis.set_major_formatter(mdates.DateFormatter('%b'))\n",
    "\n",
    "# setting up the axis and graph titles\n",
    "ax.set_title('Number of retweets through time')\n",
    "ax.set_xlabel('Month')\n",
    "ax.set_ylabel('Retweets')\n",
    "\n",
    "\n",
    "# generating the figure\n",
    "fig.savefig('data/retweets_through_time.png')"
   ]
  },
  {
   "cell_type": "markdown",
   "metadata": {},
   "source": [
    "###  Visualizing the Variables"
   ]
  },
  {
   "cell_type": "markdown",
   "metadata": {},
   "source": [
    "Skimming away the Outliers"
   ]
  },
  {
   "cell_type": "code",
   "execution_count": 109,
   "metadata": {},
   "outputs": [],
   "source": [
    "# defining the function to remove the outliers\n",
    "def discard_outliers(dataframe, column):\n",
    "    '''\n",
    "    the function take a dataframe and a column as argument \n",
    "    cut the outlier of the dataframe\n",
    "    and return the new dataframe shape\n",
    "    '''\n",
    "    q3 = dataframe[column].quantile(0.75)\n",
    "    q1 = dataframe[column].quantile(0.25)\n",
    "    IQR = q3 - q1\n",
    "    out_1 = q1 - 1.5*IQR\n",
    "    out_2 = q3 + 1.5*IQR\n",
    "    dataframe = dataframe.loc[((dataframe[column] > out_1) & (dataframe[column] < out_2))]\n",
    "    return dataframe"
   ]
  },
  {
   "cell_type": "code",
   "execution_count": 110,
   "metadata": {},
   "outputs": [],
   "source": [
    "# applying function to our dataframe\n",
    "df = discard_outliers(df,'retweets')"
   ]
  },
  {
   "cell_type": "code",
   "execution_count": 111,
   "metadata": {},
   "outputs": [
    {
     "data": {
      "text/plain": [
       "(1503, 16)"
      ]
     },
     "execution_count": 111,
     "metadata": {},
     "output_type": "execute_result"
    }
   ],
   "source": [
    "# making sure the changes of the structure of retweets\n",
    "df.shape"
   ]
  },
  {
   "cell_type": "markdown",
   "metadata": {},
   "source": [
    "#### Description of Data without the Outliers"
   ]
  },
  {
   "cell_type": "code",
   "execution_count": 112,
   "metadata": {},
   "outputs": [
    {
     "data": {
      "text/plain": [
       "count    1503.000000\n",
       "mean     1714.437126\n",
       "std      1480.792429\n",
       "min      16.000000  \n",
       "25%      593.500000 \n",
       "50%      1234.000000\n",
       "75%      2475.000000\n",
       "max      6547.000000\n",
       "Name: retweets, dtype: float64"
      ]
     },
     "execution_count": 112,
     "metadata": {},
     "output_type": "execute_result"
    }
   ],
   "source": [
    "# statistical summary of retweets\n",
    "df['retweets'].describe()"
   ]
  },
  {
   "cell_type": "markdown",
   "metadata": {},
   "source": [
    "#### Visualizing Hours Vs Retweets"
   ]
  },
  {
   "cell_type": "code",
   "execution_count": 113,
   "metadata": {},
   "outputs": [
    {
     "data": {
      "image/png": "[encoded data removed]",
      "text/plain": [
       "<Figure size 432x288 with 1 Axes>"
      ]
     },
     "metadata": {},
     "output_type": "display_data"
    }
   ],
   "source": [
    "# generating a copy of the dataframe\n",
    "df_hr = df.copy()\n",
    "\n",
    "\n",
    "# generating a new fields \"Hours\"\n",
    "df_hr['hour'] = df_hr['timestamp'].apply(lambda x: x.hour)\n",
    "\n",
    "# generating a graphical plot for the data\n",
    "g=sns.barplot( x=\"hour\", y=\"retweets\", data=df_hr,estimator=median)\n",
    "g.set_xlabel('Hours')\n",
    "\n",
    "# setting the appropriate headers\n",
    "plt.title('Hours and retweets')\n",
    "plt.ylabel('Retweet Count Median')\n",
    "\n",
    "# exporting the figure\n",
    "fig =g.get_figure()\n",
    "fig.savefig('data/hours_and_retweets.png')"
   ]
  },
  {
   "cell_type": "markdown",
   "metadata": {},
   "source": [
    "#### Visualizing Days Vs Retweets"
   ]
  },
  {
   "cell_type": "code",
   "execution_count": 114,
   "metadata": {},
   "outputs": [
    {
     "data": {
      "image/png": "[encoded data removed]",
      "text/plain": [
       "<Figure size 432x288 with 1 Axes>"
      ]
     },
     "metadata": {},
     "output_type": "display_data"
    }
   ],
   "source": [
    "# generating a copy of the dataframe\n",
    "df_day = df.copy()\n",
    "\n",
    "# generating a new fields \"day\"\n",
    "df_day['day'] = df_day['timestamp'].apply(lambda x: x.day)\n",
    "\n",
    "# generating a graphical plot for the data\n",
    "g=sns.barplot( x=\"day\", y=\"retweets\", data=df_day,estimator=median)\n",
    "g.set_xlabel('days')\n",
    "\n",
    "# setting the appropriate headers\n",
    "plt.title('Month and retweets')\n",
    "plt.ylabel('Retweet Count Median')\n",
    "\n",
    "# exporting the figure\n",
    "fig =g.get_figure()\n",
    "fig.savefig('data/month_and_retweets.png')"
   ]
  },
  {
   "cell_type": "markdown",
   "metadata": {},
   "source": [
    "#### Visualizing Weekdays Vs Retweets"
   ]
  },
  {
   "cell_type": "code",
   "execution_count": 115,
   "metadata": {},
   "outputs": [
    {
     "data": {
      "image/png": "[encoded data removed]",
      "text/plain": [
       "<Figure size 432x288 with 1 Axes>"
      ]
     },
     "metadata": {},
     "output_type": "display_data"
    }
   ],
   "source": [
    "# generating a copy of the dataframe\n",
    "df_weekday = df.copy()\n",
    "\n",
    "# generating a new field \"weekday\"\n",
    "df_weekday['weekday'] = df_weekday['timestamp'].apply(lambda x: x.weekday())\n",
    "\n",
    "# generating a graphical plot for the data\n",
    "g=sns.barplot( x=\"weekday\", y=\"retweets\", data=df_weekday,estimator=median)\n",
    "g.set_xlabel('Days')\n",
    "\n",
    "# setting the appropriate headers\n",
    "plt.title('Days and retweets')\n",
    "plt.ylabel('Retweet Count Median')\n",
    "\n",
    "# exporting the figure\n",
    "fig =g.get_figure()\n",
    "fig.savefig('data/days_and_retweets.png')"
   ]
  },
  {
   "cell_type": "markdown",
   "metadata": {},
   "source": [
    "#### Visualizing Dog Breeds Vs Retweets"
   ]
  },
  {
   "cell_type": "code",
   "execution_count": 116,
   "metadata": {},
   "outputs": [
    {
     "name": "stdout",
     "output_type": "stream",
     "text": [
      "Unique Breeds of Dogs are :  113\n"
     ]
    }
   ],
   "source": [
    "# generating a copy of the dataframe\n",
    "df_breeds = df.copy()\n",
    "\n",
    "# fetching the count of unique breeds\n",
    "print('Unique Breeds of Dogs are : ', df_breeds['breed_predicted'].nunique())\n",
    "\n",
    "# calculating the frequency of various breeds\n",
    "df['breed_predicted'].value_counts()\n",
    "frequency = df['breed_predicted'].value_counts().to_dict()\n",
    "f= pd.DataFrame(list(frequency.items()), columns=['breed', 'frequency'])\n",
    "\n",
    "# filtering the Data for frequencies > 23 only\n",
    "f.drop(f[f.frequency < 23].index, inplace=True)"
   ]
  },
  {
   "cell_type": "code",
   "execution_count": 117,
   "metadata": {},
   "outputs": [
    {
     "data": {
      "text/html": [
       "<div>\n",
       "<style scoped>\n",
       "    .dataframe tbody tr th:only-of-type {\n",
       "        vertical-align: middle;\n",
       "    }\n",
       "\n",
       "    .dataframe tbody tr th {\n",
       "        vertical-align: top;\n",
       "    }\n",
       "\n",
       "    .dataframe thead th {\n",
       "        text-align: right;\n",
       "    }\n",
       "</style>\n",
       "<table border=\"1\" class=\"dataframe\">\n",
       "  <thead>\n",
       "    <tr style=\"text-align: right;\">\n",
       "      <th></th>\n",
       "      <th>breed</th>\n",
       "      <th>frequency</th>\n",
       "      <th>total_retweet</th>\n",
       "    </tr>\n",
       "  </thead>\n",
       "  <tbody>\n",
       "    <tr>\n",
       "      <th>0</th>\n",
       "      <td>Golden Retriever</td>\n",
       "      <td>124</td>\n",
       "      <td>255323</td>\n",
       "    </tr>\n",
       "    <tr>\n",
       "      <th>1</th>\n",
       "      <td>Labrador Retriever</td>\n",
       "      <td>94</td>\n",
       "      <td>192052</td>\n",
       "    </tr>\n",
       "    <tr>\n",
       "      <th>2</th>\n",
       "      <td>Pembroke</td>\n",
       "      <td>82</td>\n",
       "      <td>173160</td>\n",
       "    </tr>\n",
       "    <tr>\n",
       "      <th>3</th>\n",
       "      <td>Chihuahua</td>\n",
       "      <td>80</td>\n",
       "      <td>106989</td>\n",
       "    </tr>\n",
       "    <tr>\n",
       "      <th>4</th>\n",
       "      <td>Pug</td>\n",
       "      <td>57</td>\n",
       "      <td>79586</td>\n",
       "    </tr>\n",
       "  </tbody>\n",
       "</table>\n",
       "</div>"
      ],
      "text/plain": [
       "                breed  frequency  total_retweet\n",
       "0  Golden Retriever    124        255323       \n",
       "1  Labrador Retriever  94         192052       \n",
       "2  Pembroke            82         173160       \n",
       "3  Chihuahua           80         106989       \n",
       "4  Pug                 57         79586        "
      ]
     },
     "execution_count": 117,
     "metadata": {},
     "output_type": "execute_result"
    }
   ],
   "source": [
    "# generating a new field \"total_retweet\"\n",
    "total_retweet =[]\n",
    "for i in f['breed']:\n",
    "    t_r = df[df['breed_predicted'] == i]['retweets'].sum()\n",
    "    total_retweet.append(t_r)\n",
    "\n",
    "f['total_retweet']=total_retweet\n",
    "f.head()"
   ]
  },
  {
   "cell_type": "code",
   "execution_count": 118,
   "metadata": {},
   "outputs": [
    {
     "data": {
      "text/html": [
       "<div>\n",
       "<style scoped>\n",
       "    .dataframe tbody tr th:only-of-type {\n",
       "        vertical-align: middle;\n",
       "    }\n",
       "\n",
       "    .dataframe tbody tr th {\n",
       "        vertical-align: top;\n",
       "    }\n",
       "\n",
       "    .dataframe thead th {\n",
       "        text-align: right;\n",
       "    }\n",
       "</style>\n",
       "<table border=\"1\" class=\"dataframe\">\n",
       "  <thead>\n",
       "    <tr style=\"text-align: right;\">\n",
       "      <th></th>\n",
       "      <th>breed</th>\n",
       "      <th>frequency</th>\n",
       "      <th>total_retweet</th>\n",
       "      <th>retweets</th>\n",
       "    </tr>\n",
       "  </thead>\n",
       "  <tbody>\n",
       "    <tr>\n",
       "      <th>0</th>\n",
       "      <td>Golden Retriever</td>\n",
       "      <td>124</td>\n",
       "      <td>255323</td>\n",
       "      <td>2059</td>\n",
       "    </tr>\n",
       "    <tr>\n",
       "      <th>1</th>\n",
       "      <td>Labrador Retriever</td>\n",
       "      <td>94</td>\n",
       "      <td>192052</td>\n",
       "      <td>2043</td>\n",
       "    </tr>\n",
       "    <tr>\n",
       "      <th>2</th>\n",
       "      <td>Pembroke</td>\n",
       "      <td>82</td>\n",
       "      <td>173160</td>\n",
       "      <td>2111</td>\n",
       "    </tr>\n",
       "    <tr>\n",
       "      <th>3</th>\n",
       "      <td>Chihuahua</td>\n",
       "      <td>80</td>\n",
       "      <td>106989</td>\n",
       "      <td>1337</td>\n",
       "    </tr>\n",
       "    <tr>\n",
       "      <th>4</th>\n",
       "      <td>Pug</td>\n",
       "      <td>57</td>\n",
       "      <td>79586</td>\n",
       "      <td>1396</td>\n",
       "    </tr>\n",
       "  </tbody>\n",
       "</table>\n",
       "</div>"
      ],
      "text/plain": [
       "                breed  frequency  total_retweet  retweets\n",
       "0  Golden Retriever    124        255323         2059    \n",
       "1  Labrador Retriever  94         192052         2043    \n",
       "2  Pembroke            82         173160         2111    \n",
       "3  Chihuahua           80         106989         1337    \n",
       "4  Pug                 57         79586          1396    "
      ]
     },
     "execution_count": 118,
     "metadata": {},
     "output_type": "execute_result"
    }
   ],
   "source": [
    "# generating a new field \"retweet_mean\"\n",
    "f['retweets']=f['total_retweet']//f['frequency']\n",
    "f.head()"
   ]
  },
  {
   "cell_type": "code",
   "execution_count": 119,
   "metadata": {},
   "outputs": [
    {
     "data": {
      "image/png": "[encoded data removed]",
      "text/plain": [
       "<Figure size 1224x720 with 1 Axes>"
      ]
     },
     "metadata": {},
     "output_type": "display_data"
    }
   ],
   "source": [
    "# generating a graphical plot for the data\n",
    "sns.set(rc={'figure.figsize':(17,10)})\n",
    "\n",
    "# setting up the graph layout and design\n",
    "sns.set_style(\"whitegrid\")\n",
    "g = sns.barplot(x=\"breed\", y=\"retweets\", data=f)\n",
    "g.set_ylabel('retweets')\n",
    "\n",
    "# setting the appropriate headers\n",
    "plt.title('Dog Breeds and Retweets')\n",
    "plt.xlabel('Breeds')\n",
    "\n",
    "# exporting the figure\n",
    "fig =g.get_figure()\n",
    "fig.savefig('data/breeds_and_retweets.png')"
   ]
  },
  {
   "cell_type": "markdown",
   "metadata": {},
   "source": [
    "#### Visualizing Rating Vs Retweets"
   ]
  },
  {
   "cell_type": "code",
   "execution_count": 120,
   "metadata": {},
   "outputs": [],
   "source": [
    "# generating a copy of the dataframe\n",
    "df_rating = df.copy()"
   ]
  },
  {
   "cell_type": "code",
   "execution_count": 121,
   "metadata": {},
   "outputs": [],
   "source": [
    "# calculating the rating proportion\n",
    "df_rating['rating']=df_rating['rating_numerator']/df_rating['rating_denominator']"
   ]
  },
  {
   "cell_type": "code",
   "execution_count": 122,
   "metadata": {},
   "outputs": [
    {
     "data": {
      "text/html": [
       "<div>\n",
       "<style scoped>\n",
       "    .dataframe tbody tr th:only-of-type {\n",
       "        vertical-align: middle;\n",
       "    }\n",
       "\n",
       "    .dataframe tbody tr th {\n",
       "        vertical-align: top;\n",
       "    }\n",
       "\n",
       "    .dataframe thead th {\n",
       "        text-align: right;\n",
       "    }\n",
       "</style>\n",
       "<table border=\"1\" class=\"dataframe\">\n",
       "  <thead>\n",
       "    <tr style=\"text-align: right;\">\n",
       "      <th></th>\n",
       "      <th>rating</th>\n",
       "      <th>frequency</th>\n",
       "    </tr>\n",
       "  </thead>\n",
       "  <tbody>\n",
       "    <tr>\n",
       "      <th>0</th>\n",
       "      <td>1.2</td>\n",
       "      <td>374</td>\n",
       "    </tr>\n",
       "    <tr>\n",
       "      <th>1</th>\n",
       "      <td>1.0</td>\n",
       "      <td>346</td>\n",
       "    </tr>\n",
       "    <tr>\n",
       "      <th>2</th>\n",
       "      <td>1.1</td>\n",
       "      <td>336</td>\n",
       "    </tr>\n",
       "    <tr>\n",
       "      <th>3</th>\n",
       "      <td>1.3</td>\n",
       "      <td>157</td>\n",
       "    </tr>\n",
       "    <tr>\n",
       "      <th>4</th>\n",
       "      <td>0.9</td>\n",
       "      <td>132</td>\n",
       "    </tr>\n",
       "  </tbody>\n",
       "</table>\n",
       "</div>"
      ],
      "text/plain": [
       "   rating  frequency\n",
       "0  1.2     374      \n",
       "1  1.0     346      \n",
       "2  1.1     336      \n",
       "3  1.3     157      \n",
       "4  0.9     132      "
      ]
     },
     "execution_count": 122,
     "metadata": {},
     "output_type": "execute_result"
    }
   ],
   "source": [
    "# generating a df with rating and frequency\n",
    "df_rating['rating'].value_counts()\n",
    "frequency = df_rating['rating'].value_counts().to_dict()\n",
    "f = pd.DataFrame(list(frequency.items()), columns=['rating', 'frequency'])\n",
    "f.head()"
   ]
  },
  {
   "cell_type": "code",
   "execution_count": 123,
   "metadata": {},
   "outputs": [
    {
     "data": {
      "text/html": [
       "<div>\n",
       "<style scoped>\n",
       "    .dataframe tbody tr th:only-of-type {\n",
       "        vertical-align: middle;\n",
       "    }\n",
       "\n",
       "    .dataframe tbody tr th {\n",
       "        vertical-align: top;\n",
       "    }\n",
       "\n",
       "    .dataframe thead th {\n",
       "        text-align: right;\n",
       "    }\n",
       "</style>\n",
       "<table border=\"1\" class=\"dataframe\">\n",
       "  <thead>\n",
       "    <tr style=\"text-align: right;\">\n",
       "      <th></th>\n",
       "      <th>rating</th>\n",
       "      <th>frequency</th>\n",
       "      <th>total_retweet</th>\n",
       "      <th>retweets</th>\n",
       "    </tr>\n",
       "  </thead>\n",
       "  <tbody>\n",
       "    <tr>\n",
       "      <th>0</th>\n",
       "      <td>1.2</td>\n",
       "      <td>374</td>\n",
       "      <td>865757</td>\n",
       "      <td>2314</td>\n",
       "    </tr>\n",
       "    <tr>\n",
       "      <th>1</th>\n",
       "      <td>1.0</td>\n",
       "      <td>346</td>\n",
       "      <td>384751</td>\n",
       "      <td>1111</td>\n",
       "    </tr>\n",
       "    <tr>\n",
       "      <th>2</th>\n",
       "      <td>1.1</td>\n",
       "      <td>336</td>\n",
       "      <td>537793</td>\n",
       "      <td>1600</td>\n",
       "    </tr>\n",
       "    <tr>\n",
       "      <th>3</th>\n",
       "      <td>1.3</td>\n",
       "      <td>157</td>\n",
       "      <td>506977</td>\n",
       "      <td>3229</td>\n",
       "    </tr>\n",
       "    <tr>\n",
       "      <th>4</th>\n",
       "      <td>0.9</td>\n",
       "      <td>132</td>\n",
       "      <td>106195</td>\n",
       "      <td>804</td>\n",
       "    </tr>\n",
       "  </tbody>\n",
       "</table>\n",
       "</div>"
      ],
      "text/plain": [
       "   rating  frequency  total_retweet  retweets\n",
       "0  1.2     374        865757         2314    \n",
       "1  1.0     346        384751         1111    \n",
       "2  1.1     336        537793         1600    \n",
       "3  1.3     157        506977         3229    \n",
       "4  0.9     132        106195         804     "
      ]
     },
     "execution_count": 123,
     "metadata": {},
     "output_type": "execute_result"
    }
   ],
   "source": [
    "# calculating the totals for Retweet\n",
    "total_retweet =[]\n",
    "for i in f['rating']:\n",
    "    t_r = df_rating[df_rating['rating'] == i]['retweets'].sum()\n",
    "    total_retweet.append(t_r)\n",
    "\n",
    "f['total_retweet']=total_retweet\n",
    "f.head()\n",
    "\n",
    "# calculating the mean for Retweets\n",
    "f['retweets']=f['total_retweet']//f['frequency']\n",
    "f.head()"
   ]
  },
  {
   "cell_type": "code",
   "execution_count": 124,
   "metadata": {},
   "outputs": [
    {
     "data": {
      "image/png": "[encoded data removed]",
      "text/plain": [
       "<Figure size 1224x720 with 1 Axes>"
      ]
     },
     "metadata": {},
     "output_type": "display_data"
    }
   ],
   "source": [
    "# generating a graphical plot for the data\n",
    "sns.set(rc={'figure.figsize':(17,10)})\n",
    "\n",
    "# setting up the graph layout and design\n",
    "sns.set_style(\"whitegrid\")\n",
    "g = sns.barplot(x=\"rating\", y=\"retweets\", data=f)\n",
    "g.set_ylabel('Retweets mean')\n",
    "\n",
    "# setting the appropriate headers\n",
    "plt.title('Rating ratio and retweets')\n",
    "plt.xlabel('Rating ratio')\n",
    "\n",
    "# exporting the figure\n",
    "fig =g.get_figure()\n",
    "fig.savefig('data/rating_and_retweets.png')"
   ]
  },
  {
   "cell_type": "code",
   "execution_count": 125,
   "metadata": {},
   "outputs": [
    {
     "data": {
      "text/plain": [
       "(0.0, 8031.118940295347)"
      ]
     },
     "execution_count": 125,
     "metadata": {},
     "output_type": "execute_result"
    },
    {
     "data": {
      "image/png": "[encoded data removed]",
      "text/plain": [
       "<Figure size 1224x720 with 1 Axes>"
      ]
     },
     "metadata": {},
     "output_type": "display_data"
    }
   ],
   "source": [
    "# favorites as potential predictor variable of retweets\n",
    "# setting up the graph layout and design\n",
    "sns.set_style(\"whitegrid\")\n",
    "sns.regplot(x=\"favorites\", y=\"retweets\", color=\"green\", data=df)\n",
    "plt.ylim(0,)"
   ]
  }
 ],
 "metadata": {
  "kernelspec": {
   "display_name": "Python 3",
   "language": "python",
   "name": "python3"
  },
  "language_info": {
   "codemirror_mode": {
    "name": "ipython",
    "version": 3
   },
   "file_extension": ".py",
   "mimetype": "text/x-python",
   "name": "python",
   "nbconvert_exporter": "python",
   "pygments_lexer": "ipython3",
   "version": "3.8.5"
  }
 },
 "nbformat": 4,
 "nbformat_minor": 2
}
